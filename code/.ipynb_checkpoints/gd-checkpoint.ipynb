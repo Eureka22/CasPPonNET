{
 "metadata": {
  "name": ""
 },
 "nbformat": 3,
 "nbformat_minor": 0,
 "worksheets": [
  {
   "cells": [
    {
     "cell_type": "code",
     "collapsed": false,
     "input": [
      "import numpy as np\n",
      "import scipy\n",
      "from sklearn import *\n",
      "import matplotlib.pyplot as plt\n",
      "import csv\n",
      "from dateutil.parser import parse\n",
      "import requests\n",
      "from bs4 import BeautifulSoup\n",
      "from mpl_toolkits.basemap import Basemap,shiftgrid\n",
      "\n",
      "import pickle\n",
      "import math\n",
      "\n",
      "%matplotlib inline"
     ],
     "language": "python",
     "metadata": {},
     "outputs": [],
     "prompt_number": 173
    },
    {
     "cell_type": "code",
     "collapsed": false,
     "input": [
      "c = pickle.load(file('newcity.pkl'))\n",
      "o = pickle.load(file('citydata.pkl'))"
     ],
     "language": "python",
     "metadata": {},
     "outputs": [],
     "prompt_number": 90
    },
    {
     "cell_type": "code",
     "collapsed": false,
     "input": [
      "def fc(x):\n",
      "    return x[2] == 'Confirmed'\n",
      "def fp(x):\n",
      "    return x[2] != 'Confirmed'\n",
      "\n",
      "oc = filter(fc,o)\n",
      "op = filter(fp,o)\n"
     ],
     "language": "python",
     "metadata": {},
     "outputs": [],
     "prompt_number": 91
    },
    {
     "cell_type": "code",
     "collapsed": false,
     "input": [
      "ocd = [item[5] for item in oc]\n",
      "ocp = [item[5] for item in op]\n",
      "day = [item[4] for item in oc]\n",
      "\n",
      "plt.scatter(day,ocd,marker='*',label = 'confirmed')\n",
      "plt.scatter(day,ocp,marker='+', label = 'probable')\n",
      "plt.legend(loc=2)"
     ],
     "language": "python",
     "metadata": {},
     "outputs": [
      {
       "metadata": {},
       "output_type": "pyout",
       "prompt_number": 92,
       "text": [
        "<matplotlib.legend.Legend at 0x10b575d90>"
       ]
      },
      {
       "metadata": {},
       "output_type": "display_data",
       "png": "[encoded data removed]",
       "text": [
        "<matplotlib.figure.Figure at 0x10b8829d0>"
       ]
      }
     ],
     "prompt_number": 92
    },
    {
     "cell_type": "code",
     "collapsed": false,
     "input": [
      "fig = plt.figure(figsize=(12,12))\n",
      "m = Basemap(width=1400000,height=900000,projection='lcc',\n",
      "            resolution='h',lat_1=15.,lat_2=-7,lat_0=9,lon_0=-10.)\n",
      "# draw coastlines.\n",
      "m.drawcoastlines()\n",
      "\n",
      "# draw a boundary around the map, fill the background.\n",
      "# this background will end up being the ocean color, since\n",
      "# the continents will be drawn on top.\n",
      "#m.drawmapboundary(fill_color='aqua')\n",
      "#m.drawcounties()\n",
      "# fill continents, set lake color same as ocean color.\n",
      "#m.fillcontinents(color='coral',lake_color='aqua')\n",
      "parallels = np.arange(-20.,20,3.)\n",
      "# labels = [left,right,top,bottom]\n",
      "m.drawparallels(parallels,labels=[False,True,True,False])\n",
      "meridians = np.arange(-20.,20.,3.)\n",
      "m.drawmeridians(meridians,labels=[True,False,False,True])\n",
      "#m.bluemarble()\n",
      "\n",
      "#m.shadedrelief()\n",
      "#m.drawcountries()\n",
      "#m.drawcounties()\n",
      "f = open('newcity.pkl','r')\n",
      "c = pickle.load(f)\n",
      "\n",
      "posx = [info[3] for info in c]\n",
      "posy = [info[4] for info in c]\n",
      "size = [info[2] for info in c]\n",
      "\n",
      "for i in range(len(posx)):\n",
      "    xpt,ypt = m(posy[i], posx[i])\n",
      "    print xpt,ypt\n",
      "    m.plot(xpt,ypt,'ro',markersize=size[i]/20000.0) \n",
      "    plt.text(xpt+10000,ypt+10000,'%s' % (c[i][1]),fontsize = 10)\n",
      "#plt.plot(posx,posy)\n",
      "\n",
      "plt.savefig('population.png', dpi=300)\n",
      "plt.savefig('population.pdf')"
     ],
     "language": "python",
     "metadata": {},
     "outputs": [
      {
       "output_type": "stream",
       "stream": "stdout",
       "text": [
        "571051.011836 335322.690161\n",
        "465849.374062 481481.917669\n",
        "500600.176943 408475.435751\n",
        "598923.33073 417948.013952\n",
        "528748.503659 266145.553298\n",
        "350244.042071 394177.912655\n",
        "518683.345915 339469.667825\n",
        "554431.54537 506010.582166\n",
        "618590.08204 352332.766099\n",
        "435211.155008 347791.004878\n",
        "395646.168639 470524.489143\n",
        "446751.883446 287956.240844\n",
        "401324.07195 420255.376903\n",
        "902492.71076 129611.014792\n",
        "695141.434543 108915.589923\n",
        "661620.469628 179966.197103\n",
        "727314.18019 386696.073878\n",
        "772412.330575 121931.977833\n",
        "613473.998954 154771.755482\n",
        "949144.299929 -54813.3397503\n",
        "757256.103949 230690.437183\n",
        "804521.558524 13987.4533796\n",
        "451643.300657 642375.766647\n",
        "579398.314889 625624.372277\n",
        "340138.099132 661082.185366\n",
        "880621.625268 322462.585168\n",
        "753928.880325 742893.309149\n",
        "334879.762913 528103.40096\n",
        "708999.341996 632867.973124\n",
        "871360.486367 441036.31539\n",
        "302323.101593 509861.53136\n",
        "390284.555335 566446.051441\n",
        "475413.742165 789075.070061\n",
        "421077.756248 651627.174029\n",
        "799177.9878 468318.952126\n",
        "364709.837019 498131.184873\n",
        "627184.936548 729509.281588\n",
        "527384.518257 721024.491334\n",
        "685534.487713 402622.8917\n",
        "775007.929221 602001.720905\n",
        "790348.024752 285866.60912\n",
        "763165.420364 395259.985309\n",
        "312907.454296 606251.219585\n",
        "203236.962967 634267.190692\n",
        "249846.102292 597398.118158\n",
        "330835.002897"
       ]
      },
      {
       "output_type": "stream",
       "stream": "stdout",
       "text": [
        " 587871.045834\n",
        "654807.356993 249387.199384\n",
        "890335.824434 3819.77875463\n",
        "835647.607656 203939.734127\n",
        "609558.981942 194776.089189\n",
        "926497.315312 40295.0025338\n",
        "364805.655879 376516.343938\n",
        "591537.687881 249442.102013\n",
        "828254.550998 313255.477754\n",
        "624824.376036 596738.879883\n"
       ]
      },
      {
       "metadata": {},
       "output_type": "display_data",
       "png": "[encoded data removed]",
       "text": [
        "<matplotlib.figure.Figure at 0x10b358410>"
       ]
      }
     ],
     "prompt_number": 35
    },
    {
     "cell_type": "code",
     "collapsed": false,
     "input": [
      "len(c)"
     ],
     "language": "python",
     "metadata": {},
     "outputs": [
      {
       "metadata": {},
       "output_type": "pyout",
       "prompt_number": 31,
       "text": [
        "47"
       ]
      }
     ],
     "prompt_number": 31
    },
    {
     "cell_type": "code",
     "collapsed": false,
     "input": [
      "c[45][2] = 10363\n",
      "c[10][2] = 174290"
     ],
     "language": "python",
     "metadata": {},
     "outputs": [
      {
       "metadata": {},
       "output_type": "pyout",
       "prompt_number": 25,
       "text": [
        "0"
       ]
      }
     ],
     "prompt_number": 25
    },
    {
     "cell_type": "code",
     "collapsed": false,
     "input": [
      "c"
     ],
     "language": "python",
     "metadata": {},
     "outputs": [
      {
       "metadata": {},
       "output_type": "pyout",
       "prompt_number": 33,
       "text": [
        "[['SL', 'KENEMA', 493928, 7.951709, -11.190037],\n",
        " ['SL', 'BOMBALI', 409254, 9.284438, -12.164489],\n",
        " ['SL', 'TONKOLILI', 350353, 8.618846, -11.841731],\n",
        " ['SL', 'KONO', 337954, 8.706871, -10.933683],\n",
        " ['SL', 'PUJEHUN', 240682, 7.318547, -11.5792],\n",
        " ['SL', 'FREETOWN', 802639, 8.48400258773548, -13.229942321777344],\n",
        " ['SL', 'BO', 482884, 7.988772, -11.673402],\n",
        " ['SL', 'KOINADUGU', 236269, 9.509906, -11.346011],\n",
        " ['SL', 'KAILAHUN', 363767, 8.107683, -10.751456],\n",
        " ['SL', 'MOYAMBA', 258909, 8.062898, -12.444007],\n",
        " ['SL', 'KAMBIA', 281141, 9.182514, -12.813094],\n",
        " ['SL', 'BONTHE', 131580, 7.516217, -12.335906],\n",
        " ['SL', 'PORT LOKO', 460230, 8.723858, -12.759044],\n",
        " ['LR', 'GRAND GEDEH', 25678, 6.068462, -8.135585],\n",
        " ['LR', 'GRAND BASSA', 25731, 5.881086, -10.044724],\n",
        " ['LR', 'MARGIBI', 33945, 6.531469, -10.353574],\n",
        " ['LR', 'LOFA', 26594, 8.4219444, -9.7477778],\n",
        " ['LR', 'RIVERCESS', 72000, 6.0, -9.3333333],\n",
        " ['LR', 'MONTSERRADO', 939524, 6.300539726631287, -10.796899795532227],\n",
        " ['LR', 'MARYLAND', 32661, 4.378199, -7.710813],\n",
        " ['LR', 'BONG', 45835, 6.9955556, -9.4722222],\n",
        " ['LR', 'SINOE', 16434, 5.0111111, -9.0388889],\n",
        " ['GN', 'DALABA', 154820, 10.75, -12.3],\n",
        " ['GN', 'DABOLA', 114250, 10.6, -11.116667],\n",
        " ['GN', 'TELIMELE', 283642, 10.9166667, -13.3333333],\n",
        " ['GN', 'LOLA', 124393, 7.833333, -8.333333],\n",
        " ['GN', 'SIGUIRI', 243888, 11.6666667, -9.5],\n",
        " ['GN', 'COYAH', 77103, 9.705556, -13.376944],\n",
        " ['GN', 'KOUROUSSA', 159600, 10.666667, -9.916667],\n",
        " ['GN', 'BEYLA', 188045, 8.9166667, -8.4166667],\n",
        " ['GN', 'CONAKRY', 1767200, 9.537949753673535, -13.677291870117188],\n",
        " ['GN', 'KINDIA', 117062, 10.056923953951774, -12.865762710571289],\n",
        " ['GN', 'MALI', 245870, 12.0833333, -12.0833333],\n",
        " ['GN', 'PITA', 265689, 10.833333, -12.583333],\n",
        " ['GN', 'KEROUANE', 124625, 9.1666667, -9.0833333],\n",
        " ['GN', 'FORECARIAH', 135817, 9.4333333, -13.1],\n",
        " ['GN', 'DINGUIRAYE', 155636, 11.545, -10.675],\n",
        " ['GN', 'TOUGUE', 132086, 11.4666667, -11.6],\n",
        " ['GN', 'GUECKEDOU', 79140, 8.567441790924521, -10.133600234985352],\n",
        " ['GN', 'KANKAN', 114009, 10.38542172084099, -9.30567741394043],\n",
        " ['GN', 'YOMOU', 86736, 7.5, -9.166667],\n",
        " ['GN', 'MACENTA', 296192, 8.5, -9.416667],\n",
        " ['GN', 'FRIA', 82073, 10.416667, -13.583333],\n",
        " ['GN', 'BOKE', 61527, 10.6666667, -14.6],\n",
        " ['GN', 'BOFFA', 165196, 10.333333, -14.166667],\n",
        " ['GN', 'DUBREKA', 8300, 10.25, -13.4166667],\n",
        " ['LR', 'GBARPOLU', 83758, 7.1666667, -10.4166667],\n",
        " ['LR', 'GRAND KRU', 57106, 4.9166667, -8.25],\n",
        " ['LR', 'NIMBA', 462026, 6.75, -8.75],\n",
        " ['LR', 'BOMI', 84119, 6.666667, -10.833333],\n",
        " ['LR', 'RIVER GEE', 66789, 5.25, -7.9166667],\n",
        " ['SL', 'WESTERN RURAL', 197098, 8.323185, -13.094851],\n",
        " ['LR', 'GRAND CAPE MOUNT', 129055, 7.1666667, -11.0],\n",
        " ['GN', \"N'ZEREKORE\", 300000, 7.75, -8.816667],\n",
        " ['GN', 'FARANAH', 78108, 10.3375, -10.69583335]]"
       ]
      }
     ],
     "prompt_number": 33
    },
    {
     "cell_type": "code",
     "collapsed": false,
     "input": [
      "len(c)"
     ],
     "language": "python",
     "metadata": {},
     "outputs": [
      {
       "metadata": {},
       "output_type": "pyout",
       "prompt_number": 34,
       "text": [
        "55"
       ]
      }
     ],
     "prompt_number": 34
    },
    {
     "cell_type": "code",
     "collapsed": false,
     "input": [
      "nodes = c"
     ],
     "language": "python",
     "metadata": {},
     "outputs": [],
     "prompt_number": 37
    },
    {
     "cell_type": "code",
     "collapsed": false,
     "input": [
      "edge = []\n",
      "for i in range(len(nodes)):\n",
      "    node = nodes[i]\n",
      "    dist = []\n",
      "    for j in range(len(nodes)):\n",
      "        nodeto = nodes[j]\n",
      "        if node[1] == nodeto[1]:\n",
      "            dist.append(0)\n",
      "        else:\n",
      "            d = node[2]*nodeto[2]/((node[3] - nodeto[3])**2 + (node[4] - nodeto[4])**2) /1e10\n",
      "            dist.append(d)\n",
      "    edge.append(dist)"
     ],
     "language": "python",
     "metadata": {},
     "outputs": [],
     "prompt_number": 47
    },
    {
     "cell_type": "code",
     "collapsed": false,
     "input": [
      "names = [item[1] for item in c]\n",
      "dat = [item[2:] for item in c]"
     ],
     "language": "python",
     "metadata": {},
     "outputs": [],
     "prompt_number": 56
    },
    {
     "cell_type": "code",
     "collapsed": false,
     "input": [
      "d = {'names':names,'nodes': dat, 'edges':edge};\n",
      "scipy.io.savemat('../data/graph.mat',d)"
     ],
     "language": "python",
     "metadata": {},
     "outputs": [],
     "prompt_number": 57
    },
    {
     "cell_type": "code",
     "collapsed": false,
     "input": [
      "fig = plt.figure(figsize=(12,12))\n",
      "m = Basemap(width=1600000,height=1100000,projection='lcc',\n",
      "            resolution='h',lat_1=15.,lat_2=-7,lat_0=9,lon_0=-10.)\n",
      "# draw coastlines.\n",
      "m.drawcoastlines()\n",
      "\n",
      "# draw a boundary around the map, fill the background.\n",
      "# this background will end up being the ocean color, since\n",
      "# the continents will be drawn on top.\n",
      "#m.drawmapboundary(fill_color='aqua')\n",
      "#m.drawcounties()\n",
      "# fill continents, set lake color same as ocean color.\n",
      "#m.fillcontinents(color='coral',lake_color='aqua')\n",
      "parallels = np.arange(-20.,20,3.)\n",
      "# labels = [left,right,top,bottom]\n",
      "m.drawparallels(parallels,labels=[False,True,True,False])\n",
      "meridians = np.arange(-20.,20.,3.)\n",
      "m.drawmeridians(meridians,labels=[True,False,False,True])\n",
      "#m.bluemarble()\n",
      "\n",
      "#m.shadedrelief()\n",
      "#m.drawcountries()\n",
      "#m.drawcounties()\n",
      "f = open('newcity.pkl','r')\n",
      "c = pickle.load(f)\n",
      "\n",
      "posx = [info[3] for info in c]\n",
      "posy = [info[4] for info in c]\n",
      "size = [info[2] for info in c]\n",
      "\n",
      "for i in range(len(posx)):\n",
      "    xpt,ypt = m(posy[i], posx[i])\n",
      "    #print xpt,ypt\n",
      "    m.plot(xpt,ypt,'ro',markersize=max(np.sqrt(size[i])/30,5.0),alpha = 0.5) \n",
      "    plt.text(xpt+5000,ypt+5000,'%s' % (c[i][1]),fontsize = 6)\n",
      "    \n",
      "    \n",
      "thre = 5\n",
      "for i in range(len(posx)):\n",
      "    for j in range(i):\n",
      "        if edge[i][j] > thre:\n",
      "            xpt1,ypt1 = m(posy[i], posx[i])\n",
      "            xpt2,ypt2 = m(posy[j], posx[j])\n",
      "            xpt = [xpt1,xpt2]\n",
      "            ypt = [ypt1,ypt2]\n",
      "            #print xpt,xpt\n",
      "            a = edge[i][j]/40.0\n",
      "            if a>1.0:a = 1.0\n",
      "            m.plot(xpt,ypt,color = 'b',lw=2,alpha = a) \n",
      "            \n",
      "    \n",
      "#plt.plot(posx,posy)\n",
      "\n",
      "plt.savefig('netwrork.png', dpi=300)\n",
      "plt.savefig('network.pdf')"
     ],
     "language": "python",
     "metadata": {},
     "outputs": [
      {
       "metadata": {},
       "output_type": "display_data",
       "png": "[encoded data removed]",
       "text": [
        "<matplotlib.figure.Figure at 0x10c631d50>"
       ]
      }
     ],
     "prompt_number": 565
    },
    {
     "cell_type": "code",
     "collapsed": false,
     "input": [
      "def update(lambda1,lambda2,beta,p,sigma,n,steps,deltat,mu,window = 3):\n",
      "    #print type(p)\n",
      "    sum1 = 0\n",
      "    sum2 = 0\n",
      "    df = math.exp(-beta*deltat)\n",
      "    for i in range(n):\n",
      "        for k in range(1,steps):\n",
      "            t1 = 0\n",
      "            t3 = 0\n",
      "            df0 = pow(df,k-max(0,k-window))\n",
      "            for m in range(max(0,k-window),k):\n",
      "                t1 = t1 +p[i,m]*df0\n",
      "                t3 = t3+np.sum(p[:,m1]*sigma[i,:])*df0\n",
      "                df0 = df0/df\n",
      "            t2 = t1*p[i,k]\n",
      "            t4 = t1*deltat\n",
      "            sum1 = sum1 + t2/(lambda1*t1 + lambda2*t3+1e-30) - t4 - mu*2*lambda1\n",
      "            t5 = t3*p[i,k]\n",
      "            t6 = t3*deltat\n",
      "            sum2 = sum2 + t5/(lambda1*t1 + lambda2*t3+1e-30) - t6 - mu*2*lambda2\n",
      "            #print (lambda1*t1 + lambda2*t3)*deltat\n",
      "            #print t1\n",
      "    return sum1,sum2\n",
      "    "
     ],
     "language": "python",
     "metadata": {},
     "outputs": [],
     "prompt_number": 538
    },
    {
     "cell_type": "code",
     "collapsed": false,
     "input": [
      "deltat = 14\n",
      "steps = 400/deltat\n",
      "citynames = [item[1] for item in c]\n",
      "p = []\n",
      "for i in range(steps):\n",
      "    d1 = deltat*i\n",
      "    d2 = deltat*(i + 1)\n",
      "    size = []\n",
      "    for name in citynames:\n",
      "        s = 0\n",
      "        for record in o:\n",
      "            if (record[4] > d1) and (record[4] <= d2) and (record[2] == 'Confirmed') and (record[1] == name):\n",
      "                s = s + record[5]\n",
      "        size.append(s)\n",
      "    p.append(size)\n",
      "p = np.array(p)\n",
      "print p\n",
      "print p.shape\n",
      "\n",
      "plt.plot(p)\n",
      "\n",
      "p = p.transpose()"
     ],
     "language": "python",
     "metadata": {},
     "outputs": [
      {
       "output_type": "stream",
       "stream": "stdout",
       "text": [
        "[[ 0  0  0 ...,  0  0  0]\n",
        " [ 0  0  0 ...,  0  0  0]\n",
        " [ 0  0  0 ...,  0  0  0]\n",
        " ..., \n",
        " [ 0 23 21 ...,  0  4  2]\n",
        " [ 1 12 11 ...,  0  1  5]\n",
        " [ 0  0  2 ...,  0  2  1]]\n",
        "(28, 55)\n"
       ]
      },
      {
       "metadata": {},
       "output_type": "display_data",
       "png": "[encoded data removed]",
       "text": [
        "<matplotlib.figure.Figure at 0x10e7653d0>"
       ]
      }
     ],
     "prompt_number": 569
    },
    {
     "cell_type": "code",
     "collapsed": false,
     "input": [
      "lambda1 = 0.6\n",
      "lambda2 = 0.001\n",
      "gamma = 10e-8\n",
      "beta = 0.1\n",
      "m =  max(max(edge))\n",
      "sigma = np.array(edge)/m\n",
      "n = len(c)\n",
      "reg = 0"
     ],
     "language": "python",
     "metadata": {},
     "outputs": [],
     "prompt_number": 570
    },
    {
     "cell_type": "code",
     "collapsed": false,
     "input": [
      "l = []\n",
      "oldlambda1 = 0\n",
      "oldlambda2 = 0\n",
      "Thre = 1e-6\n",
      "MaxIter = 2400\n",
      "Iter = 0\n",
      "while np.sqrt((abs(lambda1 - oldlambda1)**2 + abs(oldlambda2 - lambda2)**2)) > Thre and Iter < MaxIter:\n",
      "    oldlambda1,oldlambda2 = lambda1,lambda2\n",
      "    sum1,sum2 = update(lambda1,lambda2,beta,p,sigma,n,steps,deltat,reg,window = 1000)\n",
      "    lambda1 = lambda1 + sum1 * gamma;\n",
      "    lambda2 = 0#lambda2 + sum2 * gamma;\n",
      "    l.append([lambda1,lambda2])\n",
      "    print 'Iter:',Iter,lambda1,lambda2 \n",
      "    Iter += 1\n",
      "print 'result:',lambda1,lambda2 "
     ],
     "language": "python",
     "metadata": {},
     "outputs": [
      {
       "output_type": "stream",
       "stream": "stdout",
       "text": [
        "Iter: 0 0.213658575369 0\n",
        "Iter:"
       ]
      },
      {
       "output_type": "stream",
       "stream": "stdout",
       "text": [
        " 1 0.213848712815 0\n",
        "Iter:"
       ]
      },
      {
       "output_type": "stream",
       "stream": "stdout",
       "text": [
        " 2 0.214033153288 0\n",
        "Iter:"
       ]
      },
      {
       "output_type": "stream",
       "stream": "stdout",
       "text": [
        " 3 0.214212077156 0\n",
        "Iter:"
       ]
      },
      {
       "output_type": "stream",
       "stream": "stdout",
       "text": [
        " 4 0.214385658496 0\n",
        "Iter:"
       ]
      },
      {
       "output_type": "stream",
       "stream": "stdout",
       "text": [
        " 5 0.214554065355 0\n",
        "Iter:"
       ]
      },
      {
       "output_type": "stream",
       "stream": "stdout",
       "text": [
        " 6 0.214717459988 0\n",
        "Iter:"
       ]
      },
      {
       "output_type": "stream",
       "stream": "stdout",
       "text": [
        " 7 0.214875999084 0\n",
        "Iter:"
       ]
      },
      {
       "output_type": "stream",
       "stream": "stdout",
       "text": [
        " 8 0.215029833994 0\n",
        "Iter:"
       ]
      },
      {
       "output_type": "stream",
       "stream": "stdout",
       "text": [
        " 9 0.215179110931 0\n",
        "Iter:"
       ]
      },
      {
       "output_type": "stream",
       "stream": "stdout",
       "text": [
        " 10 0.215323971174 0\n",
        "Iter:"
       ]
      },
      {
       "output_type": "stream",
       "stream": "stdout",
       "text": [
        " 11 0.215464551256 0\n",
        "Iter:"
       ]
      },
      {
       "output_type": "stream",
       "stream": "stdout",
       "text": [
        " 12 0.215600983143 0\n",
        "Iter:"
       ]
      },
      {
       "output_type": "stream",
       "stream": "stdout",
       "text": [
        " 13 0.215733394413 0\n",
        "Iter:"
       ]
      },
      {
       "output_type": "stream",
       "stream": "stdout",
       "text": [
        " 14 0.215861908415 0\n",
        "Iter:"
       ]
      },
      {
       "output_type": "stream",
       "stream": "stdout",
       "text": [
        " 15 0.21598664443 0\n",
        "Iter:"
       ]
      },
      {
       "output_type": "stream",
       "stream": "stdout",
       "text": [
        " 16 0.21610771782 0\n",
        "Iter:"
       ]
      },
      {
       "output_type": "stream",
       "stream": "stdout",
       "text": [
        " 17 0.216225240174 0\n",
        "Iter:"
       ]
      },
      {
       "output_type": "stream",
       "stream": "stdout",
       "text": [
        " 18 0.216339319448 0\n",
        "Iter:"
       ]
      },
      {
       "output_type": "stream",
       "stream": "stdout",
       "text": [
        " 19 0.216450060091 0\n",
        "Iter:"
       ]
      },
      {
       "output_type": "stream",
       "stream": "stdout",
       "text": [
        " 20 0.216557563178 0\n",
        "Iter:"
       ]
      },
      {
       "output_type": "stream",
       "stream": "stdout",
       "text": [
        " 21 0.216661926527 0\n",
        "Iter:"
       ]
      },
      {
       "output_type": "stream",
       "stream": "stdout",
       "text": [
        " 22 0.21676324482 0\n",
        "Iter:"
       ]
      },
      {
       "output_type": "stream",
       "stream": "stdout",
       "text": [
        " 23 0.216861609706 0\n",
        "Iter:"
       ]
      },
      {
       "output_type": "stream",
       "stream": "stdout",
       "text": [
        " 24 0.216957109919 0\n",
        "Iter:"
       ]
      },
      {
       "output_type": "stream",
       "stream": "stdout",
       "text": [
        " 25 0.21704983137 0\n",
        "Iter:"
       ]
      },
      {
       "output_type": "stream",
       "stream": "stdout",
       "text": [
        " 26 0.217139857253 0\n",
        "Iter:"
       ]
      },
      {
       "output_type": "stream",
       "stream": "stdout",
       "text": [
        " 27 0.217227268135 0\n",
        "Iter:"
       ]
      },
      {
       "output_type": "stream",
       "stream": "stdout",
       "text": [
        " 28 0.217312142049 0\n",
        "Iter:"
       ]
      },
      {
       "output_type": "stream",
       "stream": "stdout",
       "text": [
        " 29 0.217394554579 0\n",
        "Iter:"
       ]
      },
      {
       "output_type": "stream",
       "stream": "stdout",
       "text": [
        " 30 0.217474578946 0\n",
        "Iter:"
       ]
      },
      {
       "output_type": "stream",
       "stream": "stdout",
       "text": [
        " 31 0.217552286086 0\n",
        "Iter:"
       ]
      },
      {
       "output_type": "stream",
       "stream": "stdout",
       "text": [
        " 32 0.217627744729 0\n",
        "Iter:"
       ]
      },
      {
       "output_type": "stream",
       "stream": "stdout",
       "text": [
        " 33 0.217701021474 0\n",
        "Iter:"
       ]
      },
      {
       "output_type": "stream",
       "stream": "stdout",
       "text": [
        " 34 0.217772180858 0\n",
        "Iter:"
       ]
      },
      {
       "output_type": "stream",
       "stream": "stdout",
       "text": [
        " 35 0.217841285426 0\n",
        "Iter:"
       ]
      },
      {
       "output_type": "stream",
       "stream": "stdout",
       "text": [
        " 36 0.2179083958 0\n",
        "Iter:"
       ]
      },
      {
       "output_type": "stream",
       "stream": "stdout",
       "text": [
        " 37 0.217973570737 0\n",
        "Iter:"
       ]
      },
      {
       "output_type": "stream",
       "stream": "stdout",
       "text": [
        " 38 0.218036867196 0\n",
        "Iter:"
       ]
      },
      {
       "output_type": "stream",
       "stream": "stdout",
       "text": [
        " 39 0.218098340393 0\n",
        "Iter:"
       ]
      },
      {
       "output_type": "stream",
       "stream": "stdout",
       "text": [
        " 40 0.218158043859 0\n",
        "Iter:"
       ]
      },
      {
       "output_type": "stream",
       "stream": "stdout",
       "text": [
        " 41 0.218216029499 0\n",
        "Iter:"
       ]
      },
      {
       "output_type": "stream",
       "stream": "stdout",
       "text": [
        " 42 0.218272347638 0\n",
        "Iter:"
       ]
      },
      {
       "output_type": "stream",
       "stream": "stdout",
       "text": [
        " 43 0.218327047077 0\n",
        "Iter:"
       ]
      },
      {
       "output_type": "stream",
       "stream": "stdout",
       "text": [
        " 44 0.218380175141 0\n",
        "Iter:"
       ]
      },
      {
       "output_type": "stream",
       "stream": "stdout",
       "text": [
        " 45 0.218431777723 0\n",
        "Iter:"
       ]
      },
      {
       "output_type": "stream",
       "stream": "stdout",
       "text": [
        " 46 0.218481899338 0\n",
        "Iter:"
       ]
      },
      {
       "output_type": "stream",
       "stream": "stdout",
       "text": [
        " 47 0.218530583156 0\n",
        "Iter:"
       ]
      },
      {
       "output_type": "stream",
       "stream": "stdout",
       "text": [
        " 48 0.218577871055 0\n",
        "Iter:"
       ]
      },
      {
       "output_type": "stream",
       "stream": "stdout",
       "text": [
        " 49 0.218623803655 0\n",
        "Iter:"
       ]
      },
      {
       "output_type": "stream",
       "stream": "stdout",
       "text": [
        " 50 0.218668420361 0\n",
        "Iter:"
       ]
      },
      {
       "output_type": "stream",
       "stream": "stdout",
       "text": [
        " 51 0.218711759401 0\n",
        "Iter:"
       ]
      },
      {
       "output_type": "stream",
       "stream": "stdout",
       "text": [
        " 52 0.218753857861 0\n",
        "Iter:"
       ]
      },
      {
       "output_type": "stream",
       "stream": "stdout",
       "text": [
        " 53 0.218794751725 0\n",
        "Iter:"
       ]
      },
      {
       "output_type": "stream",
       "stream": "stdout",
       "text": [
        " 54 0.218834475903 0\n",
        "Iter:"
       ]
      },
      {
       "output_type": "stream",
       "stream": "stdout",
       "text": [
        " 55 0.218873064271 0\n",
        "Iter:"
       ]
      },
      {
       "output_type": "stream",
       "stream": "stdout",
       "text": [
        " 56 0.2189105497 0\n",
        "Iter:"
       ]
      },
      {
       "output_type": "stream",
       "stream": "stdout",
       "text": [
        " 57 0.218946964085 0\n",
        "Iter:"
       ]
      },
      {
       "output_type": "stream",
       "stream": "stdout",
       "text": [
        " 58 0.218982338381 0\n",
        "Iter:"
       ]
      },
      {
       "output_type": "stream",
       "stream": "stdout",
       "text": [
        " 59 0.219016702626 0\n",
        "Iter:"
       ]
      },
      {
       "output_type": "stream",
       "stream": "stdout",
       "text": [
        " 60 0.219050085972 0\n",
        "Iter:"
       ]
      },
      {
       "output_type": "stream",
       "stream": "stdout",
       "text": [
        " 61 0.219082516715 0\n",
        "Iter:"
       ]
      },
      {
       "output_type": "stream",
       "stream": "stdout",
       "text": [
        " 62 0.219114022313 0\n",
        "Iter:"
       ]
      },
      {
       "output_type": "stream",
       "stream": "stdout",
       "text": [
        " 63 0.219144629421 0\n",
        "Iter:"
       ]
      },
      {
       "output_type": "stream",
       "stream": "stdout",
       "text": [
        " 64 0.219174363911 0\n",
        "Iter:"
       ]
      },
      {
       "output_type": "stream",
       "stream": "stdout",
       "text": [
        " 65 0.219203250893 0\n",
        "Iter:"
       ]
      },
      {
       "output_type": "stream",
       "stream": "stdout",
       "text": [
        " 66 0.219231314744 0\n",
        "Iter:"
       ]
      },
      {
       "output_type": "stream",
       "stream": "stdout",
       "text": [
        " 67 0.219258579127 0\n",
        "Iter:"
       ]
      },
      {
       "output_type": "stream",
       "stream": "stdout",
       "text": [
        " 68 0.219285067013 0\n",
        "Iter:"
       ]
      },
      {
       "output_type": "stream",
       "stream": "stdout",
       "text": [
        " 69 0.219310800701 0\n",
        "Iter:"
       ]
      },
      {
       "output_type": "stream",
       "stream": "stdout",
       "text": [
        " 70 0.219335801841 0\n",
        "Iter:"
       ]
      },
      {
       "output_type": "stream",
       "stream": "stdout",
       "text": [
        " 71 0.21936009145 0\n",
        "Iter:"
       ]
      },
      {
       "output_type": "stream",
       "stream": "stdout",
       "text": [
        " 72 0.219383689934 0\n",
        "Iter:"
       ]
      },
      {
       "output_type": "stream",
       "stream": "stdout",
       "text": [
        " 73 0.219406617104 0\n",
        "Iter:"
       ]
      },
      {
       "output_type": "stream",
       "stream": "stdout",
       "text": [
        " 74 0.219428892195 0\n",
        "Iter:"
       ]
      },
      {
       "output_type": "stream",
       "stream": "stdout",
       "text": [
        " 75 0.219450533884 0\n",
        "Iter:"
       ]
      },
      {
       "output_type": "stream",
       "stream": "stdout",
       "text": [
        " 76 0.219471560306 0\n",
        "Iter:"
       ]
      },
      {
       "output_type": "stream",
       "stream": "stdout",
       "text": [
        " 77 0.219491989068 0\n",
        "Iter:"
       ]
      },
      {
       "output_type": "stream",
       "stream": "stdout",
       "text": [
        " 78 0.219511837268 0\n",
        "Iter:"
       ]
      },
      {
       "output_type": "stream",
       "stream": "stdout",
       "text": [
        " 79 0.219531121509 0\n",
        "Iter:"
       ]
      },
      {
       "output_type": "stream",
       "stream": "stdout",
       "text": [
        " 80 0.219549857912 0\n",
        "Iter:"
       ]
      },
      {
       "output_type": "stream",
       "stream": "stdout",
       "text": [
        " 81 0.219568062132 0\n",
        "Iter:"
       ]
      },
      {
       "output_type": "stream",
       "stream": "stdout",
       "text": [
        " 82 0.219585749373 0\n",
        "Iter:"
       ]
      },
      {
       "output_type": "stream",
       "stream": "stdout",
       "text": [
        " 83 0.219602934399 0\n",
        "Iter:"
       ]
      },
      {
       "output_type": "stream",
       "stream": "stdout",
       "text": [
        " 84 0.219619631546 0\n",
        "Iter:"
       ]
      },
      {
       "output_type": "stream",
       "stream": "stdout",
       "text": [
        " 85 0.219635854739 0\n",
        "Iter:"
       ]
      },
      {
       "output_type": "stream",
       "stream": "stdout",
       "text": [
        " 86 0.219651617501 0\n",
        "Iter:"
       ]
      },
      {
       "output_type": "stream",
       "stream": "stdout",
       "text": [
        " 87 0.219666932963 0\n",
        "Iter:"
       ]
      },
      {
       "output_type": "stream",
       "stream": "stdout",
       "text": [
        " 88 0.21968181388 0\n",
        "Iter:"
       ]
      },
      {
       "output_type": "stream",
       "stream": "stdout",
       "text": [
        " 89 0.21969627264 0\n",
        "Iter:"
       ]
      },
      {
       "output_type": "stream",
       "stream": "stdout",
       "text": [
        " 90 0.219710321274 0\n",
        "Iter:"
       ]
      },
      {
       "output_type": "stream",
       "stream": "stdout",
       "text": [
        " 91 0.219723971466 0\n",
        "Iter:"
       ]
      },
      {
       "output_type": "stream",
       "stream": "stdout",
       "text": [
        " 92 0.219737234566 0\n",
        "Iter:"
       ]
      },
      {
       "output_type": "stream",
       "stream": "stdout",
       "text": [
        " 93 0.219750121597 0\n",
        "Iter:"
       ]
      },
      {
       "output_type": "stream",
       "stream": "stdout",
       "text": [
        " 94 0.219762643267 0\n",
        "Iter:"
       ]
      },
      {
       "output_type": "stream",
       "stream": "stdout",
       "text": [
        " 95 0.219774809973 0\n",
        "Iter:"
       ]
      },
      {
       "output_type": "stream",
       "stream": "stdout",
       "text": [
        " 96 0.219786631818 0\n",
        "Iter:"
       ]
      },
      {
       "output_type": "stream",
       "stream": "stdout",
       "text": [
        " 97 0.219798118613 0\n",
        "Iter:"
       ]
      },
      {
       "output_type": "stream",
       "stream": "stdout",
       "text": [
        " 98 0.219809279889 0\n",
        "Iter:"
       ]
      },
      {
       "output_type": "stream",
       "stream": "stdout",
       "text": [
        " 99 0.219820124902 0\n",
        "Iter:"
       ]
      },
      {
       "output_type": "stream",
       "stream": "stdout",
       "text": [
        " 100 0.219830662646 0\n",
        "Iter:"
       ]
      },
      {
       "output_type": "stream",
       "stream": "stdout",
       "text": [
        " 101 0.219840901854 0\n",
        "Iter:"
       ]
      },
      {
       "output_type": "stream",
       "stream": "stdout",
       "text": [
        " 102 0.219850851012 0\n",
        "Iter:"
       ]
      },
      {
       "output_type": "stream",
       "stream": "stdout",
       "text": [
        " 103 0.219860518362 0\n",
        "Iter:"
       ]
      },
      {
       "output_type": "stream",
       "stream": "stdout",
       "text": [
        " 104 0.219869911911 0\n",
        "Iter:"
       ]
      },
      {
       "output_type": "stream",
       "stream": "stdout",
       "text": [
        " 105 0.219879039437 0\n",
        "Iter:"
       ]
      },
      {
       "output_type": "stream",
       "stream": "stdout",
       "text": [
        " 106 0.219887908494 0\n",
        "Iter:"
       ]
      },
      {
       "output_type": "stream",
       "stream": "stdout",
       "text": [
        " 107 0.219896526423 0\n",
        "Iter:"
       ]
      },
      {
       "output_type": "stream",
       "stream": "stdout",
       "text": [
        " 108 0.219904900354 0\n",
        "Iter:"
       ]
      },
      {
       "output_type": "stream",
       "stream": "stdout",
       "text": [
        " 109 0.219913037213 0\n",
        "Iter:"
       ]
      },
      {
       "output_type": "stream",
       "stream": "stdout",
       "text": [
        " 110 0.21992094373 0\n",
        "Iter:"
       ]
      },
      {
       "output_type": "stream",
       "stream": "stdout",
       "text": [
        " 111 0.219928626441 0\n",
        "Iter:"
       ]
      },
      {
       "output_type": "stream",
       "stream": "stdout",
       "text": [
        " 112 0.219936091697 0\n",
        "Iter:"
       ]
      },
      {
       "output_type": "stream",
       "stream": "stdout",
       "text": [
        " 113 0.219943345667 0\n",
        "Iter:"
       ]
      },
      {
       "output_type": "stream",
       "stream": "stdout",
       "text": [
        " 114 0.219950394345 0\n",
        "Iter:"
       ]
      },
      {
       "output_type": "stream",
       "stream": "stdout",
       "text": [
        " 115 0.219957243555 0\n",
        "Iter:"
       ]
      },
      {
       "output_type": "stream",
       "stream": "stdout",
       "text": [
        " 116 0.219963898952 0\n",
        "Iter:"
       ]
      },
      {
       "output_type": "stream",
       "stream": "stdout",
       "text": [
        " 117 0.219970366033 0\n",
        "Iter:"
       ]
      },
      {
       "output_type": "stream",
       "stream": "stdout",
       "text": [
        " 118 0.219976650137 0\n",
        "Iter:"
       ]
      },
      {
       "output_type": "stream",
       "stream": "stdout",
       "text": [
        " 119 0.219982756451 0\n",
        "Iter:"
       ]
      },
      {
       "output_type": "stream",
       "stream": "stdout",
       "text": [
        " 120 0.219988690016 0\n",
        "Iter:"
       ]
      },
      {
       "output_type": "stream",
       "stream": "stdout",
       "text": [
        " 121 0.219994455728 0\n",
        "Iter:"
       ]
      },
      {
       "output_type": "stream",
       "stream": "stdout",
       "text": [
        " 122 0.220000058343 0\n",
        "Iter:"
       ]
      },
      {
       "output_type": "stream",
       "stream": "stdout",
       "text": [
        " 123 0.220005502483 0\n",
        "Iter:"
       ]
      },
      {
       "output_type": "stream",
       "stream": "stdout",
       "text": [
        " 124 0.220010792639 0\n",
        "Iter:"
       ]
      },
      {
       "output_type": "stream",
       "stream": "stdout",
       "text": [
        " 125 0.220015933174 0\n",
        "Iter:"
       ]
      },
      {
       "output_type": "stream",
       "stream": "stdout",
       "text": [
        " 126 0.220020928326 0\n",
        "Iter:"
       ]
      },
      {
       "output_type": "stream",
       "stream": "stdout",
       "text": [
        " 127 0.220025782212 0\n",
        "Iter:"
       ]
      },
      {
       "output_type": "stream",
       "stream": "stdout",
       "text": [
        " 128 0.220030498835 0\n",
        "Iter:"
       ]
      },
      {
       "output_type": "stream",
       "stream": "stdout",
       "text": [
        " 129 0.220035082082 0\n",
        "Iter:"
       ]
      },
      {
       "output_type": "stream",
       "stream": "stdout",
       "text": [
        " 130 0.22003953573 0\n",
        "Iter:"
       ]
      },
      {
       "output_type": "stream",
       "stream": "stdout",
       "text": [
        " 131 0.220043863449 0\n",
        "Iter:"
       ]
      },
      {
       "output_type": "stream",
       "stream": "stdout",
       "text": [
        " 132 0.220048068804 0\n",
        "Iter:"
       ]
      },
      {
       "output_type": "stream",
       "stream": "stdout",
       "text": [
        " 133 0.220052155259 0\n",
        "Iter:"
       ]
      },
      {
       "output_type": "stream",
       "stream": "stdout",
       "text": [
        " 134 0.220056126182 0\n",
        "Iter:"
       ]
      },
      {
       "output_type": "stream",
       "stream": "stdout",
       "text": [
        " 135 0.220059984841 0\n",
        "Iter:"
       ]
      },
      {
       "output_type": "stream",
       "stream": "stdout",
       "text": [
        " 136 0.220063734416 0\n",
        "Iter:"
       ]
      },
      {
       "output_type": "stream",
       "stream": "stdout",
       "text": [
        " 137 0.220067377993 0\n",
        "Iter:"
       ]
      },
      {
       "output_type": "stream",
       "stream": "stdout",
       "text": [
        " 138 0.220070918572 0\n",
        "Iter:"
       ]
      },
      {
       "output_type": "stream",
       "stream": "stdout",
       "text": [
        " 139 0.220074359069 0\n",
        "Iter:"
       ]
      },
      {
       "output_type": "stream",
       "stream": "stdout",
       "text": [
        " 140 0.220077702315 0\n",
        "Iter:"
       ]
      },
      {
       "output_type": "stream",
       "stream": "stdout",
       "text": [
        " 141 0.220080951062 0\n",
        "Iter:"
       ]
      },
      {
       "output_type": "stream",
       "stream": "stdout",
       "text": [
        " 142 0.220084107984 0\n",
        "Iter:"
       ]
      },
      {
       "output_type": "stream",
       "stream": "stdout",
       "text": [
        " 143 0.220087175679 0\n",
        "Iter:"
       ]
      },
      {
       "output_type": "stream",
       "stream": "stdout",
       "text": [
        " 144 0.220090156671 0\n",
        "Iter:"
       ]
      },
      {
       "output_type": "stream",
       "stream": "stdout",
       "text": [
        " 145 0.220093053414 0\n",
        "Iter:"
       ]
      },
      {
       "output_type": "stream",
       "stream": "stdout",
       "text": [
        " 146 0.22009586829 0\n",
        "Iter:"
       ]
      },
      {
       "output_type": "stream",
       "stream": "stdout",
       "text": [
        " 147 0.220098603616 0\n",
        "Iter:"
       ]
      },
      {
       "output_type": "stream",
       "stream": "stdout",
       "text": [
        " 148 0.22010126164 0\n",
        "Iter:"
       ]
      },
      {
       "output_type": "stream",
       "stream": "stdout",
       "text": [
        " 149 0.220103844551 0\n",
        "Iter:"
       ]
      },
      {
       "output_type": "stream",
       "stream": "stdout",
       "text": [
        " 150 0.220106354471 0\n",
        "Iter:"
       ]
      },
      {
       "output_type": "stream",
       "stream": "stdout",
       "text": [
        " 151 0.220108793466 0\n",
        "Iter:"
       ]
      },
      {
       "output_type": "stream",
       "stream": "stdout",
       "text": [
        " 152 0.220111163541 0\n",
        "Iter:"
       ]
      },
      {
       "output_type": "stream",
       "stream": "stdout",
       "text": [
        " 153 0.220113466645 0\n",
        "Iter:"
       ]
      },
      {
       "output_type": "stream",
       "stream": "stdout",
       "text": [
        " 154 0.220115704672 0\n",
        "Iter:"
       ]
      },
      {
       "output_type": "stream",
       "stream": "stdout",
       "text": [
        " 155 0.220117879462 0\n",
        "Iter:"
       ]
      },
      {
       "output_type": "stream",
       "stream": "stdout",
       "text": [
        " 156 0.220119992803 0\n",
        "Iter:"
       ]
      },
      {
       "output_type": "stream",
       "stream": "stdout",
       "text": [
        " 157 0.220122046433 0\n",
        "Iter:"
       ]
      },
      {
       "output_type": "stream",
       "stream": "stdout",
       "text": [
        " 158 0.220124042039 0\n",
        "Iter:"
       ]
      },
      {
       "output_type": "stream",
       "stream": "stdout",
       "text": [
        " 159 0.220125981263 0\n",
        "Iter:"
       ]
      },
      {
       "output_type": "stream",
       "stream": "stdout",
       "text": [
        " 160 0.220127865697 0\n",
        "Iter:"
       ]
      },
      {
       "output_type": "stream",
       "stream": "stdout",
       "text": [
        " 161 0.220129696891 0\n",
        "Iter:"
       ]
      },
      {
       "output_type": "stream",
       "stream": "stdout",
       "text": [
        " 162 0.220131476351 0\n",
        "Iter:"
       ]
      },
      {
       "output_type": "stream",
       "stream": "stdout",
       "text": [
        " 163 0.220133205538 0\n",
        "Iter:"
       ]
      },
      {
       "output_type": "stream",
       "stream": "stdout",
       "text": [
        " 164 0.220134885873 0\n",
        "Iter:"
       ]
      },
      {
       "output_type": "stream",
       "stream": "stdout",
       "text": [
        " 165 0.220136518738 0\n",
        "Iter:"
       ]
      },
      {
       "output_type": "stream",
       "stream": "stdout",
       "text": [
        " 166 0.220138105474 0\n",
        "Iter:"
       ]
      },
      {
       "output_type": "stream",
       "stream": "stdout",
       "text": [
        " 167 0.220139647385 0\n",
        "Iter:"
       ]
      },
      {
       "output_type": "stream",
       "stream": "stdout",
       "text": [
        " 168 0.220141145738 0\n",
        "Iter:"
       ]
      },
      {
       "output_type": "stream",
       "stream": "stdout",
       "text": [
        " 169 0.220142601764 0\n",
        "Iter:"
       ]
      },
      {
       "output_type": "stream",
       "stream": "stdout",
       "text": [
        " 170 0.220144016658 0\n",
        "Iter:"
       ]
      },
      {
       "output_type": "stream",
       "stream": "stdout",
       "text": [
        " 171 0.220145391585 0\n",
        "Iter:"
       ]
      },
      {
       "output_type": "stream",
       "stream": "stdout",
       "text": [
        " 172 0.220146727673 0\n",
        "Iter:"
       ]
      },
      {
       "output_type": "stream",
       "stream": "stdout",
       "text": [
        " 173 0.220148026019 0\n",
        "Iter:"
       ]
      },
      {
       "output_type": "stream",
       "stream": "stdout",
       "text": [
        " 174 0.220149287691 0\n",
        "Iter:"
       ]
      },
      {
       "output_type": "stream",
       "stream": "stdout",
       "text": [
        " 175 0.220150513724 0\n",
        "Iter:"
       ]
      },
      {
       "output_type": "stream",
       "stream": "stdout",
       "text": [
        " 176 0.220151705126 0\n",
        "Iter:"
       ]
      },
      {
       "output_type": "stream",
       "stream": "stdout",
       "text": [
        " 177 0.220152862875 0\n",
        "Iter:"
       ]
      },
      {
       "output_type": "stream",
       "stream": "stdout",
       "text": [
        " 178 0.220153987923 0\n",
        "Iter:"
       ]
      },
      {
       "output_type": "stream",
       "stream": "stdout",
       "text": [
        " 179 0.220155081193 0\n",
        "Iter:"
       ]
      },
      {
       "output_type": "stream",
       "stream": "stdout",
       "text": [
        " 180 0.220156143583 0\n",
        "Iter:"
       ]
      },
      {
       "output_type": "stream",
       "stream": "stdout",
       "text": [
        " 181 0.220157175965 0\n",
        "Iter:"
       ]
      },
      {
       "output_type": "stream",
       "stream": "stdout",
       "text": [
        " 182 0.220158179188 0\n",
        "Iter:"
       ]
      },
      {
       "output_type": "stream",
       "stream": "stdout",
       "text": [
        " 183 0.220159154075 0\n",
        "result: 0.220159154075 0\n"
       ]
      }
     ],
     "prompt_number": 593
    },
    {
     "cell_type": "code",
     "collapsed": false,
     "input": [
      "log = []\n",
      "logs = []"
     ],
     "language": "python",
     "metadata": {},
     "outputs": [],
     "prompt_number": 539
    },
    {
     "cell_type": "code",
     "collapsed": false,
     "input": [
      "log = [lambda1,lambda2,beta,p,sigma,n,steps,deltat,reg,gamma]\n",
      "logs.append(log)"
     ],
     "language": "python",
     "metadata": {},
     "outputs": [],
     "prompt_number": 422
    },
    {
     "cell_type": "code",
     "collapsed": false,
     "input": [
      "gamma = 10e-8"
     ],
     "language": "python",
     "metadata": {},
     "outputs": [],
     "prompt_number": 508
    },
    {
     "cell_type": "code",
     "collapsed": false,
     "input": [
      "def estimate(lambda1,lambda2,beta,p,sigma,n,steps,deltat,reg,window = 1,k=1):\n",
      "    est = []\n",
      "    for i in range(n):\n",
      "        t1 = 0\n",
      "        for m in range(max(0,k-window),k):\n",
      "            t1 = t1 +p[i,m]*math.exp(-beta*(k-m)*deltat)\n",
      "        t3 = 0\n",
      "        #for j in range(n):\n",
      "        for m1 in range(max(0,k-window),k):\n",
      "            t3 = t3+np.sum(p[:,m1]*sigma[i,:])*math.exp(-beta*(k-m1)*deltat)\n",
      "                \n",
      "        mu = lambda1*t1 + lambda2*t3\n",
      "        est.append(mu*deltat)\n",
      "    return est"
     ],
     "language": "python",
     "metadata": {},
     "outputs": [],
     "prompt_number": 533
    },
    {
     "cell_type": "code",
     "collapsed": false,
     "input": [
      "width = 0.2 \n",
      "q = []\n",
      "qw = []\n",
      "for k in range(steps):\n",
      "    e = estimate(lambda1,lambda2,beta,p,sigma,n,steps,deltat,reg,window = 1000,k=k)\n",
      "    e2 = estimate(lambda0,0,beta,p,sigma,n,steps,deltat,reg,window = 1000,k=k)\n",
      "    q.append(e)\n",
      "    qw.append(e2)\n",
      "    index = np.array(range(len(e)))\n",
      "    plt.figure(figsize=(16,10))\n",
      "    plt.bar(index-width,p[:,k],width,label = 'Ground Truth',alpha = 0.6,color = 'b')\n",
      "    plt.bar(index,e,width, label = 'Estimated', alpha = 0.6, color = 'r')\n",
      "    plt.bar(index+width,e2,width, label = 'W/O Neighbour', alpha = 0.6, color = 'g')\n",
      "    plt.axis([0, 60, 0, 40])\n",
      "    plt.legend()\n",
      "    plt.savefig('estimate_'+ str(k) +'.png', dpi=300)\n",
      "    plt.savefig('estimate_'+ str(k) +'.pdf')\n",
      "    "
     ],
     "language": "python",
     "metadata": {},
     "outputs": [],
     "prompt_number": 601
    },
    {
     "cell_type": "code",
     "collapsed": false,
     "input": [
      "e"
     ],
     "language": "python",
     "metadata": {},
     "outputs": [
      {
       "metadata": {},
       "output_type": "pyout",
       "prompt_number": 484,
       "text": [
        "[3.6294688013956797,\n",
        " 23.260376804568455,\n",
        " 19.964402472755211,\n",
        " 39.366700953162528,\n",
        " 0.88498456647492818,\n",
        " 196.59267273244862,\n",
        " 4.2164988792958678,\n",
        " 4.5326722142342302,\n",
        " 1.6995319046479229,\n",
        " 15.83230516622868,\n",
        " 34.216115623211941,\n",
        " 0.98164150699749242,\n",
        " 100.18925029217756,\n",
        " 0.01380154545361803,\n",
        " 0.092587603859184769,\n",
        " 0.10720297259968048,\n",
        " 0.05438167044209382,\n",
        " 0.061996929372815437,\n",
        " 1.5847297496653128,\n",
        " 0.010237841652014842,\n",
        " 0.14000673198741082,\n",
        " 0.011400155554834274,\n",
        " 0.47254002570614623,\n",
        " 0.5497630775566742,\n",
        " 2.8454809826820306,\n",
        " 6.7420027491946746,\n",
        " 0.45990978951255862,\n",
        " 16.007188565144872,\n",
        " 0.31797108306832045,\n",
        " 1.1838975689923212,\n",
        " 38.402353051201395,\n",
        " 5.9668991723352045,\n",
        " 0.28971695808229841,\n",
        " 0.82981592896651379,\n",
        " 1.0740916155701219,\n",
        " 14.465880177063202,\n",
        " 0.16958251619842007,\n",
        " 0.19768794666648715,\n",
        " 0.53502346909198617,\n",
        " 2.9511046016808762,\n",
        " 0.10997900467769128,\n",
        " 2.1946292629016093,\n",
        " 0.92954993682194842,\n",
        " 0.1713372584897502,\n",
        " 4.285556863340596,\n",
        " 16.101940885845284,\n",
        " 0.15873180103052636,\n",
        " 0.023829450551437308,\n",
        " 0.35329395327113661,\n",
        " 0.17682070717556725,\n",
        " 0.029664309925994992,\n",
        " 93.773808941422701,\n",
        " 0.4590733615112853,\n",
        " 3.117140600474579,\n",
        " 5.0318267766102416]"
       ]
      }
     ],
     "prompt_number": 484
    },
    {
     "cell_type": "code",
     "collapsed": false,
     "input": [
      "output = open('logs.pkl', 'wb')\n",
      "pickle.dump(logs, output)\n",
      "output.close()"
     ],
     "language": "python",
     "metadata": {},
     "outputs": [],
     "prompt_number": 424
    },
    {
     "cell_type": "code",
     "collapsed": false,
     "input": [
      "window = 1000\n",
      "pp = []\n",
      "for i in range(n):\n",
      "    t = []\n",
      "    for k in range(steps):\n",
      "        t1 = 0\n",
      "        for m in range(max(0,k-window),k+1):\n",
      "            t1 = t1 +p[i,m]*math.exp(-beta*(k-m)*deltat)\n",
      "        t.append(t1)\n",
      "    pp.append(t)"
     ],
     "language": "python",
     "metadata": {},
     "outputs": [],
     "prompt_number": 452
    },
    {
     "cell_type": "code",
     "collapsed": false,
     "input": [
      "pp = np.array(pp)"
     ],
     "language": "python",
     "metadata": {},
     "outputs": [],
     "prompt_number": 453
    },
    {
     "cell_type": "code",
     "collapsed": false,
     "input": [
      "np.sum(p[:,6]*sigma[6,:])"
     ],
     "language": "python",
     "metadata": {},
     "outputs": [
      {
       "metadata": {},
       "output_type": "pyout",
       "prompt_number": 481,
       "text": [
        "2.566108549679035"
       ]
      }
     ],
     "prompt_number": 481
    },
    {
     "cell_type": "code",
     "collapsed": false,
     "input": [
      "pp.shape"
     ],
     "language": "python",
     "metadata": {},
     "outputs": [
      {
       "metadata": {},
       "output_type": "pyout",
       "prompt_number": 454,
       "text": [
        "(55, 28)"
       ]
      }
     ],
     "prompt_number": 454
    },
    {
     "cell_type": "code",
     "collapsed": false,
     "input": [
      "plt.figure()\n",
      "plt.plot(p.transpose())\n",
      "plt.figure()\n",
      "plt.plot(pp.transpose());\n"
     ],
     "language": "python",
     "metadata": {},
     "outputs": [
      {
       "metadata": {},
       "output_type": "display_data",
       "png": "[encoded data removed]",
       "text": [
        "<matplotlib.figure.Figure at 0x10f6da210>"
       ]
      },
      {
       "metadata": {},
       "output_type": "display_data",
       "png": "[encoded data removed]",
       "text": [
        "<matplotlib.figure.Figure at 0x10de9c450>"
       ]
      }
     ],
     "prompt_number": 459
    },
    {
     "cell_type": "code",
     "collapsed": false,
     "input": [
      "d = {'active':pp, 'new':p}\n",
      "scipy.io.savemat('../data/casestats.mat',d)"
     ],
     "language": "python",
     "metadata": {},
     "outputs": [],
     "prompt_number": 463
    },
    {
     "cell_type": "code",
     "collapsed": false,
     "input": [
      "e"
     ],
     "language": "python",
     "metadata": {},
     "outputs": [
      {
       "metadata": {},
       "output_type": "pyout",
       "prompt_number": 471,
       "text": [
        "[array([ 1.37475139,  1.44600636,  1.5432842 ,  1.88227778,  1.37476702,\n",
        "        2.17563523,  1.4276451 ,  1.38291933,  1.38062338,  1.42253726,\n",
        "        1.42053104,  1.37475139,  1.69438142,  1.37475143,  1.37475937,\n",
        "        1.37477077,  1.37475194,  1.37475373,  1.37724166,  1.37475139,\n",
        "        1.37477841,  1.37475149,  1.37475154,  1.37487625,  1.37577501,\n",
        "        1.3772709 ,  1.37485615,  1.37818688,  1.37480773,  1.37531129,\n",
        "        1.49104039,  1.37679041,  1.37475139,  1.37475142,  1.37524177,\n",
        "        1.38145845,  1.37475139,  1.37475139,  1.37517734,  1.3756053 ,\n",
        "        1.3747514 ,  1.3785763 ,  1.37482525,  1.3747514 ,  1.37573073,\n",
        "        1.37507584,  1.37477121,  1.37475147,  1.37475507,  1.37478471,\n",
        "        1.3747517 ,  1.4526465 ,  1.37548972,  1.37845198,  1.37635458]),\n",
        " array([ 19.01818833,  19.01303619,  19.23500249,  19.1577215 ,\n",
        "        19.01303788,  20.67381253,  19.01840091,  19.03606313,\n",
        "        19.01334796,  19.05299608,  19.3781353 ,  19.01303619,\n",
        "        20.22587448,  19.0130362 ,  19.01303849,  19.0130402 ,\n",
        "        19.01303635,  19.01303693,  19.01358792,  19.01303619,\n",
        "        19.01304311,  19.01303622,  19.01303669,  19.0132929 ,\n",
        "        19.01585282,  19.01405299,  19.01314936,  19.02661507,\n",
        "        19.01309647,  19.01331826,  19.36942514,  19.02427324,\n",
        "        19.01303619,  19.01303629,  19.01328894,  19.04922278,\n",
        "        19.01303619,  19.01303619,  19.01314995,  19.0137504 ,\n",
        "        19.01303619,  19.01437338,  19.01325541,  19.01303619,\n",
        "        19.0153444 ,  19.0141372 ,  19.01303883,  19.01303622,\n",
        "        19.01303743,  19.01304188,  19.01303632,  19.14886888,\n",
        "        19.01310452,  19.01431887,  19.01545066]),\n",
        " array([ 16.77613572,  17.01408394,  16.7623136 ,  17.03740018,\n",
        "        16.76231708,  18.06023967,  16.78304452,  16.77597862,\n",
        "        16.76293602,  16.84227267,  16.86913819,  16.7623136 ,\n",
        "        17.57558819,  16.76231362,  16.76231655,  16.76231928,\n",
        "        16.7623138 ,  16.76231452,  16.76310059,  16.7623136 ,\n",
        "        16.76232258,  16.76231364,  16.7623138 ,  16.76245327,\n",
        "        16.76360853,  16.76344385,  16.76239738,  16.76772659,\n",
        "        16.76235909,  16.76260333,  16.93265942,  16.76567334,\n",
        "        16.7623136 ,  16.76231364,  16.76257371,  16.77468706,\n",
        "        16.7623136 ,  16.7623136 ,  16.76246829,  16.76291431,\n",
        "        16.7623136 ,  16.76389931,  16.7624123 ,  16.76231361,\n",
        "        16.76352336,  16.76277199,  16.76231772,  16.76231364,\n",
        "        16.76231508,  16.76232231,  16.76231375,  16.88784605,\n",
        "        16.76243488,  16.763817  ,  16.76389568]),\n",
        " array([ 38.28280002,  38.33645762,  38.38507127,  38.26456585,\n",
        "        38.26456837,  38.72215686,  38.27256829,  38.28138436,\n",
        "        38.26678536,  38.28378723,  38.29914583,  38.26456585,\n",
        "        38.46526404,  38.26456588,  38.26456934,  38.26457296,\n",
        "        38.26456644,  38.26456703,  38.26541086,  38.26456585,\n",
        "        38.26457996,  38.2645659 ,  38.264566  ,  38.26473162,\n",
        "        38.26544677,  38.26643863,  38.26467624,  38.26721731,\n",
        "        38.26463696,  38.26508366,  38.34882382,  38.26638398,\n",
        "        38.26456585,  38.26456588,  38.26511173,  38.26970212,\n",
        "        38.26456585,  38.26456585,  38.26522652,  38.26557814,\n",
        "        38.26456586,  38.26841248,  38.26462584,  38.26456586,\n",
        "        38.26530935,  38.26483184,  38.26457209,  38.2645659 ,\n",
        "        38.26456802,  38.26457557,  38.26456603,  38.30623033,\n",
        "        38.26470453,  38.26722744,  38.26696378]),\n",
        " array([ 0.01638899,  0.02393094,  0.04202791,  0.0685337 ,  0.00143655,\n",
        "        0.42622503,  0.01465995,  0.00344633,  0.00191059,  0.02978052,\n",
        "        0.01995985,  0.00143655,  0.14289549,  0.00143657,  0.00144147,\n",
        "        0.00144864,  0.00143668,  0.00143777,  0.00355741,  0.00143655,\n",
        "        0.00144775,  0.0014366 ,  0.0014366 ,  0.00147543,  0.0018532 ,\n",
        "        0.00236577,  0.00147315,  0.00290979,  0.00145421,  0.00162392,\n",
        "        0.05430433,  0.00222238,  0.00143655,  0.00143656,  0.00158307,\n",
        "        0.00425105,  0.00143655,  0.00143655,  0.00152158,  0.00170702,\n",
        "        0.00143655,  0.00249407,  0.00146775,  0.00143655,  0.00187593,\n",
        "        0.0015718 ,  0.00144508,  0.00143659,  0.00143814,  0.00146597,\n",
        "        0.0014367 ,  0.04467184,  0.0020912 ,  0.00274521,  0.00190524]),\n",
        " array([ 177.68048634,  177.85201022,  177.79673967,  177.77283794,\n",
        "        177.67429295,  177.67428951,  177.68186062,  177.6813629 ,\n",
        "        177.67461851,  177.82908264,  178.14078175,  177.67428951,\n",
        "        183.36161222,  177.67428954,  177.6742938 ,  177.67429659,\n",
        "        177.67428969,  177.67429081,  177.67538037,  177.67428951,\n",
        "        177.6742999 ,  177.67428959,  177.67428987,  177.67444876,\n",
        "        177.6780449 ,  177.6756612 ,  177.67440746,  177.70327082,\n",
        "        177.67434181,  177.67462543,  178.92877555,  177.68349239,\n",
        "        177.67428951,  177.67428961,  177.67455638,  177.74365456,\n",
        "        177.67428951,  177.67428951,  177.67439738,  177.67498085,\n",
        "        177.67428952,  177.67576224,  177.67465654,  177.67428953,\n",
        "        177.67967118,  177.67600149,  177.67429357,  177.67428958,\n",
        "        177.67429143,  177.67430016,  177.67428975,  188.48182272,\n",
        "        177.6744062 ,  177.67599407,  177.67585843]),\n",
        " array([ 1.10185298,  1.13024685,  1.3682836 ,  1.32825   ,  1.03136587,\n",
        "        2.33565232,  1.03134745,  1.0394359 ,  1.03278694,  1.15488258,\n",
        "        1.09952187,  1.03134745,  1.58724597,  1.03134749,  1.03135361,\n",
        "        1.03136076,  1.03134777,  1.03134921,  1.03328584,  1.03134745,\n",
        "        1.03136496,  1.03134753,  1.03134761,  1.03146765,  1.03252988,\n",
        "        1.03314848,  1.03144092,  1.03585975,  1.03139574,  1.03175905,\n",
        "        1.1855652 ,  1.03387991,  1.03134745,  1.03134749,  1.03169768,\n",
        "        1.04064264,  1.03134745,  1.03134745,  1.03157756,  1.03204426,\n",
        "        1.03134746,  1.03375377,  1.03143677,  1.03134746,  1.03253533,\n",
        "        1.03174589,  1.03135789,  1.03134752,  1.03135009,  1.03137106,\n",
        "        1.0313477 ,  1.16585516,  1.03176445,  1.03384517,  1.03278501]),\n",
        " array([ 3.3997754 ,  3.5253715 ,  3.46390917,  3.58594637,  3.39647021,\n",
        "        3.76648876,  3.39892544,  3.39646936,  3.39673173,  3.40744878,\n",
        "        3.43668209,  3.39646936,  3.57529652,  3.39646937,  3.39647079,\n",
        "        3.39647191,  3.39646952,  3.39646985,  3.39679306,  3.39646936,\n",
        "        3.39647444,  3.39646938,  3.39646962,  3.39680719,  3.39757483,\n",
        "        3.39729817,  3.39657292,  3.39957156,  3.39654103,  3.39672788,\n",
        "        3.4855285 ,  3.39917611,  3.39646936,  3.3964694 ,  3.39673424,\n",
        "        3.40255131,  3.39646936,  3.39646936,  3.39659854,  3.39725436,\n",
        "        3.39646936,  3.39779866,  3.39654092,  3.39646936,  3.39725785,\n",
        "        3.39679803,  3.39647117,  3.39646938,  3.39647026,  3.39647275,\n",
        "        3.39646944,  3.42788732,  3.39651043,  3.3975271 ,  3.40057932]),\n",
        " array([ 0.19773727,  0.18243153,  0.21458376,  0.74619936,  0.14013466,\n",
        "        0.55727333,  0.15072438,  0.14648911,  0.1401298 ,  0.15958551,\n",
        "        0.16600901,  0.1401298 ,  0.30335894,  0.14012984,  0.14013583,\n",
        "        0.14014447,  0.14013065,  0.14013174,  0.14174667,  0.1401298 ,\n",
        "        0.14015657,  0.14012988,  0.1401299 ,  0.14023152,  0.14082299,\n",
        "        0.14269098,  0.14022009,  0.14223467,  0.1401813 ,  0.14071214,\n",
        "        0.21040275,  0.14144449,  0.1401298 ,  0.14012982,  0.14067691,\n",
        "        0.1440983 ,  0.1401298 ,  0.1401298 ,  0.1409206 ,  0.14094838,\n",
        "        0.1401298 ,  0.14514419,  0.14017789,  0.1401298 ,  0.14076058,\n",
        "        0.14033906,  0.14014757,  0.14012986,  0.14013322,  0.14015075,\n",
        "        0.14013005,  0.17914534,  0.1405043 ,  0.14412396,  0.14153859]),\n",
        " array([ 11.72419471,  11.78342242,  11.83296253,  11.7813521 ,\n",
        "        11.71859225,  14.06552307,  11.72946104,  11.72177101,\n",
        "        11.71882142,  11.71858877,  11.79023253,  11.71858877,\n",
        "        12.67426112,  11.71858879,  11.718591  ,  11.71859288,\n",
        "        11.71858886,  11.71858941,  11.71923505,  11.71858877,\n",
        "        11.71859426,  11.71858881,  11.71858887,  11.71864481,\n",
        "        11.71939256,  11.71922571,  11.71863101,  11.72255433,\n",
        "        11.71860894,  11.71873809,  11.86208769,  11.72045161,\n",
        "        11.71858877,  11.7185888 ,  11.71871027,  11.72748794,\n",
        "        11.71858877,  11.71858877,  11.71864847,  11.71886696,\n",
        "        11.71858877,  11.71932713,  11.7186556 ,  11.71858878,\n",
        "        11.71950726,  11.71889273,  11.71859134,  11.7185888 ,\n",
        "        11.7185897 ,  11.71859561,  11.71858888,  12.03157219,\n",
        "        11.71867619,  11.71941903,  11.71919493]),\n",
        " array([ 27.0705393 ,  27.3246642 ,  27.13436662,  27.11709768,\n",
        "        27.06821521,  30.13024398,  27.0708118 ,  27.07326005,\n",
        "        27.0683482 ,  27.09923082,  27.06821423,  27.06821423,\n",
        "        29.67665719,  27.06821424,  27.0682156 ,  27.06821652,\n",
        "        27.0682143 ,  27.06821466,  27.06854432,  27.06821423,\n",
        "        27.06821796,  27.06821425,  27.06821451,  27.0683163 ,\n",
        "        27.07059329,  27.06874982,  27.06827215,  27.09419407,\n",
        "        27.06824145,  27.06835588,  27.72791646,  27.0791643 ,\n",
        "        27.06821423,  27.0682143 ,  27.06833289,  27.22181685,\n",
        "        27.06821423,  27.06821423,  27.06826219,  27.06854914,\n",
        "        27.06821423,  27.06883925,  27.0684487 ,  27.06821424,\n",
        "        27.07078061,  27.06947174,  27.06821563,  27.06821425,\n",
        "        27.06821492,  27.06821752,  27.06821431,  27.2723984 ,\n",
        "        27.06825153,  27.06887728,  27.06914549]),\n",
        " array([  3.00472523e-03,   1.63941123e-02,   2.67464386e-02,\n",
        "         2.54107533e-02,   3.76930659e-06,   5.46256241e-01,\n",
        "         5.00063709e-03,   1.07696406e-03,   1.18510896e-04,\n",
        "         6.49643968e-02,   1.68432596e-02,   1.07597374e-08,\n",
        "         1.59017467e-01,   1.80821681e-08,   1.51232028e-06,\n",
        "         2.87290879e-06,   5.58721348e-08,   4.10439741e-07,\n",
        "         4.96885450e-04,   1.07911728e-08,   3.29436893e-06,\n",
        "         3.09475790e-08,   4.44972759e-08,   2.12422517e-05,\n",
        "         2.90650105e-04,   3.40357178e-04,   1.84065658e-05,\n",
        "         1.22379160e-03,   8.56484199e-06,   7.42593006e-05,\n",
        "         4.57973642e-02,   5.83842214e-04,   1.07597374e-08,\n",
        "         1.87206524e-08,   5.80876656e-05,   2.45122563e-03,\n",
        "         1.07597374e-08,   1.07597374e-08,   2.85000772e-05,\n",
        "         1.23760803e-04,   1.12248086e-08,   3.69956877e-04,\n",
        "         2.33088415e-05,   1.20603301e-08,   3.35894593e-04,\n",
        "         1.02430091e-04,   1.69549683e-06,   2.70236824e-08,\n",
        "         5.49375540e-07,   5.30880148e-06,   7.05982842e-08,\n",
        "         6.36852882e-02,   6.73058215e-05,   4.49628923e-04,\n",
        "         2.38074364e-04]),\n",
        " array([ 85.09098944,  85.35684249,  85.24604407,  85.17608254,\n",
        "        85.08582749,  96.96196333,  85.09256329,  85.09296355,\n",
        "        85.08609393,  85.21744669,  85.91564479,  85.0858251 ,\n",
        "        85.0858251 ,  85.08582512,  85.08582779,  85.08582973,\n",
        "        85.08582523,  85.08582593,  85.08651266,  85.0858251 ,\n",
        "        85.08583216,  85.08582514,  85.08582539,  85.08595644,\n",
        "        85.08830963,  85.08676677,  85.08590942,  85.10452107,\n",
        "        85.08586492,  85.0860632 ,  85.71199985,  85.09351628,\n",
        "        85.0858251 ,  85.08582517,  85.08602225,  85.14476048,\n",
        "        85.0858251 ,  85.0858251 ,  85.08591089,  85.08633834,\n",
        "        85.0858251 ,  85.08691937,  85.08605425,  85.08582511,\n",
        "        85.08872575,  85.0869461 ,  85.08582793,  85.08582514,\n",
        "        85.08582637,  85.08583205,  85.08582524,  86.08603174,\n",
        "        85.08590642,  85.08701141,  85.08711763]),\n",
        " array([ 0.00091494,  0.00122646,  0.00122303,  0.00198105,  0.00084655,\n",
        "        0.0066681 ,  0.0008864 ,  0.00089352,  0.00085253,  0.00102118,\n",
        "        0.00115924,  0.00084651,  0.002634  ,  0.00084651,  0.00084714,\n",
        "        0.00084705,  0.00084652,  0.00084713,  0.00089878,  0.00084651,\n",
        "        0.00084856,  0.00084655,  0.00084651,  0.00084806,  0.00086061,\n",
        "        0.00118602,  0.00084925,  0.000881  ,  0.0008476 ,  0.00087715,\n",
        "        0.00207727,  0.00086656,  0.00084651,  0.00084651,  0.00086088,\n",
        "        0.00090316,  0.00084651,  0.00084651,  0.00084975,  0.00086754,\n",
        "        0.00084651,  0.00093721,  0.00084745,  0.00084651,  0.00086007,\n",
        "        0.00085032,  0.00084671,  0.00084657,  0.00084819,  0.00084692,\n",
        "        0.00084691,  0.00136042,  0.00084917,  0.00117813,  0.00086648]),\n",
        " array([ 0.06969315,  0.07016483,  0.0702475 ,  0.07145165,  0.06953556,\n",
        "        0.08049443,  0.06962673,  0.06960567,  0.06954761,  0.06991059,\n",
        "        0.07006852,  0.06953546,  0.07283141,  0.06953547,  0.06953546,\n",
        "        0.06954075,  0.06953547,  0.06953716,  0.07003935,  0.06953546,\n",
        "        0.06953893,  0.0695355 ,  0.06953546,  0.06953741,  0.06955519,\n",
        "        0.06969465,  0.06953815,  0.06959012,  0.06953661,  0.06955666,\n",
        "        0.07151981,  0.06956574,  0.06953546,  0.06953546,  0.06954835,\n",
        "        0.06962846,  0.06953546,  0.06953546,  0.06954005,  0.06955569,\n",
        "        0.06953546,  0.06963011,  0.06953683,  0.06953546,  0.0695556 ,\n",
        "        0.06954114,  0.06953616,  0.06953548,  0.06953604,  0.06953795,\n",
        "        0.06953552,  0.07053652,  0.06954524,  0.06975417,  0.0695599 ]),\n",
        " array([ 0.06255538,  0.06335591,  0.06365957,  0.06650292,  0.06212691,\n",
        "        0.0823676 ,  0.06234763,  0.0622663 ,  0.06215972,  0.06290168,\n",
        "        0.06312487,  0.06212663,  0.06846801,  0.06212664,  0.06213256,\n",
        "        0.06212663,  0.06212666,  0.06212752,  0.06409988,  0.06212663,\n",
        "        0.06213387,  0.06212666,  0.06212664,  0.06213015,  0.06216013,\n",
        "        0.06237169,  0.06213106,  0.06222319,  0.06212865,  0.06216178,\n",
        "        0.06558926,  0.06218077,  0.06212663,  0.06212664,  0.06214993,\n",
        "        0.06229535,  0.06212663,  0.06212663,  0.06213707,  0.06216149,\n",
        "        0.06212664,  0.06231719,  0.06212898,  0.06212663,  0.06216037,\n",
        "        0.06213647,  0.06213069,  0.06212665,  0.06212735,  0.06214303,\n",
        "        0.06212668,  0.06400659,  0.06216694,  0.06250172,  0.06217142]),\n",
        " array([ 0.00231469,  0.00350632,  0.00370238,  0.01360113,  0.00191824,\n",
        "        0.017719  ,  0.00208994,  0.00220665,  0.00198007,  0.00246926,\n",
        "        0.00294346,  0.00191813,  0.00766409,  0.00191814,  0.0019185 ,\n",
        "        0.00191885,  0.00191813,  0.00191829,  0.0019871 ,  0.00191813,\n",
        "        0.0019208 ,  0.00191814,  0.00191814,  0.00192527,  0.0019568 ,\n",
        "        0.00239061,  0.00192701,  0.00201623,  0.00192352,  0.00204703,\n",
        "        0.00518357,  0.00198226,  0.00191813,  0.00191814,  0.0020749 ,\n",
        "        0.00209024,  0.00191813,  0.00191813,  0.00211981,  0.00202566,\n",
        "        0.00191814,  0.00804945,  0.00192065,  0.00191813,  0.00195119,\n",
        "        0.00192878,  0.00191878,  0.00191814,  0.00191852,  0.00191888,\n",
        "        0.00191816,  0.0033269 ,  0.00192638,  0.00277552,  0.0020303 ]),\n",
        " array([ 0.0097861 ,  0.01095134,  0.01107051,  0.01420397,  0.00944582,\n",
        "        0.03374474,  0.00963777,  0.00962399,  0.00947437,  0.01023802,\n",
        "        0.0106908 ,  0.00944563,  0.01688393,  0.00944569,  0.00945815,\n",
        "        0.00945143,  0.00944566,  0.00944563,  0.0099141 ,  0.00944563,\n",
        "        0.0094607 ,  0.00944581,  0.00944564,  0.00945088,  0.00949535,\n",
        "        0.01013407,  0.00945355,  0.00957646,  0.00944897,  0.00952092,\n",
        "        0.01414572,  0.00952   ,  0.00944563,  0.00944563,  0.00948753,\n",
        "        0.00966556,  0.00944563,  0.00944563,  0.00945847,  0.00950695,\n",
        "        0.00944563,  0.00975266,  0.00944902,  0.00944563,  0.00949487,\n",
        "        0.00945958,  0.00944702,  0.00944572,  0.00945002,  0.00944884,\n",
        "        0.00944595,  0.01163356,  0.0094626 ,  0.01036486,  0.00951275]),\n",
        " array([ 0.31711633,  0.34021562,  0.34904647,  0.41161703,  0.30593568,\n",
        "        0.93947061,  0.31246048,  0.30951958,  0.30666633,  0.33068173,\n",
        "        0.3351324 ,  0.30592572,  0.49715384,  0.30592586,  0.30604025,\n",
        "        0.30632644,  0.30592615,  0.30594018,  0.30592572,  0.30592572,\n",
        "        0.30601448,  0.30592624,  0.30592583,  0.3060154 ,  0.30686512,\n",
        "        0.31057938,  0.30603462,  0.30873952,  0.3059743 ,  0.30665981,\n",
        "        0.40844235,  0.30745261,  0.30592572,  0.30592574,  0.30642044,\n",
        "        0.31085645,  0.30592572,  0.30592572,  0.30614287,  0.30673946,\n",
        "        0.30592573,  0.30964347,  0.30599284,  0.30592572,  0.30690591,\n",
        "        0.30620707,  0.30597688,  0.30592604,  0.30593749,  0.3067583 ,\n",
        "        0.30592684,  0.36547183,  0.30708344,  0.31255723,  0.30703581]),\n",
        " array([  4.95767667e-05,   2.97027726e-04,   2.81088620e-04,\n",
        "         7.37375489e-04,   4.54588250e-06,   4.97883368e-03,\n",
        "         3.31242343e-05,   3.80118068e-05,   8.15529923e-06,\n",
        "         1.43702099e-04,   2.60256907e-04,   4.52171212e-06,\n",
        "         1.46121134e-03,   4.53352363e-06,   4.90494517e-06,\n",
        "         4.82124012e-06,   4.52581885e-06,   4.73499893e-06,\n",
        "         4.04083602e-05,   4.52171205e-06,   5.21546721e-06,\n",
        "         4.56140917e-06,   4.52313248e-06,   5.67358675e-06,\n",
        "         1.67045153e-05,   1.15019343e-04,   6.57029765e-06,\n",
        "         3.40367360e-05,   5.27607363e-06,   1.96545191e-05,\n",
        "         1.08002082e-03,   2.11171899e-05,   4.52171205e-06,\n",
        "         4.52204631e-06,   1.22505862e-05,   5.19865406e-05,\n",
        "         4.52171205e-06,   4.52171205e-06,   6.31991746e-06,\n",
        "         1.83691908e-05,   4.52180977e-06,   4.83141625e-05,\n",
        "         5.33425763e-06,   4.52176789e-06,   1.67214372e-05,\n",
        "         7.79901017e-06,   4.62712791e-06,   4.68476223e-06,\n",
        "         4.78980428e-06,   4.78315182e-06,   4.97828613e-06,\n",
        "         4.39970274e-04,   6.23470239e-06,   1.14777171e-04,\n",
        "         1.86877025e-05]),\n",
        " array([ 0.0916815 ,  0.09271789,  0.09292346,  0.09718892,  0.09127475,\n",
        "        0.11149484,  0.09147238,  0.0914636 ,  0.09131567,  0.0919794 ,\n",
        "        0.09238009,  0.09127457,  0.09785186,  0.09127459,  0.09127721,\n",
        "        0.0912795 ,  0.09127463,  0.09127613,  0.09157207,  0.09127457,\n",
        "        0.09127457,  0.0912746 ,  0.09127458,  0.09127975,  0.09131656,\n",
        "        0.09223072,  0.09128199,  0.09138547,  0.09127801,  0.09136781,\n",
        "        0.09516385,  0.09134016,  0.09127457,  0.09127457,  0.09132989,\n",
        "        0.09146494,  0.09127457,  0.09127457,  0.0912949 ,  0.09133974,\n",
        "        0.09127458,  0.09181416,  0.0912774 ,  0.09127457,  0.09131438,\n",
        "        0.09128636,  0.091277  ,  0.0912746 ,  0.09127891,  0.09127738,\n",
        "        0.09127467,  0.09310343,  0.09129349,  0.09322497,  0.0913443 ]),\n",
        " array([ 0.00321006,  0.00339812,  0.00340126,  0.0037902 ,  0.0031676 ,\n",
        "        0.00716524,  0.00319375,  0.00319365,  0.00317096,  0.00328809,\n",
        "        0.00336729,  0.00316758,  0.00434485,  0.00316759,  0.00316842,\n",
        "        0.00316801,  0.00316758,  0.00316811,  0.0032178 ,  0.00316758,\n",
        "        0.00316842,  0.00316758,  0.00316758,  0.0031684 ,  0.00317613,\n",
        "        0.00324856,  0.00316888,  0.00318957,  0.00316809,  0.00317785,\n",
        "        0.00396916,  0.00317983,  0.00316758,  0.00316758,  0.00317317,\n",
        "        0.00320375,  0.00316758,  0.00316758,  0.00316911,  0.00317688,\n",
        "        0.00316758,  0.00320318,  0.00316816,  0.00316758,  0.00317625,\n",
        "        0.00316995,  0.0031677 ,  0.00316766,  0.00316787,  0.00316791,\n",
        "        0.00316772,  0.00352356,  0.00316947,  0.00326009,  0.00317776]),\n",
        " array([ 0.00092897,  0.02844589,  0.01001205,  0.01709015,  0.00034297,\n",
        "        0.18631281,  0.00082877,  0.00290754,  0.00038527,  0.00362087,\n",
        "        0.02222976,  0.00034275,  0.07132821,  0.00034276,  0.00034324,\n",
        "        0.00034352,  0.00034279,  0.00034292,  0.00044471,  0.00034275,\n",
        "        0.00034424,  0.00034276,  0.00034275,  0.00053583,  0.00426265,\n",
        "        0.00060907,  0.00040576,  0.0041027 ,  0.00037068,  0.00042481,\n",
        "        0.09458312,  0.00612362,  0.00034275,  0.00034394,  0.00041348,\n",
        "        0.00551804,  0.00034275,  0.00034275,  0.00036386,  0.00062144,\n",
        "        0.00034275,  0.00065157,  0.00049819,  0.00034276,  0.00156227,\n",
        "        0.00103843,  0.00034321,  0.00034276,  0.00034305,  0.00034374,\n",
        "        0.00034279,  0.01444411,  0.00035315,  0.00065415,  0.00143006]),\n",
        " array([ 0.30787842,  0.32320213,  0.31493815,  0.32795942,  0.30732004,\n",
        "        0.39938354,  0.30772322,  0.31105357,  0.30736624,  0.30945645,\n",
        "        0.31631017,  0.30731986,  0.34368411,  0.30731986,  0.3073203 ,\n",
        "        0.30732057,  0.3073199 ,  0.30732002,  0.30740914,  0.30731986,\n",
        "        0.3073214 ,  0.30731987,  0.30732007,  0.30731986,  0.30795193,\n",
        "        0.30762919,  0.30742745,  0.30837672,  0.30740099,  0.30743017,\n",
        "        0.33778129,  0.30833787,  0.30731986,  0.30731989,  0.30742825,\n",
        "        0.30903196,  0.30731986,  0.30731986,  0.30734876,  0.30788251,\n",
        "        0.30731986,  0.30773744,  0.30735282,  0.30731986,  0.30767106,\n",
        "        0.30746184,  0.30732031,  0.30731987,  0.30732017,  0.30732074,\n",
        "        0.30731989,  0.31477947,  0.3073293 ,  0.30768194,  0.31626814]),\n",
        " array([ 1.93591366,  1.96285968,  1.94640297,  1.95260497,  1.9351868 ,\n",
        "        2.27997768,  1.93581666,  1.93712673,  1.93523668,  1.94005384,\n",
        "        1.96846339,  1.93518649,  2.04442581,  1.9351865 ,  1.9351872 ,\n",
        "        1.93518757,  1.93518653,  1.93518673,  1.935335  ,  1.93518649,\n",
        "        1.93518847,  1.9351865 ,  1.93518718,  1.93528687,  1.93518649,\n",
        "        1.93552925,  1.93525217,  1.94574268,  1.93521128,  1.93528489,\n",
        "        2.22300713,  1.94403766,  1.93518649,  1.93518682,  1.93526533,\n",
        "        1.94516796,  1.93518649,  1.93518649,  1.9352097 ,  1.93546797,\n",
        "        1.93518649,  1.93554379,  1.93678859,  1.93518652,  1.9430852 ,\n",
        "        1.93941324,  1.9351871 ,  1.9351865 ,  1.9351869 ,  1.93518789,\n",
        "        1.93518654,  1.96002411,  1.93520067,  1.93558273,  1.93593598]),\n",
        " array([ 6.63402029,  6.63641253,  6.63635418,  6.64430101,  6.63349834,\n",
        "        6.67023796,  6.63377816,  6.63392251,  6.63355224,  6.63462334,\n",
        "        6.63568364,  6.63349814,  6.64557666,  6.63349818,  6.63349981,\n",
        "        6.63350044,  6.63349828,  6.63349912,  6.63371276,  6.63349814,\n",
        "        6.6335113 ,  6.63349818,  6.63349815,  6.63351247,  6.63359813,\n",
        "        6.63349814,  6.63352551,  6.63373306,  6.63351025,  6.63452805,\n",
        "        6.64159863,  6.63364401,  6.63349814,  6.63349814,  6.63381024,\n",
        "        6.63388855,  6.63349814,  6.63349814,  6.63354057,  6.63377129,\n",
        "        6.63349815,  6.63554934,  6.63350455,  6.63349814,  6.63358713,\n",
        "        6.63352455,  6.63349941,  6.63349818,  6.63350322,  6.6335001 ,\n",
        "        6.63349834,  6.63672289,  6.6335142 ,  6.65547893,  6.63370036]),\n",
        " array([ 0.28713844,  0.29414324,  0.29153553,  0.30137181,  0.2866362 ,\n",
        "        0.35974265,  0.28697233,  0.28786321,  0.28668016,  0.28836288,\n",
        "        0.29210567,  0.28663602,  0.31166659,  0.28663602,  0.28663667,\n",
        "        0.28663698,  0.28663608,  0.28663628,  0.28675225,  0.28663602,\n",
        "        0.28663838,  0.28663603,  0.28663609,  0.28675137,  0.28707943,\n",
        "        0.28726944,  0.28663602,  0.28734222,  0.28684917,  0.28690889,\n",
        "        0.30936933,  0.28715969,  0.28663602,  0.28663603,  0.28685895,\n",
        "        0.28771421,  0.28663602,  0.28663602,  0.28666744,  0.2890146 ,\n",
        "        0.28663602,  0.28728449,  0.28665962,  0.28663602,  0.28693435,\n",
        "        0.28673058,  0.28663658,  0.28663603,  0.28663656,  0.28663711,\n",
        "        0.28663608,  0.29264641,  0.28664659,  0.28729186,  0.28810602]),\n",
        " array([ 14.02869238,  14.04675956,  14.03482363,  14.03558799,\n",
        "        14.02835586,  14.39541467,  14.02868745,  14.0291068 ,\n",
        "        14.02837673,  14.03166834,  14.07848474,  14.02835571,\n",
        "        14.14175189,  14.02835571,  14.02835598,  14.02835614,\n",
        "        14.02835572,  14.0283558 ,  14.02841707,  14.02835571,\n",
        "        14.02835643,  14.02835571,  14.0283558 ,  14.02837886,\n",
        "        14.02981192,  14.02846679,  14.02837014,  14.02835571,\n",
        "        14.02836184,  14.02838558,  15.36374474,  14.03434493,\n",
        "        14.02835571,  14.02835574,  14.02837989,  14.06892316,\n",
        "        14.02835571,  14.02835571,  14.02836412,  14.02842983,\n",
        "        14.02835571,  14.02847575,  14.02860393,  14.02835571,\n",
        "        14.0305386 ,  14.0300961 ,  14.02835596,  14.02835571,\n",
        "        14.02835585,  14.0283563 ,  14.02835573,  14.05136303,\n",
        "        14.02836193,  14.02848883,  14.0285515 ]),\n",
        " array([ 0.12778796,  0.13619161,  0.13317499,  0.14857287,  0.12717914,\n",
        "        0.20024433,  0.12757054,  0.12909318,  0.12723568,  0.12903741,\n",
        "        0.13297359,  0.12717894,  0.15382316,  0.12717895,  0.12717957,\n",
        "        0.12717992,  0.12717902,  0.12717919,  0.12729579,  0.12717894,\n",
        "        0.12718141,  0.12717895,  0.12717901,  0.12737499,  0.12755616,\n",
        "        0.12781068,  0.12765936,  0.12785534,  0.12717894,  0.12747258,\n",
        "        0.14839069,  0.12770492,  0.12717894,  0.12717895,  0.12749721,\n",
        "        0.12826548,  0.12717894,  0.12717894,  0.12722514,  0.13295688,\n",
        "        0.12717894,  0.12804017,  0.1271998 ,  0.12717894,  0.12743199,\n",
        "        0.12726535,  0.12717956,  0.12717895,  0.12717947,  0.12718008,\n",
        "        0.12717899,  0.1332585 ,  0.12719053,  0.12787712,  0.13147712]),\n",
        " array([ 1.02932771,  1.03379342,  1.03330089,  1.04784248,  1.02857964,\n",
        "        1.08660488,  1.02899208,  1.02943304,  1.02865871,  1.03028053,\n",
        "        1.03230715,  1.02857937,  1.04827511,  1.0285794 ,  1.02858081,\n",
        "        1.0285815 ,  1.02857962,  1.02858007,  1.02879771,  1.02857938,\n",
        "        1.02858765,  1.02857941,  1.0285794 ,  1.02861233,  1.02876452,\n",
        "        1.03522143,  1.02865542,  1.02898682,  1.02861568,  1.02857937,\n",
        "        1.04231016,  1.02884581,  1.02857937,  1.02857938,  1.03075744,\n",
        "        1.02925145,  1.02857937,  1.02857937,  1.02865836,  1.02962425,\n",
        "        1.02857938,  1.03285444,  1.02859084,  1.02857938,  1.02873388,\n",
        "        1.02862661,  1.02858067,  1.02857941,  1.02858153,  1.02858144,\n",
        "        1.02857953,  1.03360206,  1.02859821,  1.03383428,  1.02908167]),\n",
        " array([ 22.94991905,  23.23829379,  23.06740706,  23.08347754,\n",
        "        22.94295427,  32.65791378,  22.94988346,  22.95613526,\n",
        "        22.94338017,  23.01624601,  23.72127112,  22.94295096,\n",
        "        25.26517163,  22.942951  ,  22.94295697,  22.94296034,\n",
        "        22.94295123,  22.94295289,  22.94431794,  22.94295096,\n",
        "        22.94296643,  22.94295107,  22.94295237,  22.94335899,\n",
        "        22.96722798,  22.94529305,  22.94323498,  23.75946809,\n",
        "        22.94306854,  22.94356654,  22.94295096,  22.99987214,\n",
        "        22.94295096,  22.94295137,  22.94343945,  23.35031109,\n",
        "        22.94295096,  22.94295096,  22.94311975,  22.94441061,\n",
        "        22.94295096,  22.94540287,  22.94694505,  22.94295108,\n",
        "        23.00133818,  22.96362614,  22.94295626,  22.94295106,\n",
        "        22.94295399,  22.94296394,  22.94295134,  23.5213105 ,\n",
        "        22.9430857 ,  22.94575156,  22.9465245 ]),\n",
        " array([ 5.05287683,  5.0946096 ,  5.06346876,  5.06609188,  5.05232223,\n",
        "        5.37595827,  5.05283896,  5.05414165,  5.05235847,  5.05664275,\n",
        "        5.11098788,  5.052322  ,  5.18184868,  5.05232201,  5.05232242,\n",
        "        5.05232267,  5.05232203,  5.05232214,  5.05241446,  5.052322  ,\n",
        "        5.05232319,  5.05232201,  5.0523224 ,  5.05238393,  5.05571226,\n",
        "        5.05251353,  5.05235171,  5.06895178,  5.05233524,  5.05237625,\n",
        "        5.3108051 ,  5.052322  ,  5.052322  ,  5.05232212,  5.05236753,\n",
        "        5.07325405,  5.052322  ,  5.052322  ,  5.05233759,  5.052472  ,\n",
        "        5.052322  ,  5.05254011,  5.05264269,  5.05232201,  5.05422904,\n",
        "        5.05463267,  5.0523224 ,  5.05232201,  5.05232223,  5.0523229 ,\n",
        "        5.05232203,  5.07505695,  5.05233165,  5.05255113,  5.05279315]),\n",
        " array([  4.72170696e-04,   1.23310630e-02,   6.04991534e-03,\n",
        "         1.26295181e-02,   1.87127027e-07,   1.24170520e-01,\n",
        "         3.65423183e-04,   1.39136667e-03,   3.60277319e-05,\n",
        "         2.31360668e-03,   1.05678350e-02,   8.40766901e-13,\n",
        "         4.14343066e-02,   5.21754901e-09,   5.21561146e-07,\n",
        "         7.74881422e-07,   3.36048500e-08,   1.89592317e-07,\n",
        "         1.01757266e-04,   2.33788613e-11,   1.58945692e-06,\n",
        "         1.09098974e-08,   3.61332973e-07,   1.39168926e-04,\n",
        "         2.33274988e-03,   3.19146251e-04,   1.26853127e-04,\n",
        "         1.83413467e-03,   3.76337788e-05,   1.02385818e-04,\n",
        "         5.58519294e-02,   1.55737995e-03,   0.00000000e+00,\n",
        "         9.08095409e-08,   8.24641797e-05,   2.42157001e-03,\n",
        "         0.00000000e+00,   0.00000000e+00,   1.96144049e-05,\n",
        "         3.79961701e-04,   2.95753566e-10,   3.28804260e-04,\n",
        "         8.63172861e-05,   4.38571572e-09,   9.57018415e-04,\n",
        "         3.21827525e-04,   4.44526039e-07,   1.07899011e-08,\n",
        "         3.42116680e-07,   9.54489688e-07,   4.30554703e-08,\n",
        "         9.63196918e-03,   9.45976894e-06,   3.54895471e-04,\n",
        "         9.52600015e-04]),\n",
        " array([  9.39750119e-04,   4.06299411e-02,   1.45073512e-02,\n",
        "         2.40209158e-02,   5.02061983e-05,   3.22532837e-01,\n",
        "         7.99527947e-04,   3.33233880e-03,   1.13318541e-04,\n",
        "         5.34395664e-03,   3.68301357e-02,   4.98587802e-05,\n",
        "         1.17389017e-01,   4.98656477e-05,   5.06344793e-05,\n",
        "         5.10648070e-05,   4.99082111e-05,   5.01279469e-05,\n",
        "         2.12432462e-04,   4.98588088e-05,   5.21601428e-05,\n",
        "         4.98738218e-05,   5.80273561e-05,   2.63601666e-04,\n",
        "         1.29919376e-02,   4.59244854e-04,   1.41866521e-04,\n",
        "         7.68643354e-03,   8.80338729e-05,   1.73318513e-04,\n",
        "         1.89412911e-01,   1.16835462e-02,   4.98587785e-05,\n",
        "         4.98587785e-05,   1.53671136e-04,   9.51617980e-03,\n",
        "         4.98587785e-05,   4.98587785e-05,   8.06237095e-05,\n",
        "         4.47490349e-04,   4.98591925e-05,   5.08028117e-04,\n",
        "         4.49451615e-04,   4.98684319e-05,   2.82672427e-03,\n",
        "         1.77703472e-03,   5.05725115e-05,   4.98730983e-05,\n",
        "         5.03249677e-05,   5.14194243e-05,   4.99150613e-05,\n",
        "         2.40972169e-02,   6.61023125e-05,   5.26493714e-04,\n",
        "         1.39401694e-03]),\n",
        " array([ 0.93306694,  0.93749826,  0.93702036,  0.95474755,  0.9323441 ,\n",
        "        0.98319943,  0.93273129,  0.93330882,  0.9324261 ,  0.933871  ,\n",
        "        0.93578902,  0.93234387,  0.95033615,  0.93234389,  0.93234484,\n",
        "        0.93234543,  0.9323442 ,  0.9323443 ,  0.93250621,  0.93234387,\n",
        "        0.93234929,  0.93234389,  0.9323439 ,  0.9323796 ,  0.93250751,\n",
        "        0.93456445,  0.93241241,  0.93270765,  0.93238729,  0.93474676,\n",
        "        0.94436451,  0.93259056,  0.93234387,  0.93234388,  0.93234387,\n",
        "        0.93295409,  0.93234387,  0.93234387,  0.93245378,  0.93367378,\n",
        "        0.93234388,  0.93832913,  0.93235396,  0.93234387,  0.93247589,\n",
        "        0.93238589,  0.93234492,  0.93234389,  0.93234503,  0.93234548,\n",
        "        0.93234396,  0.93674904,  0.93235971,  0.93489312,  0.93294857]),\n",
        " array([ 11.56122667,  11.61994391,  11.57837026,  11.57742992,\n",
        "        11.56042942,  12.6265128 ,  11.56125833,  11.56221596,\n",
        "        11.56047718,  11.56944999,  11.92008256,  11.56042907,\n",
        "        11.99419894,  11.56042908,  11.56042963,  11.56042998,\n",
        "        11.5604291 ,  11.56042925,  11.56055956,  11.56042907,\n",
        "        11.56043058,  11.56042908,  11.56042923,  11.56047459,\n",
        "        11.56209995,  11.56065309,  11.56045581,  11.60965689,\n",
        "        11.56044103,  11.56048887,  12.36888034,  11.56957713,\n",
        "        11.56042907,  11.56042911,  11.56047829,  11.56042907,\n",
        "        11.56042907,  11.56042907,  11.56044741,  11.56057443,\n",
        "        11.56042907,  11.56068006,  11.56062876,  11.56042908,\n",
        "        11.56243828,  11.56161982,  11.56042961,  11.56042908,\n",
        "        11.56042936,  11.56043035,  11.56042911,  11.62588447,\n",
        "        11.56044295,  11.56070164,  11.56082572]),\n",
        " array([  4.05293905e-04,   8.35055437e-03,   4.65444371e-03,\n",
        "         1.25226437e-02,   1.45570874e-07,   7.05531957e-02,\n",
        "         2.87090547e-04,   1.37449892e-03,   3.39155395e-05,\n",
        "         1.56432027e-03,   5.89518542e-03,   5.86370804e-13,\n",
        "         2.50352798e-02,   4.69139881e-09,   4.33295058e-07,\n",
        "         6.57179066e-07,   3.78019895e-08,   1.64342634e-07,\n",
        "         8.21460357e-05,   1.93107747e-11,   1.48589308e-06,\n",
        "         9.02432542e-09,   1.27529100e-07,   2.53792647e-04,\n",
        "         5.78580619e-04,   3.36964364e-04,   3.94014985e-04,\n",
        "         7.96234185e-04,   1.18557341e-04,   1.26683605e-04,\n",
        "         2.44505965e-02,   6.63211092e-04,   0.00000000e+00,\n",
        "         2.51162003e-08,   1.11584297e-04,   1.19430841e-03,\n",
        "         0.00000000e+00,   0.00000000e+00,   2.19105797e-05,\n",
        "         7.91714732e-04,   2.96471348e-10,   3.82532318e-04,\n",
        "         2.82290839e-05,   1.43132895e-09,   3.28301556e-04,\n",
        "         1.13868530e-04,   3.94235686e-07,   9.05664747e-09,\n",
        "         3.20858253e-07,   7.83741957e-07,   3.69591352e-08,\n",
        "         5.69376898e-03,   7.87428971e-06,   3.70513145e-04,\n",
        "         2.05606995e-03]),\n",
        " array([  3.61930489e-04,   1.02225800e-02,   4.79890604e-03,\n",
        "         1.07087973e-02,   1.34120706e-07,   8.23940442e-02,\n",
        "         2.74705398e-04,   1.37577848e-03,   2.83476414e-05,\n",
        "         1.64677398e-03,   7.59401486e-03,   5.85233169e-13,\n",
        "         2.94802604e-02,   3.52652392e-09,   3.55256469e-07,\n",
        "         5.43295356e-07,   2.68082485e-08,   1.29618052e-07,\n",
        "         7.01889738e-05,   1.50794414e-11,   1.13894517e-06,\n",
        "         7.20390265e-09,   3.52931241e-07,   2.38001038e-04,\n",
        "         1.10792948e-03,   2.30723196e-04,   1.04859268e-04,\n",
        "         1.15349549e-03,   3.90043219e-05,   7.76056671e-05,\n",
        "         3.36813775e-02,   1.09980334e-03,   0.00000000e+00,\n",
        "         6.46334260e-08,   6.67245812e-05,   1.64153670e-03,\n",
        "         0.00000000e+00,   0.00000000e+00,   1.61344641e-05,\n",
        "         3.36288705e-04,   2.16540102e-10,   2.59743205e-04,\n",
        "         4.62945408e-05,   2.03849509e-09,   4.83469321e-04,\n",
        "         1.85851160e-04,   3.23585269e-07,   7.07424574e-09,\n",
        "         2.39384555e-07,   6.70651851e-07,   2.83759453e-08,\n",
        "         6.47527450e-03,   6.83361931e-06,   2.60411802e-04,\n",
        "         1.21622932e-03]),\n",
        " array([ 0.32422394,  0.32911646,  0.33045015,  0.40081859,  0.32240806,\n",
        "        0.38185286,  0.32314377,  0.32376864,  0.32275139,  0.32457738,\n",
        "        0.3264345 ,  0.32240768,  0.3450475 ,  0.32240769,  0.32240867,\n",
        "        0.32240969,  0.32240888,  0.32240806,  0.32261373,  0.32240768,\n",
        "        0.32241344,  0.3224077 ,  0.32240771,  0.32243523,  0.322547  ,\n",
        "        0.32328075,  0.32243562,  0.32277382,  0.32242591,  0.32265967,\n",
        "        0.3344192 ,  0.32265195,  0.32240768,  0.32240769,  0.3227255 ,\n",
        "        0.32306525,  0.32240768,  0.32240768,  0.32240768,  0.3227325 ,\n",
        "        0.32240769,  0.32647977,  0.3224168 ,  0.32240768,  0.32252533,\n",
        "        0.3224468 ,  0.32240957,  0.3224077 ,  0.32240852,  0.32241   ,\n",
        "        0.32240774,  0.327732  ,  0.32243613,  0.32380789,  0.32284977]),\n",
        " array([ 2.84318158,  2.84754547,  2.84631071,  2.85639434,  2.84276877,\n",
        "        2.8859773 ,  2.84302144,  2.84370655,  2.84280899,  2.8439154 ,\n",
        "        2.84595755,  2.84276864,  2.85813039,  2.84276864,  2.84276913,\n",
        "        2.8427694 ,  2.84276871,  2.84276884,  2.84285621,  2.84276864,\n",
        "        2.84277073,  2.84276865,  2.84276867,  2.84282946,  2.84296025,\n",
        "        2.84340603,  2.84300847,  2.8431344 ,  2.84302713,  2.8431467 ,\n",
        "        2.85454896,  2.84303522,  2.84276864,  2.84276864,  2.84320481,\n",
        "        2.84335975,  2.84276864,  2.84276864,  2.84280548,  2.84276864,\n",
        "        2.84276864,  2.84362139,  2.84277963,  2.84276864,  2.84290765,\n",
        "        2.84281397,  2.84276912,  2.84276865,  2.8427691 ,  2.84276948,\n",
        "        2.84276868,  2.84640729,  2.84277704,  2.84344317,  2.84390398]),\n",
        " array([  7.00572603e-04,   2.81031057e-03,   3.06968592e-03,\n",
        "         1.23870283e-02,   8.35849602e-06,   3.57707534e-02,\n",
        "         3.42767503e-04,   4.08293290e-04,   8.56570619e-05,\n",
        "         1.21075584e-03,   2.07638667e-03,   8.09958264e-06,\n",
        "         1.19251121e-02,   8.13019343e-06,   1.04117132e-05,\n",
        "         1.20383982e-05,   8.28784061e-06,   9.40828313e-06,\n",
        "         3.15648056e-04,   8.09963658e-06,   6.08189974e-05,\n",
        "         8.13631912e-06,   8.11099471e-06,   1.95738593e-05,\n",
        "         9.09632154e-05,   4.49793912e-03,   2.56368238e-05,\n",
        "         2.17960984e-04,   1.65005415e-05,   3.38049877e-04,\n",
        "         7.26206184e-03,   1.36299853e-04,   8.09958202e-06,\n",
        "         8.10213038e-06,   1.90988600e-04,   3.66372638e-04,\n",
        "         8.09958202e-06,   8.09958202e-06,   6.20132492e-05,\n",
        "         1.78332471e-04,   8.09958202e-06,   2.18618763e-03,\n",
        "         1.35646325e-05,   8.09990830e-06,   8.37706177e-05,\n",
        "         3.08674537e-05,   1.06249103e-05,   8.13304433e-06,\n",
        "         1.45849115e-05,   1.10963657e-05,   8.24643848e-06,\n",
        "         3.20635665e-03,   3.24607093e-05,   1.99373723e-02,\n",
        "         1.68951190e-04]),\n",
        " array([ 1.78550431,  1.79681722,  1.79746568,  1.86512672,  1.78255529,\n",
        "        1.92934667,  1.78394668,  1.78508729,  1.78294863,  1.78740846,\n",
        "        1.79204537,  1.78255444,  1.8347868 ,  1.78255448,  1.78255813,\n",
        "        1.78256108,  1.78256104,  1.78255607,  1.78319249,  1.78255444,\n",
        "        1.78258207,  1.7825545 ,  1.7825545 ,  1.78262643,  1.78294234,\n",
        "        1.79018764,  1.78265872,  1.78349916,  1.78261589,  1.78502126,\n",
        "        1.81411262,  1.78317263,  1.78255444,  1.78255445,  1.78568496,\n",
        "        1.78418217,  1.78255444,  1.78255444,  1.78329095,  1.78391439,\n",
        "        1.78255445,  1.78255444,  1.7825793 ,  1.78255444,  1.78288366,\n",
        "        1.78265896,  1.78255964,  1.7825545 ,  1.78255909,  1.78256106,\n",
        "        1.7825547 ,  1.79552823,  1.78262186,  1.7962025 ,  1.78369295]),\n",
        " array([ 0.42581639,  0.43537203,  0.42946543,  0.43097142,  0.42557791,\n",
        "        0.57880578,  0.42579426,  0.42614891,  0.42559364,  0.427418  ,\n",
        "        0.44049114,  0.4255778 ,  0.47139182,  0.4255778 ,  0.42557802,\n",
        "        0.42557814,  0.42557781,  0.42557788,  0.42562605,  0.4255778 ,\n",
        "        0.42557841,  0.4255778 ,  0.42557793,  0.4256016 ,  0.43286286,\n",
        "        0.42567776,  0.4255937 ,  0.43375997,  0.42558403,  0.42560552,\n",
        "        0.64089986,  0.42938489,  0.4255778 ,  0.42557785,  0.42559989,\n",
        "        0.43100199,  0.4255778 ,  0.4255778 ,  0.42558471,  0.42565126,\n",
        "        0.4255778 ,  0.4256819 ,  0.4255778 ,  0.42557781,  0.43238865,\n",
        "        0.4355149 ,  0.42557799,  0.4255778 ,  0.42557792,  0.42557826,\n",
        "        0.42557782,  0.43612654,  0.42558244,  0.42569474,  0.42576732]),\n",
        " array([  1.58975161e-04,   3.13286377e-03,   1.59507208e-03,\n",
        "         2.37432163e-03,   4.79021359e-05,   6.68146679e-02,\n",
        "         1.46251608e-04,   2.57055483e-04,   5.52694341e-05,\n",
        "         8.73335755e-04,   4.43302684e-03,   4.78492709e-05,\n",
        "         1.70441306e-02,   4.78503445e-05,   4.79767119e-05,\n",
        "         4.80359109e-05,   4.78548195e-05,   4.78919753e-05,\n",
        "         7.45048716e-05,   4.78492758e-05,   4.81763350e-05,\n",
        "         4.78518433e-05,   4.78804192e-05,   5.68432603e-05,\n",
        "         1.07167681e-03,   1.02092077e-04,   5.58965892e-05,\n",
        "         1.43776704e-03,   5.07266199e-05,   6.24120759e-05,\n",
        "         5.93609301e-02,   5.92009037e-04,   4.78492706e-05,\n",
        "         4.78593293e-05,   5.89029241e-05,   1.34238289e-03,\n",
        "         4.78492706e-05,   4.78492706e-05,   5.11065834e-05,\n",
        "         8.36993907e-05,   4.78493258e-05,   9.98626005e-05,\n",
        "         1.46927692e-04,   4.78492706e-05,   5.97936452e-03,\n",
        "         3.10802531e-04,   4.79500443e-05,   4.78517010e-05,\n",
        "         4.79175966e-05,   4.80937812e-05,   4.78585960e-05,\n",
        "         4.75885212e-03,   5.02293872e-05,   1.10187913e-04,\n",
        "         1.25075382e-04]),\n",
        " array([ 3.45199624,  3.46432086,  3.45748124,  3.45984854,  3.45160635,\n",
        "        3.72863168,  3.45196111,  3.45238207,  3.45163178,  3.45472452,\n",
        "        3.4717323 ,  3.45160617,  3.52311047,  3.45160618,  3.45160658,\n",
        "        3.45160678,  3.45160619,  3.45160631,  3.45169305,  3.45160617,\n",
        "        3.45160722,  3.45160618,  3.45160629,  3.45163744,  3.45603468,\n",
        "        3.4517772 ,  3.45163095,  3.46047811,  3.4516155 ,  3.45165221,\n",
        "        3.83970815,  3.45439761,  3.45160617,  3.45160621,  3.45164183,\n",
        "        3.45833558,  3.45160617,  3.45160617,  3.45161716,  3.45172066,\n",
        "        3.45160617,  3.4517762 ,  3.45244594,  3.45160625,  3.45160617,\n",
        "        3.45355752,  3.45160651,  3.45160618,  3.45160639,  3.45160698,\n",
        "        3.4516062 ,  3.47051384,  3.4516142 ,  3.45180512,  3.45187039]),\n",
        " array([ 16.03690971,  16.03818724,  16.03736102,  16.03751654,\n",
        "        16.0368819 ,  16.0558491 ,  16.03690752,  16.0369515 ,\n",
        "        16.03688372,  16.037104  ,  16.03900442,  16.03688189,\n",
        "        16.04282949,  16.03688189,  16.03688192,  16.03688193,\n",
        "        16.03688189,  16.0368819 ,  16.03688726,  16.03688189,\n",
        "        16.03688196,  16.03688189,  16.03688191,  16.03688461,\n",
        "        16.03739194,  16.03689282,  16.03688358,  16.03840431,\n",
        "        16.03688258,  16.03688492,  16.06646056,  16.03760985,\n",
        "        16.03688189,  16.0368819 ,  16.03688433,  16.03774026,\n",
        "        16.03688189,  16.03688189,  16.03688268,  16.03688993,\n",
        "        16.03688189,  16.03689351,  16.0371456 ,  16.03688189,\n",
        "        16.03730188,  16.03688189,  16.03688191,  16.03688189,\n",
        "        16.03688191,  16.03688194,  16.03688189,  16.03817374,\n",
        "        16.03688242,  16.03689476,  16.03690347]),\n",
        " array([ 0.01387888,  0.01588033,  0.01751691,  0.032249  ,  0.01151325,\n",
        "        0.07406365,  0.01244688,  0.01204671,  0.01172846,  0.01412591,\n",
        "        0.0147968 ,  0.01151218,  0.03246219,  0.0115122 ,  0.01151641,\n",
        "        0.01153409,  0.01151229,  0.01151332,  0.01287186,  0.01151218,\n",
        "        0.0115314 ,  0.01151222,  0.0115122 ,  0.01152429,  0.01161512,\n",
        "        0.01224214,  0.01152621,  0.0118132 ,  0.01151906,  0.0116281 ,\n",
        "        0.02206995,  0.01168661,  0.01151218,  0.01151219,  0.0115973 ,\n",
        "        0.01205082,  0.01151218,  0.01151218,  0.01156506,  0.0116305 ,\n",
        "        0.01151218,  0.0123167 ,  0.01151936,  0.01151218,  0.01161237,\n",
        "        0.01154262,  0.01151218,  0.01151221,  0.01151374,  0.0115359 ,\n",
        "        0.01151228,  0.01735805,  0.01175223,  0.01273976,  0.01167146]),\n",
        " array([ 0.00111425,  0.00165725,  0.00164147,  0.00273479,  0.00100456,\n",
        "        0.01197147,  0.00107243,  0.00107998,  0.00101345,  0.00132303,\n",
        "        0.00156733,  0.0010045 ,  0.00424937,  0.00100455,  0.00100575,\n",
        "        0.00100537,  0.00100451,  0.00100534,  0.00110323,  0.0010045 ,\n",
        "        0.00100658,  0.00100474,  0.0010045 ,  0.001007  ,  0.00103012,\n",
        "        0.00128419,  0.00100878,  0.00106792,  0.00100614,  0.00103933,\n",
        "        0.00330722,  0.00104026,  0.0010045 ,  0.0010045 ,  0.00102238,\n",
        "        0.00110766,  0.0010045 ,  0.0010045 ,  0.00100886,  0.00103465,\n",
        "        0.0010045 ,  0.00111179,  0.00100622,  0.0010045 ,  0.00103007,\n",
        "        0.00101147,  0.00100479,  0.0010045 ,  0.00100537,  0.00100521,\n",
        "        0.00100738,  0.00197149,  0.00100891,  0.00129525,  0.00103561]),\n",
        " array([ 0.0045004 ,  0.01240466,  0.01286336,  0.03747467,  0.0023583 ,\n",
        "        0.14664439,  0.0035108 ,  0.00366244,  0.00256081,  0.00696649,\n",
        "        0.01028034,  0.00235733,  0.0481442 ,  0.00235794,  0.00237452,\n",
        "        0.00237613,  0.00235765,  0.00237492,  0.00388537,  0.00235733,\n",
        "        0.00252519,  0.00235772,  0.00235738,  0.00239747,  0.00269136,\n",
        "        0.01665795,  0.00242332,  0.00319512,  0.00238571,  0.00329708,\n",
        "        0.03189325,  0.00285272,  0.00235733,  0.00235734,  0.00281318,\n",
        "        0.00376068,  0.00235733,  0.00235733,  0.00247152,  0.00291683,\n",
        "        0.00235736,  0.00587247,  0.00237949,  0.00235733,  0.00267295,\n",
        "        0.00244866,  0.00236496,  0.0023577 ,  0.00235733,  0.00237008,\n",
        "        0.00235909,  0.01520953,  0.00244339,  0.02190992,  0.00289179]),\n",
        " array([ 0.02984444,  0.03205667,  0.03339242,  0.04139621,  0.02822301,\n",
        "        0.09523309,  0.02908431,  0.0286302 ,  0.02832552,  0.03106003,\n",
        "        0.03137788,  0.02822151,  0.04918544,  0.02822152,  0.02822765,\n",
        "        0.02825759,  0.02822156,  0.02822258,  0.03724684,  0.02822151,\n",
        "        0.02823058,  0.02822155,  0.02822152,  0.02823111,  0.02831748,\n",
        "        0.02868237,  0.02823261,  0.02851428,  0.02822663,  0.02829692,\n",
        "        0.03877433,  0.02838242,  0.02822151,  0.02822151,  0.02827455,\n",
        "        0.02874326,  0.02822151,  0.02822151,  0.02824795,  0.02830675,\n",
        "        0.02822151,  0.02863961,  0.02822837,  0.02822151,  0.02832022,\n",
        "        0.0282505 ,  0.02823118,  0.02822153,  0.02822257,  0.02822151,\n",
        "        0.0282216 ,  0.03457945,  0.02851683,  0.02890382,  0.02834162]),\n",
        " array([ 0.00345065,  0.00408864,  0.00406426,  0.00539666,  0.00332349,\n",
        "        0.01576409,  0.00340119,  0.00341399,  0.00333404,  0.00368388,\n",
        "        0.00397467,  0.00332342,  0.00704475,  0.00332353,  0.00332465,\n",
        "        0.00332436,  0.00332344,  0.00332432,  0.00342663,  0.00332342,\n",
        "        0.00332601,  0.00332356,  0.00332343,  0.00332647,  0.00335357,\n",
        "        0.00373017,  0.00332883,  0.00339693,  0.00332548,  0.00337109,\n",
        "        0.00597693,  0.00336536,  0.00332342,  0.00332343,  0.00334691,\n",
        "        0.00344287,  0.00332342,  0.00332342,  0.00332883,  0.00336208,\n",
        "        0.00332342,  0.00346251,  0.00332543,  0.00332342,  0.00335308,\n",
        "        0.00333156,  0.00332375,  0.0033243 ,  0.00332467,  0.00332419,\n",
        "        0.00332342,  0.00441754,  0.00332837,  0.00372555,  0.00336172]),\n",
        " array([ 59.63547731,  59.67698918,  59.66896724,  59.66041602,\n",
        "        59.63368262,  91.83395385,  59.63600785,  59.635471  ,\n",
        "        59.63377326,  59.69518581,  59.72636243,  59.63368158,\n",
        "        61.06078459,  59.63368158,  59.63368274,  59.63368353,\n",
        "        59.63368162,  59.63368192,  59.63398705,  59.63368158,\n",
        "        59.63368437,  59.63368159,  59.63368166,  59.63372002,\n",
        "        59.63448759,  59.63404029,  59.63371047,  59.63909387,\n",
        "        59.63369454,  59.63376821,  59.85619466,  59.63560774,\n",
        "        59.63368158,  59.6336816 ,  59.63375045,  59.64637059,\n",
        "        59.63368158,  59.63368158,  59.63371036,  59.63385503,\n",
        "        59.63368158,  59.63406938,  59.63375686,  59.63368158,\n",
        "        59.63477595,  59.63402898,  59.6336827 ,  59.63368159,\n",
        "        59.63368208,  59.63368458,  59.63368164,  59.63368158,\n",
        "        59.63371514,  59.63413125,  59.63406859]),\n",
        " array([ 0.15632246,  0.15822262,  0.16312914,  0.18502058,  0.14954088,\n",
        "        0.28818284,  0.15241061,  0.15046741,  0.14988553,  0.15638522,\n",
        "        0.15628615,  0.14953459,  0.19580774,  0.1495346 ,  0.14953914,\n",
        "        0.14955133,  0.14953469,  0.14953566,  0.15190311,  0.14953459,\n",
        "        0.14954613,  0.14953463,  0.14953461,  0.14955399,  0.1497181 ,\n",
        "        0.15024684,  0.14955485,  0.15011777,  0.14954445,  0.14966415,\n",
        "        0.17020735,  0.14986051,  0.14953459,  0.14953459,  0.14963334,\n",
        "        0.15060707,  0.14953459,  0.14953459,  0.14959593,  0.14969434,\n",
        "        0.14953459,  0.15033822,  0.1495478 ,  0.14953459,  0.14972001,\n",
        "        0.14959115,  0.14955307,  0.14953462,  0.14953594,  0.14959032,\n",
        "        0.1495347 ,  0.16292183,  0.14953459,  0.15060871,  0.14977965]),\n",
        " array([ 2.80565737,  2.8125409 ,  2.81283078,  2.84016606,  2.8038436 ,\n",
        "        2.91185764,  2.80476168,  2.80512425,  2.80404255,  2.80731299,\n",
        "        2.81024403,  2.80384293,  2.83984291,  2.80384303,  2.80384836,\n",
        "        2.80385125,  2.80384352,  2.80384603,  2.80456649,  2.80384293,\n",
        "        2.80390643,  2.80384304,  2.80384297,  2.80388262,  2.80411642,\n",
        "        2.85584639,  2.80390998,  2.80450897,  2.8038746 ,  2.80577068,\n",
        "        2.82675936,  2.80425581,  2.80384293,  2.80384294,  2.80469062,\n",
        "        2.80496676,  2.80384293,  2.80384293,  2.80400394,  2.80452683,\n",
        "        2.80384299,  2.81251974,  2.80386068,  2.80384294,  2.80408784,\n",
        "        2.80391655,  2.80384797,  2.80384304,  2.80385937,  2.8038498 ,\n",
        "        2.80384341,  2.81340691,  2.80390022,  2.80384293,  2.80440817]),\n",
        " array([ 4.88188069,  4.8908335 ,  4.88686189,  4.90022604,  4.88142932,\n",
        "        4.93853461,  4.88173291,  4.88428887,  4.88146962,  4.88288434,\n",
        "        4.88659317,  4.88142918,  4.90395857,  4.88142919,  4.88142953,\n",
        "        4.88142975,  4.88142923,  4.88142931,  4.88149875,  4.88142918,\n",
        "        4.88143049,  4.88142919,  4.88142926,  4.88199254,  4.88172631,\n",
        "        4.88170398,  4.8815155 ,  4.88199185,  4.88154116,  4.88153502,\n",
        "        4.89822497,  4.88191682,  4.88142918,  4.8814292 ,  4.88154468,\n",
        "        4.88236854,  4.88142918,  4.88142918,  4.88145838,  4.88209037,\n",
        "        4.88142918,  4.88184493,  4.8814457 ,  4.88142918,  4.88161601,\n",
        "        4.88150008,  4.88142956,  4.88142919,  4.88142944,  4.88142988,\n",
        "        4.88142921,  4.88615707,  4.88143669,  4.88175385,  4.88142918])]"
       ]
      }
     ],
     "prompt_number": 471
    },
    {
     "cell_type": "code",
     "collapsed": false,
     "input": [
      "for deltat in [7,14,21]:\n",
      "    steps = 400/deltat\n",
      "    citynames = [item[1] for item in c]\n",
      "    p = []\n",
      "    for i in range(steps):\n",
      "        d1 = deltat*i\n",
      "        d2 = deltat*(i + 1)\n",
      "        size = []\n",
      "        for name in citynames:\n",
      "            s = 0\n",
      "            for record in o:\n",
      "                if (record[4] > d1) and (record[4] <= d2) and (record[2] == 'Confirmed') and (record[1] == name):\n",
      "                    s = s + record[5]\n",
      "            size.append(s)\n",
      "        p.append(size)\n",
      "    p = np.array(p).transpose()\n",
      "    #print p\n",
      "    #print p.shape\n",
      "    \n",
      "    m =  max(max(edge))\n",
      "    sigma = np.array(edge)/m\n",
      "    #print sigma.shape\n",
      "    n = len(c)\n",
      "    reg = 0\n",
      "    for beta in [0.03,0.05,0.1,0.2]:\n",
      "        for wd in [1000]:\n",
      "            l = []\n",
      "            oldlambda1 = 0\n",
      "            oldlambda2 = 0\n",
      "            Thre = 5e-6\n",
      "            MaxIter = 2400\n",
      "            Iter = 0\n",
      "            \n",
      "            verb = 20\n",
      "            lambda1 = 0.6\n",
      "            lambda2 = 0.001\n",
      "            gamma = 4e-8\n",
      "    \n",
      "            print 'solving for beta ',beta,'window ',wd, 'delta_t',deltat\n",
      "            while np.sqrt((abs(lambda1 - oldlambda1)**2 + abs(oldlambda2 - lambda2)**2)) > Thre and Iter < MaxIter:\n",
      "                oldlambda1,oldlambda2 = lambda1,lambda2\n",
      "                sum1,sum2 = update(lambda1,lambda2,beta,p,sigma,n,steps,deltat,reg,window = wd)\n",
      "                lambda1 = lambda1 + sum1 * gamma;\n",
      "                lambda2 = lambda2 + sum2 * gamma;\n",
      "                l.append([Iter,lambda1,lambda2])\n",
      "                if Iter%verb == 0: print 'Iter:',Iter,lambda1,lambda2 \n",
      "                Iter += 1\n",
      "                if lambda1 < 0 or lambda2<0: break\n",
      "            print 'result:',lambda1,lambda2 \n",
      "            \n",
      "            log = [lambda1,lambda2,beta,p,sigma,n,steps,deltat,reg,gamma,wd,l,Iter]\n",
      "            logs.append(log)\n",
      "      \n",
      "            \n",
      "output = open('logs.pkl', 'wb')\n",
      "pickle.dump(logs, output)\n",
      "output.close()"
     ],
     "language": "python",
     "metadata": {},
     "outputs": [
      {
       "output_type": "stream",
       "stream": "stdout",
       "text": [
        "solving for beta  0.03 window  1000 delta_t 7\n",
        "Iter:"
       ]
      },
      {
       "output_type": "stream",
       "stream": "stdout",
       "text": [
        " 0 0.585687318807 -0.000178534964909\n",
        "result: 0.585687318807 -0.000178534964909\n",
        "solving for beta  0.05 window  1000 delta_t 7\n",
        "Iter:"
       ]
      },
      {
       "output_type": "stream",
       "stream": "stdout",
       "text": [
        " 0 0.591962117781 0.00211214935656\n",
        "Iter:"
       ]
      },
      {
       "output_type": "stream",
       "stream": "stdout",
       "text": [
        " 20 0.434313570599 0.00147409873183\n",
        "Iter:"
       ]
      },
      {
       "output_type": "stream",
       "stream": "stdout",
       "text": [
        " 40 0.285903782913 0.00157042851121\n",
        "Iter:"
       ]
      },
      {
       "output_type": "stream",
       "stream": "stdout",
       "text": [
        " 60 0.157493267956 0.00185148250763\n",
        "Iter:"
       ]
      },
      {
       "output_type": "stream",
       "stream": "stdout",
       "text": [
        " 80 0.0782610272265 0.00277166994065\n",
        "Iter:"
       ]
      },
      {
       "output_type": "stream",
       "stream": "stdout",
       "text": [
        " 100 0.0614695448098 0.00369823928399\n",
        "Iter:"
       ]
      },
      {
       "output_type": "stream",
       "stream": "stdout",
       "text": [
        " 120 0.0604283194362 0.0038224347649\n",
        "result:"
       ]
      },
      {
       "output_type": "stream",
       "stream": "stdout",
       "text": [
        " 0.06040491418 0.003825577426\n",
        "solving for beta  0.1 window  1000 delta_t 7\n",
        "Iter:"
       ]
      },
      {
       "output_type": "stream",
       "stream": "stdout",
       "text": [
        " 0 0.597124443071 0.00396129890416\n",
        "Iter:"
       ]
      },
      {
       "output_type": "stream",
       "stream": "stdout",
       "text": [
        " 20 0.540558412074 0.00402469303789\n",
        "Iter:"
       ]
      },
      {
       "output_type": "stream",
       "stream": "stdout",
       "text": [
        " 40 0.486064800894 0.0041337056103\n",
        "Iter:"
       ]
      },
      {
       "output_type": "stream",
       "stream": "stdout",
       "text": [
        " 60 0.43402864885 0.00426669463943\n",
        "Iter:"
       ]
      },
      {
       "output_type": "stream",
       "stream": "stdout",
       "text": [
        " 80 0.384916896991 0.00443023757983\n",
        "Iter:"
       ]
      },
      {
       "output_type": "stream",
       "stream": "stdout",
       "text": [
        " 100 0.339284485622 0.00463248991405\n",
        "Iter:"
       ]
      },
      {
       "output_type": "stream",
       "stream": "stdout",
       "text": [
        " 120 0.29776498742 0.00488259574058\n",
        "Iter:"
       ]
      },
      {
       "output_type": "stream",
       "stream": "stdout",
       "text": [
        " 140 0.261028883748 0.00518890531472\n",
        "Iter:"
       ]
      },
      {
       "output_type": "stream",
       "stream": "stdout",
       "text": [
        " 160 0.22968893884 0.00555511896715\n",
        "Iter:"
       ]
      },
      {
       "output_type": "stream",
       "stream": "stdout",
       "text": [
        " 180 0.204145531277 0.00597446052611\n",
        "Iter:"
       ]
      },
      {
       "output_type": "stream",
       "stream": "stdout",
       "text": [
        " 200 0.184411131766 0.00642476325601\n",
        "Iter:"
       ]
      },
      {
       "output_type": "stream",
       "stream": "stdout",
       "text": [
        " 220 0.170013546692 0.00687011347936\n",
        "Iter:"
       ]
      },
      {
       "output_type": "stream",
       "stream": "stdout",
       "text": [
        " 240 0.160072039059 0.0072718216042\n",
        "Iter:"
       ]
      },
      {
       "output_type": "stream",
       "stream": "stdout",
       "text": [
        " 260 0.153523767189 0.00760252291299\n",
        "Iter:"
       ]
      },
      {
       "output_type": "stream",
       "stream": "stdout",
       "text": [
        " 280 0.149364572476 0.00785331553242\n",
        "Iter:"
       ]
      },
      {
       "output_type": "stream",
       "stream": "stdout",
       "text": [
        " 300 0.14678975555 0.00803096764377\n",
        "Iter:"
       ]
      },
      {
       "output_type": "stream",
       "stream": "stdout",
       "text": [
        " 320 0.145222569049 0.00815026403536\n",
        "Iter:"
       ]
      },
      {
       "output_type": "stream",
       "stream": "stdout",
       "text": [
        " 340 0.144278838938 0.00822723865747\n",
        "Iter:"
       ]
      },
      {
       "output_type": "stream",
       "stream": "stdout",
       "text": [
        " 360 0.143714257974 0.0082755013852\n",
        "Iter:"
       ]
      },
      {
       "output_type": "stream",
       "stream": "stdout",
       "text": [
        " 380 0.143377832583 0.00830516558095\n",
        "Iter:"
       ]
      },
      {
       "output_type": "stream",
       "stream": "stdout",
       "text": [
        " 400 0.143177833559 0.00832315589507\n",
        "result:"
       ]
      },
      {
       "output_type": "stream",
       "stream": "stdout",
       "text": [
        " 0.143073212252 0.0083326805344\n",
        "solving for beta  0.2 window  1000 delta_t 7\n",
        "Iter:"
       ]
      },
      {
       "output_type": "stream",
       "stream": "stdout",
       "text": [
        " 0 0.599648438378 0.00555970914775\n",
        "Iter:"
       ]
      },
      {
       "output_type": "stream",
       "stream": "stdout",
       "text": [
        " 20 0.592658107489 0.0125198385523\n",
        "Iter:"
       ]
      },
      {
       "output_type": "stream",
       "stream": "stdout",
       "text": [
        " 40 0.585851157002 0.0155187434405\n",
        "Iter:"
       ]
      },
      {
       "output_type": "stream",
       "stream": "stdout",
       "text": [
        " 60 0.579240371809 0.0174146348923\n",
        "Iter:"
       ]
      },
      {
       "output_type": "stream",
       "stream": "stdout",
       "text": [
        " 80 0.572829061053 0.0187529501653\n",
        "Iter:"
       ]
      },
      {
       "output_type": "stream",
       "stream": "stdout",
       "text": [
        " 100 0.566617908797 0.0197558772029\n",
        "Iter:"
       ]
      },
      {
       "output_type": "stream",
       "stream": "stdout",
       "text": [
        " 120 0.560606320028 0.0205384521117\n",
        "Iter:"
       ]
      },
      {
       "output_type": "stream",
       "stream": "stdout",
       "text": [
        " 140 0.554792913919 0.0211683001753\n",
        "Iter:"
       ]
      },
      {
       "output_type": "stream",
       "stream": "stdout",
       "text": [
        " 160 0.549175756714 0.021688424634\n",
        "Iter:"
       ]
      },
      {
       "output_type": "stream",
       "stream": "stdout",
       "text": [
        " 180 0.54375249062 0.0221276512969\n",
        "Iter:"
       ]
      },
      {
       "output_type": "stream",
       "stream": "stdout",
       "text": [
        " 200 0.538520414069 0.0225060345423\n",
        "Iter:"
       ]
      },
      {
       "output_type": "stream",
       "stream": "stdout",
       "text": [
        " 220 0.533476536712 0.0228379101115\n",
        "Iter:"
       ]
      },
      {
       "output_type": "stream",
       "stream": "stdout",
       "text": [
        " 240 0.528617620282 0.0231337356559\n",
        "Iter:"
       ]
      },
      {
       "output_type": "stream",
       "stream": "stdout",
       "text": [
        " 260 0.523940211069 0.0234012581405\n",
        "Iter:"
       ]
      },
      {
       "output_type": "stream",
       "stream": "stdout",
       "text": [
        " 280 0.519440667194 0.0236462845958\n",
        "Iter:"
       ]
      },
      {
       "output_type": "stream",
       "stream": "stdout",
       "text": [
        " 300 0.515115182516 0.0238732076316\n",
        "Iter:"
       ]
      },
      {
       "output_type": "stream",
       "stream": "stdout",
       "text": [
        " 320 0.510959808274 0.0240853732156\n",
        "Iter:"
       ]
      },
      {
       "output_type": "stream",
       "stream": "stdout",
       "text": [
        " 340 0.506970473108 0.0242853436146\n",
        "Iter:"
       ]
      },
      {
       "output_type": "stream",
       "stream": "stdout",
       "text": [
        " 360 0.503143001885 0.0244750887154\n",
        "Iter:"
       ]
      },
      {
       "output_type": "stream",
       "stream": "stdout",
       "text": [
        " 380 0.499473133544 0.0246561272796\n",
        "Iter:"
       ]
      },
      {
       "output_type": "stream",
       "stream": "stdout",
       "text": [
        " 400 0.495956538113 0.0248296325092\n",
        "Iter:"
       ]
      },
      {
       "output_type": "stream",
       "stream": "stdout",
       "text": [
        " 420 0.492588832964 0.0249965117499\n",
        "Iter:"
       ]
      },
      {
       "output_type": "stream",
       "stream": "stdout",
       "text": [
        " 440 0.489365598328 0.0251574671879\n",
        "Iter:"
       ]
      },
      {
       "output_type": "stream",
       "stream": "stdout",
       "text": [
        " 460 0.486282392079 0.025313042409\n",
        "Iter:"
       ]
      },
      {
       "output_type": "stream",
       "stream": "stdout",
       "text": [
        " 480 0.483334763773 0.0254636583323\n",
        "Iter:"
       ]
      },
      {
       "output_type": "stream",
       "stream": "stdout",
       "text": [
        " 500 0.480518267916 0.0256096410847\n",
        "Iter:"
       ]
      },
      {
       "output_type": "stream",
       "stream": "stdout",
       "text": [
        " 520 0.47782847645 0.0257512437148\n",
        "Iter:"
       ]
      },
      {
       "output_type": "stream",
       "stream": "stdout",
       "text": [
        " 540 0.475260990413 0.0258886631649\n",
        "Iter:"
       ]
      },
      {
       "output_type": "stream",
       "stream": "stdout",
       "text": [
        " 560 0.472811450785 0.0260220535672\n",
        "Iter:"
       ]
      },
      {
       "output_type": "stream",
       "stream": "stdout",
       "text": [
        " 580 0.470475548479 0.0261515366783\n",
        "Iter:"
       ]
      },
      {
       "output_type": "stream",
       "stream": "stdout",
       "text": [
        " 600 0.468249033491 0.0262772100723\n",
        "Iter:"
       ]
      },
      {
       "output_type": "stream",
       "stream": "stdout",
       "text": [
        " 620 0.466127723191 0.0263991535699\n",
        "Iter:"
       ]
      },
      {
       "output_type": "stream",
       "stream": "stdout",
       "text": [
        " 640 0.46410750978 0.0265174342755\n",
        "Iter:"
       ]
      },
      {
       "output_type": "stream",
       "stream": "stdout",
       "text": [
        " 660 0.462184366913 0.0266321105098\n",
        "Iter:"
       ]
      },
      {
       "output_type": "stream",
       "stream": "stdout",
       "text": [
        " 680 0.460354355509 0.0267432348648\n",
        "Iter:"
       ]
      },
      {
       "output_type": "stream",
       "stream": "stdout",
       "text": [
        " 700 0.458613628778 0.0268508565593\n",
        "Iter:"
       ]
      },
      {
       "output_type": "stream",
       "stream": "stdout",
       "text": [
        " 720 0.45695843649 0.026955023235\n",
        "Iter:"
       ]
      },
      {
       "output_type": "stream",
       "stream": "stdout",
       "text": [
        " 740 0.455385128521 0.0270557823064\n",
        "Iter:"
       ]
      },
      {
       "output_type": "stream",
       "stream": "stdout",
       "text": [
        " 760 0.45389015771 0.0271531819531\n",
        "Iter:"
       ]
      },
      {
       "output_type": "stream",
       "stream": "stdout",
       "text": [
        " 780 0.452470082073 0.0272472718261\n",
        "Iter:"
       ]
      },
      {
       "output_type": "stream",
       "stream": "stdout",
       "text": [
        " 800 0.45112156641 0.027338103527\n",
        "Iter:"
       ]
      },
      {
       "output_type": "stream",
       "stream": "stdout",
       "text": [
        " 820 0.449841383348 0.0274257309051\n",
        "Iter:"
       ]
      },
      {
       "output_type": "stream",
       "stream": "stdout",
       "text": [
        " 840 0.448626413864 0.027510210212\n",
        "Iter:"
       ]
      },
      {
       "output_type": "stream",
       "stream": "stdout",
       "text": [
        " 860 0.447473647337 0.0275916001431\n",
        "Iter:"
       ]
      },
      {
       "output_type": "stream",
       "stream": "stdout",
       "text": [
        " 880 0.44638018116 0.0276699617918\n",
        "Iter:"
       ]
      },
      {
       "output_type": "stream",
       "stream": "stdout",
       "text": [
        " 900 0.445343219967 0.0277453585369\n",
        "Iter:"
       ]
      },
      {
       "output_type": "stream",
       "stream": "stdout",
       "text": [
        " 920 0.444360074508 0.0278178558793\n",
        "Iter:"
       ]
      },
      {
       "output_type": "stream",
       "stream": "stdout",
       "text": [
        " 940 0.44342816021 0.027887521243\n",
        "Iter:"
       ]
      },
      {
       "output_type": "stream",
       "stream": "stdout",
       "text": [
        " 960 0.442544995471 0.0279544237498\n",
        "Iter:"
       ]
      },
      {
       "output_type": "stream",
       "stream": "stdout",
       "text": [
        " 980 0.441708199717 0.0280186339785\n",
        "Iter:"
       ]
      },
      {
       "output_type": "stream",
       "stream": "stdout",
       "text": [
        " 1000 0.440915491244 0.0280802237146\n",
        "Iter:"
       ]
      },
      {
       "output_type": "stream",
       "stream": "stdout",
       "text": [
        " 1020 0.440164684907 0.028139265698\n",
        "Iter:"
       ]
      },
      {
       "output_type": "stream",
       "stream": "stdout",
       "text": [
        " 1040 0.439453689648 0.0281958333712\n",
        "Iter:"
       ]
      },
      {
       "output_type": "stream",
       "stream": "stdout",
       "text": [
        " 1060 0.438780505921 0.0282500006343\n",
        "Iter:"
       ]
      },
      {
       "output_type": "stream",
       "stream": "stdout",
       "text": [
        " 1080 0.438143223018 0.0283018416083\n",
        "Iter:"
       ]
      },
      {
       "output_type": "stream",
       "stream": "stdout",
       "text": [
        " 1100 0.437540016332 0.0283514304089\n",
        "Iter:"
       ]
      },
      {
       "output_type": "stream",
       "stream": "stdout",
       "text": [
        " 1120 0.436969144566 0.028398840933\n",
        "Iter:"
       ]
      },
      {
       "output_type": "stream",
       "stream": "stdout",
       "text": [
        " 1140 0.436428946921 0.0284441466593\n",
        "Iter:"
       ]
      },
      {
       "output_type": "stream",
       "stream": "stdout",
       "text": [
        " 1160 0.435917840266 0.0284874204625\n",
        "Iter:"
       ]
      },
      {
       "output_type": "stream",
       "stream": "stdout",
       "text": [
        " 1180 0.435434316308 0.0285287344435\n",
        "Iter:"
       ]
      },
      {
       "ename": "KeyboardInterrupt",
       "evalue": "",
       "output_type": "pyerr",
       "traceback": [
        "\u001b[0;31m---------------------------------------------------------------------------\u001b[0m\n\u001b[0;31mKeyboardInterrupt\u001b[0m                         Traceback (most recent call last)",
        "\u001b[0;32m<ipython-input-558-4e57ccbb831c>\u001b[0m in \u001b[0;36m<module>\u001b[0;34m()\u001b[0m\n\u001b[1;32m     40\u001b[0m             \u001b[0;32mwhile\u001b[0m \u001b[0mnp\u001b[0m\u001b[0;34m.\u001b[0m\u001b[0msqrt\u001b[0m\u001b[0;34m(\u001b[0m\u001b[0;34m(\u001b[0m\u001b[0mabs\u001b[0m\u001b[0;34m(\u001b[0m\u001b[0mlambda1\u001b[0m \u001b[0;34m-\u001b[0m \u001b[0moldlambda1\u001b[0m\u001b[0;34m)\u001b[0m\u001b[0;34m**\u001b[0m\u001b[0;36m2\u001b[0m \u001b[0;34m+\u001b[0m \u001b[0mabs\u001b[0m\u001b[0;34m(\u001b[0m\u001b[0moldlambda2\u001b[0m \u001b[0;34m-\u001b[0m \u001b[0mlambda2\u001b[0m\u001b[0;34m)\u001b[0m\u001b[0;34m**\u001b[0m\u001b[0;36m2\u001b[0m\u001b[0;34m)\u001b[0m\u001b[0;34m)\u001b[0m \u001b[0;34m>\u001b[0m \u001b[0mThre\u001b[0m \u001b[0;32mand\u001b[0m \u001b[0mIter\u001b[0m \u001b[0;34m<\u001b[0m \u001b[0mMaxIter\u001b[0m\u001b[0;34m:\u001b[0m\u001b[0;34m\u001b[0m\u001b[0m\n\u001b[1;32m     41\u001b[0m                 \u001b[0moldlambda1\u001b[0m\u001b[0;34m,\u001b[0m\u001b[0moldlambda2\u001b[0m \u001b[0;34m=\u001b[0m \u001b[0mlambda1\u001b[0m\u001b[0;34m,\u001b[0m\u001b[0mlambda2\u001b[0m\u001b[0;34m\u001b[0m\u001b[0m\n\u001b[0;32m---> 42\u001b[0;31m                 \u001b[0msum1\u001b[0m\u001b[0;34m,\u001b[0m\u001b[0msum2\u001b[0m \u001b[0;34m=\u001b[0m \u001b[0mupdate\u001b[0m\u001b[0;34m(\u001b[0m\u001b[0mlambda1\u001b[0m\u001b[0;34m,\u001b[0m\u001b[0mlambda2\u001b[0m\u001b[0;34m,\u001b[0m\u001b[0mbeta\u001b[0m\u001b[0;34m,\u001b[0m\u001b[0mp\u001b[0m\u001b[0;34m,\u001b[0m\u001b[0msigma\u001b[0m\u001b[0;34m,\u001b[0m\u001b[0mn\u001b[0m\u001b[0;34m,\u001b[0m\u001b[0msteps\u001b[0m\u001b[0;34m,\u001b[0m\u001b[0mdeltat\u001b[0m\u001b[0;34m,\u001b[0m\u001b[0mreg\u001b[0m\u001b[0;34m,\u001b[0m\u001b[0mwindow\u001b[0m \u001b[0;34m=\u001b[0m \u001b[0mwd\u001b[0m\u001b[0;34m)\u001b[0m\u001b[0;34m\u001b[0m\u001b[0m\n\u001b[0m\u001b[1;32m     43\u001b[0m                 \u001b[0mlambda1\u001b[0m \u001b[0;34m=\u001b[0m \u001b[0mlambda1\u001b[0m \u001b[0;34m+\u001b[0m \u001b[0msum1\u001b[0m \u001b[0;34m*\u001b[0m \u001b[0mgamma\u001b[0m\u001b[0;34m;\u001b[0m\u001b[0;34m\u001b[0m\u001b[0m\n\u001b[1;32m     44\u001b[0m                 \u001b[0mlambda2\u001b[0m \u001b[0;34m=\u001b[0m \u001b[0mlambda2\u001b[0m \u001b[0;34m+\u001b[0m \u001b[0msum2\u001b[0m \u001b[0;34m*\u001b[0m \u001b[0mgamma\u001b[0m\u001b[0;34m;\u001b[0m\u001b[0;34m\u001b[0m\u001b[0m\n",
        "\u001b[0;32m<ipython-input-538-292addc08ed5>\u001b[0m in \u001b[0;36mupdate\u001b[0;34m(lambda1, lambda2, beta, p, sigma, n, steps, deltat, mu, window)\u001b[0m\n\u001b[1;32m     18\u001b[0m             \u001b[0mt5\u001b[0m \u001b[0;34m=\u001b[0m \u001b[0mt3\u001b[0m\u001b[0;34m*\u001b[0m\u001b[0mp\u001b[0m\u001b[0;34m[\u001b[0m\u001b[0mi\u001b[0m\u001b[0;34m,\u001b[0m\u001b[0mk\u001b[0m\u001b[0;34m]\u001b[0m\u001b[0;34m\u001b[0m\u001b[0m\n\u001b[1;32m     19\u001b[0m             \u001b[0mt6\u001b[0m \u001b[0;34m=\u001b[0m \u001b[0mt3\u001b[0m\u001b[0;34m*\u001b[0m\u001b[0mdeltat\u001b[0m\u001b[0;34m\u001b[0m\u001b[0m\n\u001b[0;32m---> 20\u001b[0;31m             \u001b[0msum2\u001b[0m \u001b[0;34m=\u001b[0m \u001b[0msum2\u001b[0m \u001b[0;34m+\u001b[0m \u001b[0mt5\u001b[0m\u001b[0;34m/\u001b[0m\u001b[0;34m(\u001b[0m\u001b[0mlambda1\u001b[0m\u001b[0;34m*\u001b[0m\u001b[0mt1\u001b[0m \u001b[0;34m+\u001b[0m \u001b[0mlambda2\u001b[0m\u001b[0;34m*\u001b[0m\u001b[0mt3\u001b[0m\u001b[0;34m+\u001b[0m\u001b[0;36m1e-30\u001b[0m\u001b[0;34m)\u001b[0m \u001b[0;34m-\u001b[0m \u001b[0mt6\u001b[0m \u001b[0;34m-\u001b[0m \u001b[0mmu\u001b[0m\u001b[0;34m*\u001b[0m\u001b[0;36m2\u001b[0m\u001b[0;34m*\u001b[0m\u001b[0mlambda2\u001b[0m\u001b[0;34m\u001b[0m\u001b[0m\n\u001b[0m\u001b[1;32m     21\u001b[0m             \u001b[0;31m#print (lambda1*t1 + lambda2*t3)*deltat\u001b[0m\u001b[0;34m\u001b[0m\u001b[0;34m\u001b[0m\u001b[0m\n\u001b[1;32m     22\u001b[0m             \u001b[0;31m#print t1\u001b[0m\u001b[0;34m\u001b[0m\u001b[0;34m\u001b[0m\u001b[0m\n",
        "\u001b[0;31mKeyboardInterrupt\u001b[0m: "
       ]
      },
      {
       "output_type": "stream",
       "stream": "stdout",
       "text": [
        " 1200 0.434976938783 0.0285681597737\n"
       ]
      }
     ],
     "prompt_number": 558
    },
    {
     "cell_type": "code",
     "collapsed": false,
     "input": [
      "output = open('logs.pkl', 'wb')\n",
      "pickle.dump(logs, output)\n",
      "output.close()"
     ],
     "language": "python",
     "metadata": {},
     "outputs": [],
     "prompt_number": 559
    },
    {
     "cell_type": "code",
     "collapsed": false,
     "input": [
      "l1 = [item[0] for item in l]\n",
      "l2 = [item[1] for item in l]\n",
      "idx = range(len(l1))\n",
      "plt.figure(figsize=(12,6))\n",
      "ax = plt.gca()\n",
      "ax.set_color_cycle(['#66EE00', '#00EE66', '#0066EE','#6600EE', '#EE0066', '#EE6600' ])\n",
      "plt.subplot('121')\n",
      "plt.plot(idx,l1,lw = 3,alpha = 0.7,label = '$\\lambda_1$')\n",
      "plt.legend(loc = 2)\n",
      "plt.xlabel('#Iter')\n",
      "plt.subplot('122')\n",
      "plt.plot(idx,l2,lw = 3,alpha = 0.7,label = '$\\lambda_2$')\n",
      "plt.xlabel('#Iter')\n",
      "plt.legend(loc = 2)\n",
      "plt.savefig('iter.pdf')"
     ],
     "language": "python",
     "metadata": {},
     "outputs": [
      {
       "metadata": {},
       "output_type": "display_data",
       "png": "[encoded data removed]",
       "text": [
        "<matplotlib.figure.Figure at 0x10fde03d0>"
       ]
      }
     ],
     "prompt_number": 590
    },
    {
     "cell_type": "code",
     "collapsed": false,
     "input": [
      "lambda0 = lambda1\n",
      "lambda1,lambda2 = (0.21365953932028273, 0.01134447988647677)\n"
     ],
     "language": "python",
     "metadata": {},
     "outputs": [],
     "prompt_number": 594
    },
    {
     "cell_type": "code",
     "collapsed": false,
     "input": [
      "q = np.array(q)"
     ],
     "language": "python",
     "metadata": {},
     "outputs": [],
     "prompt_number": 602
    },
    {
     "cell_type": "code",
     "collapsed": false,
     "input": [
      "qw = np.array(qw)"
     ],
     "language": "python",
     "metadata": {},
     "outputs": [],
     "prompt_number": 603
    },
    {
     "cell_type": "code",
     "collapsed": false,
     "input": [
      "q.shape"
     ],
     "language": "python",
     "metadata": {},
     "outputs": [
      {
       "metadata": {},
       "output_type": "pyout",
       "prompt_number": 604,
       "text": [
        "(28, 55)"
       ]
      }
     ],
     "prompt_number": 604
    },
    {
     "cell_type": "code",
     "collapsed": false,
     "input": [
      "qw.shape"
     ],
     "language": "python",
     "metadata": {},
     "outputs": [
      {
       "metadata": {},
       "output_type": "pyout",
       "prompt_number": 606,
       "text": [
        "(28, 55)"
       ]
      }
     ],
     "prompt_number": 606
    },
    {
     "cell_type": "code",
     "collapsed": false,
     "input": [
      "p.shape"
     ],
     "language": "python",
     "metadata": {},
     "outputs": [
      {
       "metadata": {},
       "output_type": "pyout",
       "prompt_number": 607,
       "text": [
        "(55, 28)"
       ]
      }
     ],
     "prompt_number": 607
    },
    {
     "cell_type": "code",
     "collapsed": false,
     "input": [
      "output = open('est.pkl', 'wb')\n",
      "pickle.dump({'gtruth':p.transpose(), 'est':q, 'est0':qw}, output)\n",
      "output.close()"
     ],
     "language": "python",
     "metadata": {},
     "outputs": [],
     "prompt_number": 608
    },
    {
     "cell_type": "code",
     "collapsed": false,
     "input": [],
     "language": "python",
     "metadata": {},
     "outputs": []
    }
   ],
   "metadata": {}
  }
 ]
}