{
 "metadata": {
  "name": ""
 },
 "nbformat": 3,
 "nbformat_minor": 0,
 "worksheets": [
  {
   "cells": [
    {
     "cell_type": "code",
     "collapsed": false,
     "input": [
      "%matplotlib inline"
     ],
     "language": "python",
     "metadata": {},
     "outputs": [],
     "prompt_number": 3
    },
    {
     "cell_type": "code",
     "collapsed": false,
     "input": [
      "import numpy as np\n",
      "import scipy\n",
      "from sklearn import *\n",
      "import matplotlib.pyplot as plt\n",
      "import csv\n",
      "from dateutil.parser import parse\n",
      "import requests\n",
      "from bs4 import BeautifulSoup\n",
      "from mpl_toolkits.basemap import Basemap,shiftgrid\n",
      "import pickle\n",
      "\n",
      "\n",
      "\n"
     ],
     "language": "python",
     "metadata": {},
     "outputs": [],
     "prompt_number": 13
    },
    {
     "cell_type": "code",
     "collapsed": false,
     "input": [
      "\n",
      "m = Basemap(width=1400000,height=1050000,projection='lcc',\n",
      "            resolution='h',lat_1=15.,lat_2=-7,lat_0=9,lon_0=-10.)\n",
      "# draw coastlines.\n",
      "m.drawcoastlines()\n",
      "# draw a boundary around the map, fill the background.\n",
      "# this background will end up being the ocean color, since\n",
      "# the continents will be drawn on top.\n",
      "#m.drawmapboundary(fill_color='aqua')\n",
      "#m.drawcounties()\n",
      "# fill continents, set lake color same as ocean color.\n",
      "#m.fillcontinents(color='coral',lake_color='aqua')\n",
      "parallels = np.arange(-20.,20,3.)\n",
      "# labels = [left,right,top,bottom]\n",
      "m.drawparallels(parallels,labels=[False,True,True,False])\n",
      "meridians = np.arange(-20.,20.,3.)\n",
      "m.drawmeridians(meridians,labels=[True,False,False,True])\n",
      "#m.bluemarble()\n",
      "\n",
      "m.shadedrelief()\n",
      "m.drawcountries()\n",
      "m.drawcounties()\n",
      "f = open('city.pkl','r')\n",
      "c = pickle.load(f)\n",
      "posx = [info[3] for info in c]\n",
      "posy = [info[4] for info in c]\n",
      "\n",
      "for i in range(len(posx)):\n",
      "    xpt,ypt = m(posy[i], posx[i])\n",
      "    m.plot(xpt,ypt,'ro',markersize=4,alpha=0.5) \n",
      "    plt.text(xpt+10000,ypt+10000,'%s' % (c[i][1]),fontsize = 4)\n",
      "    \n",
      "\n",
      "\n",
      "plt.savefig('map3.png', dpi=300)\n",
      "plt.savefig('map3.pdf')\n",
      "#plt.show()\n"
     ],
     "language": "python",
     "metadata": {},
     "outputs": [],
     "prompt_number": "*"
    },
    {
     "cell_type": "code",
     "collapsed": false,
     "input": [],
     "language": "python",
     "metadata": {},
     "outputs": [],
     "prompt_number": 25
    }
   ],
   "metadata": {}
  }
 ]
}