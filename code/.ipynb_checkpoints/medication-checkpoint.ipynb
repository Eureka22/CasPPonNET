{
 "metadata": {
  "name": ""
 },
 "nbformat": 3,
 "nbformat_minor": 0,
 "worksheets": [
  {
   "cells": [
    {
     "cell_type": "code",
     "collapsed": false,
     "input": [
      "import numpy as np\n",
      "import scipy\n",
      "from sklearn import *\n",
      "import matplotlib.pyplot as plt\n",
      "import csv\n",
      "from dateutil.parser import parse\n",
      "import requests\n",
      "from bs4 import BeautifulSoup\n",
      "from mpl_toolkits.basemap import Basemap,shiftgrid\n",
      "\n",
      "import pickle\n",
      "import math\n",
      "\n",
      "%matplotlib inline"
     ],
     "language": "python",
     "metadata": {},
     "outputs": [],
     "prompt_number": 68
    },
    {
     "cell_type": "code",
     "collapsed": false,
     "input": [
      "c = pickle.load(file('newcity.pkl'))\n",
      "o = pickle.load(file('citydata.pkl'))"
     ],
     "language": "python",
     "metadata": {},
     "outputs": [],
     "prompt_number": 196
    },
    {
     "cell_type": "code",
     "collapsed": false,
     "input": [
      "def fc(x):\n",
      "    return x[2] == 'Confirmed'\n",
      "def fp(x):\n",
      "    return x[2] != 'Confirmed'\n",
      "\n",
      "oc = filter(fc,o)\n",
      "op = filter(fp,o)\n"
     ],
     "language": "python",
     "metadata": {},
     "outputs": [],
     "prompt_number": 70
    },
    {
     "cell_type": "code",
     "collapsed": false,
     "input": [
      "ocd = [item[5] for item in oc]\n",
      "ocp = [item[5] for item in op]\n",
      "day = [item[4] for item in oc]\n",
      "\n",
      "plt.scatter(day,ocd,marker='*',label = 'confirmed')\n",
      "plt.scatter(day,ocp,marker='+', label = 'probable')\n",
      "plt.legend(loc=2)"
     ],
     "language": "python",
     "metadata": {},
     "outputs": [
      {
       "metadata": {},
       "output_type": "pyout",
       "prompt_number": 71,
       "text": [
        "<matplotlib.legend.Legend at 0x10ca62190>"
       ]
      },
      {
       "metadata": {},
       "output_type": "display_data",
       "png": "[encoded data removed]",
       "text": [
        "<matplotlib.figure.Figure at 0x10c8d0ad0>"
       ]
      }
     ],
     "prompt_number": 71
    },
    {
     "cell_type": "code",
     "collapsed": false,
     "input": [
      "fig = plt.figure(figsize=(12,12))\n",
      "m = Basemap(width=1400000,height=900000,projection='lcc',\n",
      "            resolution='h',lat_1=15.,lat_2=-7,lat_0=9,lon_0=-10.)\n",
      "# draw coastlines.\n",
      "m.drawcoastlines()\n",
      "\n",
      "# draw a boundary around the map, fill the background.\n",
      "# this background will end up being the ocean color, since\n",
      "# the continents will be drawn on top.\n",
      "#m.drawmapboundary(fill_color='aqua')\n",
      "#m.drawcounties()\n",
      "# fill continents, set lake color same as ocean color.\n",
      "#m.fillcontinents(color='coral',lake_color='aqua')\n",
      "parallels = np.arange(-20.,20,3.)\n",
      "# labels = [left,right,top,bottom]\n",
      "m.drawparallels(parallels,labels=[False,True,True,False])\n",
      "meridians = np.arange(-20.,20.,3.)\n",
      "m.drawmeridians(meridians,labels=[True,False,False,True])\n",
      "#m.bluemarble()\n",
      "\n",
      "#m.shadedrelief()\n",
      "#m.drawcountries()\n",
      "#m.drawcounties()\n",
      "f = open('newcity.pkl','r')\n",
      "c = pickle.load(f)\n",
      "\n",
      "posx = [info[3] for info in c]\n",
      "posy = [info[4] for info in c]\n",
      "size = [info[2] for info in c]\n",
      "\n",
      "for i in range(len(posx)):\n",
      "    xpt,ypt = m(posy[i], posx[i])\n",
      "    print xpt,ypt\n",
      "    m.plot(xpt,ypt,'ro',markersize=size[i]/20000.0) \n",
      "    plt.text(xpt+10000,ypt+10000,'%s' % (c[i][1]),fontsize = 10)\n",
      "#plt.plot(posx,posy)\n",
      "\n",
      "plt.savefig('population.png', dpi=300)\n",
      "plt.savefig('population.pdf')"
     ],
     "language": "python",
     "metadata": {},
     "outputs": [
      {
       "output_type": "stream",
       "stream": "stdout",
       "text": [
        "571051.011836 335322.690161\n",
        "465849.374062 481481.917669\n",
        "500600.176943 408475.435751\n",
        "598923.33073 417948.013952\n",
        "528748.503659 266145.553298\n",
        "350244.042071 394177.912655\n",
        "518683.345915 339469.667825\n",
        "554431.54537 506010.582166\n",
        "618590.08204 352332.766099\n",
        "435211.155008 347791.004878\n",
        "395646.168639 470524.489143\n",
        "446751.883446 287956.240844\n",
        "401324.07195 420255.376903\n",
        "902492.71076 129611.014792\n",
        "695141.434543 108915.589923\n",
        "661620.469628 179966.197103\n",
        "727314.18019 386696.073878\n",
        "772412.330575 121931.977833\n",
        "613473.998954 154771.755482\n",
        "949144.299929 -54813.3397503\n",
        "757256.103949 230690.437183\n",
        "804521.558524 13987.4533796\n",
        "451643.300657 642375.766647\n",
        "579398.314889 625624.372277\n",
        "340138.099132 661082.185366\n",
        "880621.625268 322462.585168\n",
        "753928.880325 742893.309149\n",
        "334879.762913 528103.40096\n",
        "708999.341996 632867.973124\n",
        "871360.486367 441036.31539\n",
        "302323.101593 509861.53136\n",
        "390284.555335 566446.051441\n",
        "475413.742165 789075.070061\n",
        "421077.756248 651627.174029\n",
        "799177.9878 468318.952126\n",
        "364709.837019 498131.184873\n",
        "627184.936548 729509.281588\n",
        "527384.518257"
       ]
      },
      {
       "output_type": "stream",
       "stream": "stdout",
       "text": [
        " 721024.491334\n",
        "685534.487713 402622.8917\n",
        "775007.929221 602001.720905\n",
        "790348.024752 285866.60912\n",
        "763165.420364 395259.985309\n",
        "312907.454296 606251.219585\n",
        "203236.962967 634267.190692\n",
        "249846.102292 597398.118158\n",
        "330835.002897 587871.045834\n",
        "654807.356993 249387.199384\n",
        "890335.824434 3819.77875463\n",
        "835647.607656 203939.734127\n",
        "609558.981942 194776.089189\n",
        "926497.315312 40295.0025338\n",
        "364805.655879 376516.343938\n",
        "591537.687881 249442.102013\n",
        "828254.550998 313255.477754\n",
        "624824.376036 596738.879883\n"
       ]
      },
      {
       "metadata": {},
       "output_type": "display_data",
       "png": "[encoded data removed]",
       "text": [
        "<matplotlib.figure.Figure at 0x10c714c50>"
       ]
      }
     ],
     "prompt_number": 72
    },
    {
     "cell_type": "code",
     "collapsed": false,
     "input": [
      "len(c)"
     ],
     "language": "python",
     "metadata": {},
     "outputs": [
      {
       "metadata": {},
       "output_type": "pyout",
       "prompt_number": 73,
       "text": [
        "55"
       ]
      }
     ],
     "prompt_number": 73
    },
    {
     "cell_type": "code",
     "collapsed": false,
     "input": [
      "c[45][2] = 10363\n",
      "c[10][2] = 174290"
     ],
     "language": "python",
     "metadata": {},
     "outputs": [],
     "prompt_number": 74
    },
    {
     "cell_type": "code",
     "collapsed": false,
     "input": [
      "population = [item[2] for item in c]\n",
      "population = np.array(population)"
     ],
     "language": "python",
     "metadata": {},
     "outputs": [],
     "prompt_number": 75
    },
    {
     "cell_type": "code",
     "collapsed": false,
     "input": [
      "len(c)"
     ],
     "language": "python",
     "metadata": {},
     "outputs": [
      {
       "metadata": {},
       "output_type": "pyout",
       "prompt_number": 76,
       "text": [
        "55"
       ]
      }
     ],
     "prompt_number": 76
    },
    {
     "cell_type": "code",
     "collapsed": false,
     "input": [
      "nodes = c"
     ],
     "language": "python",
     "metadata": {},
     "outputs": [],
     "prompt_number": 77
    },
    {
     "cell_type": "code",
     "collapsed": false,
     "input": [
      "edge = []\n",
      "for i in range(len(nodes)):\n",
      "    node = nodes[i]\n",
      "    dist = []\n",
      "    for j in range(len(nodes)):\n",
      "        nodeto = nodes[j]\n",
      "        if node[1] == nodeto[1]:\n",
      "            dist.append(0)\n",
      "        else:\n",
      "            d = node[2]*nodeto[2]/((node[3] - nodeto[3])**2 + (node[4] - nodeto[4])**2) /1e10\n",
      "            dist.append(d)\n",
      "    edge.append(dist)"
     ],
     "language": "python",
     "metadata": {},
     "outputs": [],
     "prompt_number": 78
    },
    {
     "cell_type": "code",
     "collapsed": false,
     "input": [
      "names = [item[1] for item in c]\n",
      "dat = [item[2:] for item in c]"
     ],
     "language": "python",
     "metadata": {},
     "outputs": [],
     "prompt_number": 79
    },
    {
     "cell_type": "code",
     "collapsed": false,
     "input": [
      "d = {'names':names,'nodes': dat, 'edges':edge};\n",
      "scipy.io.savemat('../data/graph.mat',d)"
     ],
     "language": "python",
     "metadata": {},
     "outputs": [],
     "prompt_number": 80
    },
    {
     "cell_type": "code",
     "collapsed": false,
     "input": [
      "fig = plt.figure(figsize=(12,12))\n",
      "m = Basemap(width=1600000,height=1100000,projection='lcc',\n",
      "            resolution='h',lat_1=15.,lat_2=-7,lat_0=9,lon_0=-10.)\n",
      "# draw coastlines.\n",
      "m.drawcoastlines()\n",
      "\n",
      "# draw a boundary around the map, fill the background.\n",
      "# this background will end up being the ocean color, since\n",
      "# the continents will be drawn on top.\n",
      "#m.drawmapboundary(fill_color='aqua')\n",
      "#m.drawcounties()\n",
      "# fill continents, set lake color same as ocean color.\n",
      "#m.fillcontinents(color='coral',lake_color='aqua')\n",
      "parallels = np.arange(-20.,20,3.)\n",
      "# labels = [left,right,top,bottom]\n",
      "m.drawparallels(parallels,labels=[False,True,True,False])\n",
      "meridians = np.arange(-20.,20.,3.)\n",
      "m.drawmeridians(meridians,labels=[True,False,False,True])\n",
      "#m.bluemarble()\n",
      "\n",
      "#m.shadedrelief()\n",
      "#m.drawcountries()\n",
      "#m.drawcounties()\n",
      "f = open('newcity.pkl','r')\n",
      "c = pickle.load(f)\n",
      "\n",
      "posx = [info[3] for info in c]\n",
      "posy = [info[4] for info in c]\n",
      "size = [info[2] for info in c]\n",
      "\n",
      "for i in range(len(posx)):\n",
      "    xpt,ypt = m(posy[i], posx[i])\n",
      "    #print xpt,ypt\n",
      "    m.plot(xpt,ypt,'ro',markersize=max(np.sqrt(size[i])/30,5.0),alpha = 0.5) \n",
      "    plt.text(xpt+5000,ypt+5000,'%s' % (c[i][1]),fontsize = 6)\n",
      "    \n",
      "    \n",
      "thre = 5\n",
      "for i in range(len(posx)):\n",
      "    for j in range(i):\n",
      "        if edge[i][j] > thre:\n",
      "            xpt1,ypt1 = m(posy[i], posx[i])\n",
      "            xpt2,ypt2 = m(posy[j], posx[j])\n",
      "            xpt = [xpt1,xpt2]\n",
      "            ypt = [ypt1,ypt2]\n",
      "            #print xpt,xpt\n",
      "            a = edge[i][j]/40.0\n",
      "            if a>1.0:a = 1.0\n",
      "            m.plot(xpt,ypt,color = 'b',lw=2,alpha = a) \n",
      "            \n",
      "    \n",
      "#plt.plot(posx,posy)\n",
      "\n",
      "plt.savefig('netwrork.png', dpi=300)\n",
      "plt.savefig('network.pdf')"
     ],
     "language": "python",
     "metadata": {},
     "outputs": [
      {
       "metadata": {},
       "output_type": "display_data",
       "png": "[encoded data removed]",
       "text": [
        "<matplotlib.figure.Figure at 0x10c6ef110>"
       ]
      }
     ],
     "prompt_number": 81
    },
    {
     "cell_type": "code",
     "collapsed": false,
     "input": [
      "def update(lambda1,lambda2,beta,p,sigma,n,steps,deltat,mu,window = 3):\n",
      "    #print type(p)\n",
      "    sum1 = 0\n",
      "    sum2 = 0\n",
      "    df = math.exp(-beta*deltat)\n",
      "    for i in range(n):\n",
      "        for k in range(1,steps):\n",
      "            t1 = 0\n",
      "            t3 = 0\n",
      "            df0 = pow(df,k-max(0,k-window))\n",
      "            for m in range(max(0,k-window),k):\n",
      "                t1 = t1 +p[i,m]*df0\n",
      "                t3 = t3+np.sum(p[:,m]*sigma[i,:])*df0\n",
      "                df0 = df0/df\n",
      "            t2 = t1*p[i,k]\n",
      "            t4 = t1*deltat\n",
      "            sum1 = sum1 + t2/(lambda1*t1 + lambda2*t3+1e-30) - t4 - mu*2*lambda1\n",
      "            t5 = t3*p[i,k]\n",
      "            t6 = t3*deltat\n",
      "            sum2 = sum2 + t5/(lambda1*t1 + lambda2*t3+1e-30) - t6 - mu*2*lambda2\n",
      "            #print (lambda1*t1 + lambda2*t3)*deltat\n",
      "            #print t1\n",
      "    return sum1,sum2\n",
      "    "
     ],
     "language": "python",
     "metadata": {},
     "outputs": [],
     "prompt_number": 82
    },
    {
     "cell_type": "code",
     "collapsed": false,
     "input": [
      "deltat = 14\n",
      "steps = 400/deltat\n",
      "citynames = [item[1] for item in c]\n",
      "p = []\n",
      "for i in range(steps):\n",
      "    d1 = deltat*i\n",
      "    d2 = deltat*(i + 1)\n",
      "    size = []\n",
      "    for name in citynames:\n",
      "        s = 0\n",
      "        for record in o:\n",
      "            if (record[4] > d1) and (record[4] <= d2) and (record[2] == 'Confirmed') and (record[1] == name):\n",
      "                s = s + record[5]\n",
      "        size.append(s)\n",
      "    p.append(size)\n",
      "p = np.array(p)\n",
      "print p\n",
      "print p.shape\n",
      "\n",
      "plt.plot(p)\n",
      "\n",
      "p = p.transpose()"
     ],
     "language": "python",
     "metadata": {},
     "outputs": [
      {
       "output_type": "stream",
       "stream": "stdout",
       "text": [
        "[[ 0  0  0 ...,  0  0  0]\n",
        " [ 0  0  0 ...,  0  0  0]\n",
        " [ 0  0  0 ...,  0  0  0]\n",
        " ..., \n",
        " [ 0 23 21 ...,  0  4  2]\n",
        " [ 1 12 11 ...,  0  1  5]\n",
        " [ 0  0  2 ...,  0  2  1]]\n",
        "(28, 55)\n"
       ]
      },
      {
       "metadata": {},
       "output_type": "display_data",
       "png": "[encoded data removed]",
       "text": [
        "<matplotlib.figure.Figure at 0x10c2ec4d0>"
       ]
      }
     ],
     "prompt_number": 197
    },
    {
     "cell_type": "code",
     "collapsed": false,
     "input": [
      "lambda1 = 0.6\n",
      "lambda2 = 0.001\n",
      "gamma = 10e-8\n",
      "beta = 0.1\n",
      "m =  max(max(edge))\n",
      "sigma = np.array(edge)/m\n",
      "n = len(c)\n",
      "reg = 0"
     ],
     "language": "python",
     "metadata": {},
     "outputs": [],
     "prompt_number": 181
    },
    {
     "cell_type": "code",
     "collapsed": false,
     "input": [
      "l = []\n",
      "oldlambda1 = 0\n",
      "oldlambda2 = 0\n",
      "Thre = 1e-6\n",
      "MaxIter = 2400\n",
      "Iter = 0\n",
      "while np.sqrt((abs(lambda1 - oldlambda1)**2 + abs(oldlambda2 - lambda2)**2)) > Thre and Iter < MaxIter:\n",
      "    oldlambda1,oldlambda2 = lambda1,lambda2\n",
      "    sum1,sum2 = update(lambda1,lambda2,beta,p,sigma,n,steps,deltat,reg,window = 1000)\n",
      "    lambda1 = lambda1 + sum1 * gamma;\n",
      "    lambda2 = 0#lambda2 + sum2 * gamma;\n",
      "    l.append([lambda1,lambda2])\n",
      "    print 'Iter:',Iter,lambda1,lambda2 \n",
      "    Iter += 1\n",
      "print 'result:',lambda1,lambda2 "
     ],
     "language": "python",
     "metadata": {},
     "outputs": [
      {
       "output_type": "stream",
       "stream": "stdout",
       "text": [
        "Iter: 0 0.596583015743 0\n",
        "Iter:"
       ]
      },
      {
       "output_type": "stream",
       "stream": "stdout",
       "text": [
        " 1 0.593188780333 0\n",
        "Iter:"
       ]
      },
      {
       "output_type": "stream",
       "stream": "stdout",
       "text": [
        " 2 0.589807948786 0\n",
        "Iter:"
       ]
      },
      {
       "ename": "KeyboardInterrupt",
       "evalue": "",
       "output_type": "pyerr",
       "traceback": [
        "\u001b[0;31m---------------------------------------------------------------------------\u001b[0m\n\u001b[0;31mKeyboardInterrupt\u001b[0m                         Traceback (most recent call last)",
        "\u001b[0;32m<ipython-input-182-3c210142eddc>\u001b[0m in \u001b[0;36m<module>\u001b[0;34m()\u001b[0m\n\u001b[1;32m      7\u001b[0m \u001b[0;32mwhile\u001b[0m \u001b[0mnp\u001b[0m\u001b[0;34m.\u001b[0m\u001b[0msqrt\u001b[0m\u001b[0;34m(\u001b[0m\u001b[0;34m(\u001b[0m\u001b[0mabs\u001b[0m\u001b[0;34m(\u001b[0m\u001b[0mlambda1\u001b[0m \u001b[0;34m-\u001b[0m \u001b[0moldlambda1\u001b[0m\u001b[0;34m)\u001b[0m\u001b[0;34m**\u001b[0m\u001b[0;36m2\u001b[0m \u001b[0;34m+\u001b[0m \u001b[0mabs\u001b[0m\u001b[0;34m(\u001b[0m\u001b[0moldlambda2\u001b[0m \u001b[0;34m-\u001b[0m \u001b[0mlambda2\u001b[0m\u001b[0;34m)\u001b[0m\u001b[0;34m**\u001b[0m\u001b[0;36m2\u001b[0m\u001b[0;34m)\u001b[0m\u001b[0;34m)\u001b[0m \u001b[0;34m>\u001b[0m \u001b[0mThre\u001b[0m \u001b[0;32mand\u001b[0m \u001b[0mIter\u001b[0m \u001b[0;34m<\u001b[0m \u001b[0mMaxIter\u001b[0m\u001b[0;34m:\u001b[0m\u001b[0;34m\u001b[0m\u001b[0m\n\u001b[1;32m      8\u001b[0m     \u001b[0moldlambda1\u001b[0m\u001b[0;34m,\u001b[0m\u001b[0moldlambda2\u001b[0m \u001b[0;34m=\u001b[0m \u001b[0mlambda1\u001b[0m\u001b[0;34m,\u001b[0m\u001b[0mlambda2\u001b[0m\u001b[0;34m\u001b[0m\u001b[0m\n\u001b[0;32m----> 9\u001b[0;31m     \u001b[0msum1\u001b[0m\u001b[0;34m,\u001b[0m\u001b[0msum2\u001b[0m \u001b[0;34m=\u001b[0m \u001b[0mupdate\u001b[0m\u001b[0;34m(\u001b[0m\u001b[0mlambda1\u001b[0m\u001b[0;34m,\u001b[0m\u001b[0mlambda2\u001b[0m\u001b[0;34m,\u001b[0m\u001b[0mbeta\u001b[0m\u001b[0;34m,\u001b[0m\u001b[0mp\u001b[0m\u001b[0;34m,\u001b[0m\u001b[0msigma\u001b[0m\u001b[0;34m,\u001b[0m\u001b[0mn\u001b[0m\u001b[0;34m,\u001b[0m\u001b[0msteps\u001b[0m\u001b[0;34m,\u001b[0m\u001b[0mdeltat\u001b[0m\u001b[0;34m,\u001b[0m\u001b[0mreg\u001b[0m\u001b[0;34m,\u001b[0m\u001b[0mwindow\u001b[0m \u001b[0;34m=\u001b[0m \u001b[0;36m1000\u001b[0m\u001b[0;34m)\u001b[0m\u001b[0;34m\u001b[0m\u001b[0m\n\u001b[0m\u001b[1;32m     10\u001b[0m     \u001b[0mlambda1\u001b[0m \u001b[0;34m=\u001b[0m \u001b[0mlambda1\u001b[0m \u001b[0;34m+\u001b[0m \u001b[0msum1\u001b[0m \u001b[0;34m*\u001b[0m \u001b[0mgamma\u001b[0m\u001b[0;34m;\u001b[0m\u001b[0;34m\u001b[0m\u001b[0m\n\u001b[1;32m     11\u001b[0m     \u001b[0mlambda2\u001b[0m \u001b[0;34m=\u001b[0m \u001b[0;36m0\u001b[0m\u001b[0;31m#lambda2 + sum2 * gamma;\u001b[0m\u001b[0;34m\u001b[0m\u001b[0m\n",
        "\u001b[0;32m<ipython-input-82-1995513e81b3>\u001b[0m in \u001b[0;36mupdate\u001b[0;34m(lambda1, lambda2, beta, p, sigma, n, steps, deltat, mu, window)\u001b[0m\n\u001b[1;32m     11\u001b[0m             \u001b[0;32mfor\u001b[0m \u001b[0mm\u001b[0m \u001b[0;32min\u001b[0m \u001b[0mrange\u001b[0m\u001b[0;34m(\u001b[0m\u001b[0mmax\u001b[0m\u001b[0;34m(\u001b[0m\u001b[0;36m0\u001b[0m\u001b[0;34m,\u001b[0m\u001b[0mk\u001b[0m\u001b[0;34m-\u001b[0m\u001b[0mwindow\u001b[0m\u001b[0;34m)\u001b[0m\u001b[0;34m,\u001b[0m\u001b[0mk\u001b[0m\u001b[0;34m)\u001b[0m\u001b[0;34m:\u001b[0m\u001b[0;34m\u001b[0m\u001b[0m\n\u001b[1;32m     12\u001b[0m                 \u001b[0mt1\u001b[0m \u001b[0;34m=\u001b[0m \u001b[0mt1\u001b[0m \u001b[0;34m+\u001b[0m\u001b[0mp\u001b[0m\u001b[0;34m[\u001b[0m\u001b[0mi\u001b[0m\u001b[0;34m,\u001b[0m\u001b[0mm\u001b[0m\u001b[0;34m]\u001b[0m\u001b[0;34m*\u001b[0m\u001b[0mdf0\u001b[0m\u001b[0;34m\u001b[0m\u001b[0m\n\u001b[0;32m---> 13\u001b[0;31m                 \u001b[0mt3\u001b[0m \u001b[0;34m=\u001b[0m \u001b[0mt3\u001b[0m\u001b[0;34m+\u001b[0m\u001b[0mnp\u001b[0m\u001b[0;34m.\u001b[0m\u001b[0msum\u001b[0m\u001b[0;34m(\u001b[0m\u001b[0mp\u001b[0m\u001b[0;34m[\u001b[0m\u001b[0;34m:\u001b[0m\u001b[0;34m,\u001b[0m\u001b[0mm\u001b[0m\u001b[0;34m]\u001b[0m\u001b[0;34m*\u001b[0m\u001b[0msigma\u001b[0m\u001b[0;34m[\u001b[0m\u001b[0mi\u001b[0m\u001b[0;34m,\u001b[0m\u001b[0;34m:\u001b[0m\u001b[0;34m]\u001b[0m\u001b[0;34m)\u001b[0m\u001b[0;34m*\u001b[0m\u001b[0mdf0\u001b[0m\u001b[0;34m\u001b[0m\u001b[0m\n\u001b[0m\u001b[1;32m     14\u001b[0m                 \u001b[0mdf0\u001b[0m \u001b[0;34m=\u001b[0m \u001b[0mdf0\u001b[0m\u001b[0;34m/\u001b[0m\u001b[0mdf\u001b[0m\u001b[0;34m\u001b[0m\u001b[0m\n\u001b[1;32m     15\u001b[0m             \u001b[0mt2\u001b[0m \u001b[0;34m=\u001b[0m \u001b[0mt1\u001b[0m\u001b[0;34m*\u001b[0m\u001b[0mp\u001b[0m\u001b[0;34m[\u001b[0m\u001b[0mi\u001b[0m\u001b[0;34m,\u001b[0m\u001b[0mk\u001b[0m\u001b[0;34m]\u001b[0m\u001b[0;34m\u001b[0m\u001b[0m\n",
        "\u001b[0;32m/System/Library/Frameworks/Python.framework/Versions/2.7/Extras/lib/python/numpy/core/fromnumeric.pyc\u001b[0m in \u001b[0;36msum\u001b[0;34m(a, axis, dtype, out, keepdims)\u001b[0m\n\u001b[1;32m   1696\u001b[0m \u001b[0;34m\u001b[0m\u001b[0m\n\u001b[1;32m   1697\u001b[0m     \"\"\"\n\u001b[0;32m-> 1698\u001b[0;31m     \u001b[0;32mif\u001b[0m \u001b[0misinstance\u001b[0m\u001b[0;34m(\u001b[0m\u001b[0ma\u001b[0m\u001b[0;34m,\u001b[0m \u001b[0m_gentype\u001b[0m\u001b[0;34m)\u001b[0m\u001b[0;34m:\u001b[0m\u001b[0;34m\u001b[0m\u001b[0m\n\u001b[0m\u001b[1;32m   1699\u001b[0m         \u001b[0mres\u001b[0m \u001b[0;34m=\u001b[0m \u001b[0m_sum_\u001b[0m\u001b[0;34m(\u001b[0m\u001b[0ma\u001b[0m\u001b[0;34m)\u001b[0m\u001b[0;34m\u001b[0m\u001b[0m\n\u001b[1;32m   1700\u001b[0m         \u001b[0;32mif\u001b[0m \u001b[0mout\u001b[0m \u001b[0;32mis\u001b[0m \u001b[0;32mnot\u001b[0m \u001b[0mNone\u001b[0m\u001b[0;34m:\u001b[0m\u001b[0;34m\u001b[0m\u001b[0m\n",
        "\u001b[0;31mKeyboardInterrupt\u001b[0m: "
       ]
      },
      {
       "output_type": "stream",
       "stream": "stdout",
       "text": [
        " 3 0.58644062153 0\n"
       ]
      }
     ],
     "prompt_number": 182
    },
    {
     "cell_type": "code",
     "collapsed": false,
     "input": [
      "log = []\n",
      "logs = []"
     ],
     "language": "python",
     "metadata": {},
     "outputs": [],
     "prompt_number": 539
    },
    {
     "cell_type": "code",
     "collapsed": false,
     "input": [
      "log = [lambda1,lambda2,beta,p,sigma,n,steps,deltat,reg,gamma]\n",
      "logs.append(log)"
     ],
     "language": "python",
     "metadata": {},
     "outputs": [],
     "prompt_number": 422
    },
    {
     "cell_type": "code",
     "collapsed": false,
     "input": [
      "gamma = 10e-8"
     ],
     "language": "python",
     "metadata": {},
     "outputs": [],
     "prompt_number": 508
    },
    {
     "cell_type": "code",
     "collapsed": false,
     "input": [
      "def estimate(lambda1,lambda2,beta,p,sigma,n,steps,deltat,reg,window = 1,k=1):\n",
      "    est = []\n",
      "    for i in range(n):\n",
      "        t1 = 0\n",
      "        for m in range(max(0,k-window),k):\n",
      "            t1 = t1 +p[i,m]*math.exp(-beta*(k-m)*deltat)\n",
      "        t3 = 0\n",
      "        #for j in range(n):\n",
      "        for m1 in range(max(0,k-window),k):\n",
      "            t3 = t3+np.sum(p[:,m1]*sigma[i,:])*math.exp(-beta*(k-m1)*deltat)\n",
      "                \n",
      "        mu = lambda1*t1 + lambda2*t3\n",
      "        est.append(mu*deltat)\n",
      "    return est"
     ],
     "language": "python",
     "metadata": {},
     "outputs": [],
     "prompt_number": 85
    },
    {
     "cell_type": "code",
     "collapsed": false,
     "input": [
      "width = 0.2 \n",
      "q = []\n",
      "qw = []\n",
      "for k in range(steps):\n",
      "    e = estimate(lambda1,lambda2,beta,p,sigma,n,steps,deltat,reg,window = 1000,k=k)\n",
      "    e2 = estimate(lambda0,0,beta,p,sigma,n,steps,deltat,reg,window = 1000,k=k)\n",
      "    q.append(e)\n",
      "    qw.append(e2)\n",
      "    index = np.array(range(len(e)))\n",
      "    plt.figure(figsize=(16,10))\n",
      "    plt.bar(index-width,p[:,k],width,label = 'Ground Truth',alpha = 0.6,color = 'b')\n",
      "    plt.bar(index,e,width, label = 'Estimated', alpha = 0.6, color = 'r')\n",
      "    plt.bar(index+width,e2,width, label = 'W/O Neighbour', alpha = 0.6, color = 'g')\n",
      "    plt.axis([0, 60, 0, 40])\n",
      "    plt.legend()\n",
      "    plt.savefig('estimate_'+ str(k) +'.png', dpi=300)\n",
      "    plt.savefig('estimate_'+ str(k) +'.pdf')\n",
      "    "
     ],
     "language": "python",
     "metadata": {},
     "outputs": [
      {
       "ename": "NameError",
       "evalue": "name 'lambda0' is not defined",
       "output_type": "pyerr",
       "traceback": [
        "\u001b[0;31m---------------------------------------------------------------------------\u001b[0m\n\u001b[0;31mNameError\u001b[0m                                 Traceback (most recent call last)",
        "\u001b[0;32m<ipython-input-86-b5ad1916ba5d>\u001b[0m in \u001b[0;36m<module>\u001b[0;34m()\u001b[0m\n\u001b[1;32m      4\u001b[0m \u001b[0;32mfor\u001b[0m \u001b[0mk\u001b[0m \u001b[0;32min\u001b[0m \u001b[0mrange\u001b[0m\u001b[0;34m(\u001b[0m\u001b[0msteps\u001b[0m\u001b[0;34m)\u001b[0m\u001b[0;34m:\u001b[0m\u001b[0;34m\u001b[0m\u001b[0m\n\u001b[1;32m      5\u001b[0m     \u001b[0me\u001b[0m \u001b[0;34m=\u001b[0m \u001b[0mestimate\u001b[0m\u001b[0;34m(\u001b[0m\u001b[0mlambda1\u001b[0m\u001b[0;34m,\u001b[0m\u001b[0mlambda2\u001b[0m\u001b[0;34m,\u001b[0m\u001b[0mbeta\u001b[0m\u001b[0;34m,\u001b[0m\u001b[0mp\u001b[0m\u001b[0;34m,\u001b[0m\u001b[0msigma\u001b[0m\u001b[0;34m,\u001b[0m\u001b[0mn\u001b[0m\u001b[0;34m,\u001b[0m\u001b[0msteps\u001b[0m\u001b[0;34m,\u001b[0m\u001b[0mdeltat\u001b[0m\u001b[0;34m,\u001b[0m\u001b[0mreg\u001b[0m\u001b[0;34m,\u001b[0m\u001b[0mwindow\u001b[0m \u001b[0;34m=\u001b[0m \u001b[0;36m1000\u001b[0m\u001b[0;34m,\u001b[0m\u001b[0mk\u001b[0m\u001b[0;34m=\u001b[0m\u001b[0mk\u001b[0m\u001b[0;34m)\u001b[0m\u001b[0;34m\u001b[0m\u001b[0m\n\u001b[0;32m----> 6\u001b[0;31m     \u001b[0me2\u001b[0m \u001b[0;34m=\u001b[0m \u001b[0mestimate\u001b[0m\u001b[0;34m(\u001b[0m\u001b[0mlambda0\u001b[0m\u001b[0;34m,\u001b[0m\u001b[0;36m0\u001b[0m\u001b[0;34m,\u001b[0m\u001b[0mbeta\u001b[0m\u001b[0;34m,\u001b[0m\u001b[0mp\u001b[0m\u001b[0;34m,\u001b[0m\u001b[0msigma\u001b[0m\u001b[0;34m,\u001b[0m\u001b[0mn\u001b[0m\u001b[0;34m,\u001b[0m\u001b[0msteps\u001b[0m\u001b[0;34m,\u001b[0m\u001b[0mdeltat\u001b[0m\u001b[0;34m,\u001b[0m\u001b[0mreg\u001b[0m\u001b[0;34m,\u001b[0m\u001b[0mwindow\u001b[0m \u001b[0;34m=\u001b[0m \u001b[0;36m1000\u001b[0m\u001b[0;34m,\u001b[0m\u001b[0mk\u001b[0m\u001b[0;34m=\u001b[0m\u001b[0mk\u001b[0m\u001b[0;34m)\u001b[0m\u001b[0;34m\u001b[0m\u001b[0m\n\u001b[0m\u001b[1;32m      7\u001b[0m     \u001b[0mq\u001b[0m\u001b[0;34m.\u001b[0m\u001b[0mappend\u001b[0m\u001b[0;34m(\u001b[0m\u001b[0me\u001b[0m\u001b[0;34m)\u001b[0m\u001b[0;34m\u001b[0m\u001b[0m\n\u001b[1;32m      8\u001b[0m     \u001b[0mqw\u001b[0m\u001b[0;34m.\u001b[0m\u001b[0mappend\u001b[0m\u001b[0;34m(\u001b[0m\u001b[0me2\u001b[0m\u001b[0;34m)\u001b[0m\u001b[0;34m\u001b[0m\u001b[0m\n",
        "\u001b[0;31mNameError\u001b[0m: name 'lambda0' is not defined"
       ]
      }
     ],
     "prompt_number": 86
    },
    {
     "cell_type": "code",
     "collapsed": false,
     "input": [
      "def estimatemedication(lambda1,lambda2,beta,p,c,sigma,n,steps,deltat,reg,window = 1,k=1):\n",
      "    est = []\n",
      "    for i in range(n):\n",
      "        t1 = 0\n",
      "        for m in range(max(0,k-window),k):\n",
      "            t1 = t1 +max((p[i,m] - c[i,m],0))*math.exp(-beta*(k-m)*deltat)\n",
      "        t3 = 0\n",
      "        #for j in range(n):\n",
      "        for m1 in range(max(0,k-window),k):\n",
      "            for ll in range(n):\n",
      "                t3 = t3+max(p[ll,m1]-c[ll,m1],0)*sigma[i,ll]*math.exp(-beta*(k-m1)*deltat)\n",
      "                \n",
      "        mu = lambda1*t1 + lambda2*t3\n",
      "        est.append(mu*deltat)\n",
      "    return est\n",
      "\n"
     ],
     "language": "python",
     "metadata": {},
     "outputs": [],
     "prompt_number": 87
    },
    {
     "cell_type": "code",
     "collapsed": false,
     "input": [
      "w1 = sum(np.array(edge))\n",
      "w1"
     ],
     "language": "python",
     "metadata": {},
     "outputs": [
      {
       "metadata": {},
       "output_type": "pyout",
       "prompt_number": 88,
       "text": [
        "array([ 370.93628269,  223.98539156,  226.18823142,  171.00206104,\n",
        "        127.29681803,  787.79848225,  343.6686991 ,   92.66129302,\n",
        "        232.29061853,  166.61438479,  167.8945937 ,   65.15202142,\n",
        "        410.03708011,    4.0195236 ,    7.13600865,   21.12917437,\n",
        "         15.30136446,   14.73852109,  242.41103391,    2.1964397 ,\n",
        "         15.15821309,    1.86479355,   89.87425994,   31.36965281,\n",
        "         91.29679438,   36.6023357 ,   26.82869161,  148.28465236,\n",
        "         31.49022836,   33.82261438,  689.34193979,   67.18239294,\n",
        "         37.35161958,  125.78464473,   30.8907086 ,  147.87851419,\n",
        "         26.64121411,   30.54267295,   33.08273545,   20.16877312,\n",
        "         37.27131875,   86.25896132,   47.76613709,   15.31989277,\n",
        "         66.64361618,    8.36368044,   36.53432813,    6.33180615,\n",
        "         82.52337836,   82.40558349,    7.22220144,  462.2933454 ,\n",
        "         71.10465124,   92.61823316,   22.19959746])"
       ]
      }
     ],
     "prompt_number": 88
    },
    {
     "cell_type": "code",
     "collapsed": false,
     "input": [
      "def allocate(w,m,p):\n",
      "    sortedw = np.sort(w)[::-1]\n",
      "    l = []\n",
      "    #print p\n",
      "    for item in sortedw:\n",
      "        l.append(np.where(w == item)[0][0])\n",
      "    al = np.zeros_like(p)\n",
      "    idx = 0\n",
      "    while m >= 0 and idx<len(p):\n",
      "        #print l[idx]\n",
      "        #print min(m,p[l[idx]])\n",
      "        al[l[idx]] = min(m,p[l[idx]])\n",
      "        m -= min(m,p[l[idx]])  \n",
      "        idx += 1\n",
      "    return al\n",
      "\n",
      "\n",
      "\n",
      "def allocatev(w,m,p):\n",
      "    sortedw = np.sort(w)[::-1]\n",
      "    l = []\n",
      "    #print p\n",
      "    for item in sortedw:\n",
      "        l.append(np.where(w == item)[0][0])\n",
      "    al = np.zeros_like(p)\n",
      "    idx = 0\n",
      "    while m >= 0 and idx<len(p):\n",
      "        #print l[idx]\n",
      "        #print min(m,p[l[idx]])\n",
      "        al[l[idx]] = min(m,p[l[idx]])\n",
      "        m -= min(m,p[l[idx]])  \n",
      "        idx += 1\n",
      "    return al"
     ],
     "language": "python",
     "metadata": {},
     "outputs": [],
     "prompt_number": 89
    },
    {
     "cell_type": "code",
     "collapsed": false,
     "input": [
      "print allocate(w1,10,p[:,10])"
     ],
     "language": "python",
     "metadata": {},
     "outputs": [
      {
       "output_type": "stream",
       "stream": "stdout",
       "text": [
        "[ 0  0  0  0  0  0  0  0  0  0  0  0  0  0  0  0  0  0  0  0  0  0  0  0  0\n",
        "  0  0  0  0  0 10  0  0  0  0  0  0  0  0  0  0  0  0  0  0  0  0  0  0  0\n",
        "  0  0  0  0  0]\n"
       ]
      }
     ],
     "prompt_number": 90
    },
    {
     "cell_type": "code",
     "collapsed": false,
     "input": [
      "def allocatew(m,p):\n",
      "    al = (m*(p/float(np.sum(p))))\n",
      "    return al.astype(int)"
     ],
     "language": "python",
     "metadata": {},
     "outputs": [],
     "prompt_number": 91
    },
    {
     "cell_type": "code",
     "collapsed": false,
     "input": [
      "def allocatep(m,p,w):\n",
      "    al = (m*(w/float(np.sum(w))))\n",
      "    return al.astype(int)"
     ],
     "language": "python",
     "metadata": {},
     "outputs": [],
     "prompt_number": 92
    },
    {
     "cell_type": "code",
     "collapsed": false,
     "input": [
      "lambda1,lambda2 = (0.21365953932028273, 0.01134447988647677)\n",
      "\n",
      "step = 17\n",
      "m = 500\n",
      "\n",
      "al = allocatew(m,p[:,step-1])\n",
      "al2 = allocate(w1,m,p[:,step-1])\n",
      "al3 = allocatep(m,p[:,step-1],np.array(population))\n",
      "c = np.zeros_like(p)\n",
      "c[:,step-1] = al\n",
      "\n",
      "c2 = np.zeros_like(p)\n",
      "c2[:,step-1] = al2\n",
      "\n",
      "\n",
      "c3 = np.zeros_like(p)\n",
      "c3[:,step-1] = al3"
     ],
     "language": "python",
     "metadata": {},
     "outputs": [],
     "prompt_number": 183
    },
    {
     "cell_type": "code",
     "collapsed": false,
     "input": [
      "A = [ np.sum(estimatemedication(lambda1,lambda2,beta,p,c2,sigma,n,steps,deltat,reg,window = 1000,k=step))\n",
      ", np.sum(estimatemedication(lambda1,lambda2,beta,p,c,sigma,n,steps,deltat,reg,window = 1000,k=step))\n",
      ", np.sum(estimatemedication(lambda1,lambda2,beta,p,c3,sigma,n,steps,deltat,reg,window = 1000,k=step))\n",
      ", np.sum(estimate(lambda1,lambda2,beta,p,sigma,n,steps,deltat,reg,window = 1000,k=step))\n",
      "#, np.sum(p[:,step])][::-1]\n",
      "][::-1]\n",
      "plt.figure(figsize = (8,5))\n",
      "from matplotlib import rcParams\n",
      "rcParams.update({'figure.autolayout': True})\n",
      "Methods = ( 'Without control\\n (model estimated)' ,'Baseline method\\n(propotional to population)','Baseline method\\n(propotional to cases)', 'Proposed method')\n",
      "#'Without control\\n(truth)',\n",
      "y_pos = np.arange(len(Methods))\n",
      "plt.barh(y_pos, A,  align='center',color = 'rbbg', alpha=0.4)\n",
      "plt.yticks(y_pos, Methods)\n",
      "plt.xlabel('Expected number of new cases')\n",
      "#plt.title('How fast do you want to go today?')\n",
      "\n",
      "#plt.show()\n",
      "plt.savefig('res2.pdf',bbox_inches='tight')\n",
      "\n"
     ],
     "language": "python",
     "metadata": {},
     "outputs": [
      {
       "metadata": {},
       "output_type": "display_data",
       "png": "[encoded data removed]",
       "text": [
        "<matplotlib.figure.Figure at 0x10c8ba990>"
       ]
      }
     ],
     "prompt_number": 419
    },
    {
     "cell_type": "code",
     "collapsed": false,
     "input": [
      "width = 0.2 \n",
      "for m in range(0,2000,100):\n",
      "    plt.figure(figsize = (16,5))\n",
      "    step = 16\n",
      "\n",
      "    al = allocatep(m,p[:,step-1],np.array(population))\n",
      "    al2 = allocate(w1,m,p[:,step-1])\n",
      "    c = np.zeros_like(p)\n",
      "    c[:,step-1] = al\n",
      "\n",
      "    c2 = np.zeros_like(p)\n",
      "    c2[:,step-1] = al217\n",
      "    \n",
      "    print m, np.sum(estimatemedication(lambda1,lambda2,beta,p,c2,sigma,n,steps,deltat,reg,window = 1000,k=step))/(1.0*np.sum(estimatemedication(lambda1,lambda2,beta,p,c,sigma,n,steps,deltat,reg,window = 1000,k=step)))\n",
      "    \n",
      "    plt.bar(np.array(range(n)),estimatemedication(lambda1,lambda2,beta,p,c2,sigma,n,steps,deltat,reg,window = 1000,k=step),width,color = 'r',label = 'proposed method')\n",
      "    plt.bar(np.array(range(n))+width,estimatemedication(lambda1,lambda2,beta,p,c,sigma,n,steps,deltat,reg,window = 1000,k=step),width,color = 'g',label = 'baseline method')\n",
      "    plt.bar(np.array(range(n))+width*2,estimate(lambda1,lambda2,beta,p,sigma,n,steps,deltat,reg,window = 1000,k=step),width,color = 'b',label = '4')\n",
      "    plt.bar(np.array(range(n))+width*3,p[:,step],width,label = 'w/o control (ground truth)',color = 'y')\n",
      "    \n",
      "    plt.legend()\n",
      "    \n",
      "    \n",
      "    \n",
      "    "
     ],
     "language": "python",
     "metadata": {},
     "outputs": [
      {
       "ename": "NameError",
       "evalue": "name 'al217' is not defined",
       "output_type": "pyerr",
       "traceback": [
        "\u001b[0;31m---------------------------------------------------------------------------\u001b[0m\n\u001b[0;31mNameError\u001b[0m                                 Traceback (most recent call last)",
        "\u001b[0;32m<ipython-input-537-68da8d570e95>\u001b[0m in \u001b[0;36m<module>\u001b[0;34m()\u001b[0m\n\u001b[1;32m     10\u001b[0m \u001b[0;34m\u001b[0m\u001b[0m\n\u001b[1;32m     11\u001b[0m     \u001b[0mc2\u001b[0m \u001b[0;34m=\u001b[0m \u001b[0mnp\u001b[0m\u001b[0;34m.\u001b[0m\u001b[0mzeros_like\u001b[0m\u001b[0;34m(\u001b[0m\u001b[0mp\u001b[0m\u001b[0;34m)\u001b[0m\u001b[0;34m\u001b[0m\u001b[0m\n\u001b[0;32m---> 12\u001b[0;31m     \u001b[0mc2\u001b[0m\u001b[0;34m[\u001b[0m\u001b[0;34m:\u001b[0m\u001b[0;34m,\u001b[0m\u001b[0mstep\u001b[0m\u001b[0;34m-\u001b[0m\u001b[0;36m1\u001b[0m\u001b[0;34m]\u001b[0m \u001b[0;34m=\u001b[0m \u001b[0mal217\u001b[0m\u001b[0;34m\u001b[0m\u001b[0m\n\u001b[0m\u001b[1;32m     13\u001b[0m \u001b[0;34m\u001b[0m\u001b[0m\n\u001b[1;32m     14\u001b[0m     \u001b[0;32mprint\u001b[0m \u001b[0mm\u001b[0m\u001b[0;34m,\u001b[0m \u001b[0mnp\u001b[0m\u001b[0;34m.\u001b[0m\u001b[0msum\u001b[0m\u001b[0;34m(\u001b[0m\u001b[0mestimatemedication\u001b[0m\u001b[0;34m(\u001b[0m\u001b[0mlambda1\u001b[0m\u001b[0;34m,\u001b[0m\u001b[0mlambda2\u001b[0m\u001b[0;34m,\u001b[0m\u001b[0mbeta\u001b[0m\u001b[0;34m,\u001b[0m\u001b[0mp\u001b[0m\u001b[0;34m,\u001b[0m\u001b[0mc2\u001b[0m\u001b[0;34m,\u001b[0m\u001b[0msigma\u001b[0m\u001b[0;34m,\u001b[0m\u001b[0mn\u001b[0m\u001b[0;34m,\u001b[0m\u001b[0msteps\u001b[0m\u001b[0;34m,\u001b[0m\u001b[0mdeltat\u001b[0m\u001b[0;34m,\u001b[0m\u001b[0mreg\u001b[0m\u001b[0;34m,\u001b[0m\u001b[0mwindow\u001b[0m \u001b[0;34m=\u001b[0m \u001b[0;36m1000\u001b[0m\u001b[0;34m,\u001b[0m\u001b[0mk\u001b[0m\u001b[0;34m=\u001b[0m\u001b[0mstep\u001b[0m\u001b[0;34m)\u001b[0m\u001b[0;34m)\u001b[0m\u001b[0;34m/\u001b[0m\u001b[0;34m(\u001b[0m\u001b[0;36m1.0\u001b[0m\u001b[0;34m*\u001b[0m\u001b[0mnp\u001b[0m\u001b[0;34m.\u001b[0m\u001b[0msum\u001b[0m\u001b[0;34m(\u001b[0m\u001b[0mestimatemedication\u001b[0m\u001b[0;34m(\u001b[0m\u001b[0mlambda1\u001b[0m\u001b[0;34m,\u001b[0m\u001b[0mlambda2\u001b[0m\u001b[0;34m,\u001b[0m\u001b[0mbeta\u001b[0m\u001b[0;34m,\u001b[0m\u001b[0mp\u001b[0m\u001b[0;34m,\u001b[0m\u001b[0mc\u001b[0m\u001b[0;34m,\u001b[0m\u001b[0msigma\u001b[0m\u001b[0;34m,\u001b[0m\u001b[0mn\u001b[0m\u001b[0;34m,\u001b[0m\u001b[0msteps\u001b[0m\u001b[0;34m,\u001b[0m\u001b[0mdeltat\u001b[0m\u001b[0;34m,\u001b[0m\u001b[0mreg\u001b[0m\u001b[0;34m,\u001b[0m\u001b[0mwindow\u001b[0m \u001b[0;34m=\u001b[0m \u001b[0;36m1000\u001b[0m\u001b[0;34m,\u001b[0m\u001b[0mk\u001b[0m\u001b[0;34m=\u001b[0m\u001b[0mstep\u001b[0m\u001b[0;34m)\u001b[0m\u001b[0;34m)\u001b[0m\u001b[0;34m)\u001b[0m\u001b[0;34m\u001b[0m\u001b[0m\n",
        "\u001b[0;31mNameError\u001b[0m: name 'al217' is not defined"
       ]
      },
      {
       "metadata": {},
       "output_type": "display_data",
       "text": [
        "<matplotlib.figure.Figure at 0x10ac36a10>"
       ]
      }
     ],
     "prompt_number": 537
    },
    {
     "cell_type": "code",
     "collapsed": false,
     "input": [
      "width = 0.2 \n",
      "l = []\n",
      "for m in range(0,500,20):\n",
      "    #plt.figure(figsize = (16,5))\n",
      "    step = 17\n",
      "\n",
      "    al = allocatew(m,p[:,step-1])\n",
      "    al2 = allocate(w1,m,p[:,step-1])\n",
      "    c = np.zeros_like(p)\n",
      "    c[:,step-1] = al\n",
      "\n",
      "    c2 = np.zeros_like(p)\n",
      "    c2[:,step-1] = al2\n",
      "    \n",
      "    al3 = allocatep(m,p[:,step-1],np.array(population))\n",
      "    c3 = np.zeros_like(p)\n",
      "    c3[:,step-1] = al3\n",
      "    \n",
      "    A = [ np.sum(estimatemedication(lambda1,lambda2,beta,p,c2,sigma,n,steps,deltat,reg,window = 1000,k=step))\n",
      ", np.sum(estimatemedication(lambda1,lambda2,beta,p,c,sigma,n,steps,deltat,reg,window = 1000,k=step))\n",
      ", np.sum(estimatemedication(lambda1,lambda2,beta,p,c3,sigma,n,steps,deltat,reg,window = 1000,k=step))\n",
      ", np.sum(estimate(lambda1,lambda2,beta,p,sigma,n,steps,deltat,reg,window = 1000,k=step))]\n",
      "    \n",
      "    \n",
      "    print A\n",
      "    l.append(A)\n"
     ],
     "language": "python",
     "metadata": {},
     "outputs": [
      {
       "output_type": "stream",
       "stream": "stdout",
       "text": [
        "[1013.5174185724592, 1013.5174185724592, 1013.5174185724592, 1013.5174185724592]\n",
        "[992.68439187846298, 1004.4543873210851, 1009.637277174785, 1013.5174185724592]"
       ]
      },
      {
       "output_type": "stream",
       "stream": "stdout",
       "text": [
        "\n",
        "[971.85136518446734, 990.18023242945378, 998.05722126590535, 1013.5174185724592]"
       ]
      },
      {
       "output_type": "stream",
       "stream": "stdout",
       "text": [
        "\n",
        "[951.77825305115277, 970.34026279600539, 985.00672419523005, 1013.5174185724592]"
       ]
      },
      {
       "output_type": "stream",
       "stream": "stdout",
       "text": [
        "\n",
        "[933.01945834580727, 957.82673192488585, 973.13432655706026, 1013.5174185724592]"
       ]
      },
      {
       "output_type": "stream",
       "stream": "stdout",
       "text": [
        "\n",
        "[914.69876944978489, 942.90874147905095, 962.01481065111977, 1013.5174185724592]"
       ]
      },
      {
       "output_type": "stream",
       "stream": "stdout",
       "text": [
        "\n",
        "[896.72090949648634, 924.01387573905356, 949.72251792738678, 1013.5174185724592]"
       ]
      },
      {
       "output_type": "stream",
       "stream": "stdout",
       "text": [
        "\n",
        "[878.80354876837464, 907.25661033918175, 937.25287049475253, 1013.5174185724592]"
       ]
      },
      {
       "output_type": "stream",
       "stream": "stdout",
       "text": [
        "\n",
        "[860.88618804026294, 893.98170126347588, 924.81727593171786, 1013.5174185724592]"
       ]
      },
      {
       "output_type": "stream",
       "stream": "stdout",
       "text": [
        "\n",
        "[843.24043890943631, 874.34730886323121, 915.08836896569744, 1013.5174185724592]"
       ]
      },
      {
       "output_type": "stream",
       "stream": "stdout",
       "text": [
        "\n",
        "[825.62486884497446, 860.07315397160016, 905.69902610973327, 1013.5174185724592]"
       ]
      },
      {
       "output_type": "stream",
       "stream": "stdout",
       "text": [
        "\n",
        "[808.00929878051204, 843.39665110317117, 896.46050078731901, 1013.5174185724592]"
       ]
      },
      {
       "output_type": "stream",
       "stream": "stdout",
       "text": [
        "\n",
        "[790.47791218741088, 826.18457301585875, 890.12964114554097, 1013.5174185724592]"
       ]
      },
      {
       "output_type": "stream",
       "stream": "stdout",
       "text": [
        "\n",
        "[773.07280080135047, 809.51857686856215, 881.54121610220682, 1013.5174185724592]"
       ]
      },
      {
       "output_type": "stream",
       "stream": "stdout",
       "text": [
        "\n",
        "[755.66768941529028, 793.89776203577594, 874.73796603965877, 1013.5174185724592]"
       ]
      },
      {
       "output_type": "stream",
       "stream": "stdout",
       "text": [
        "\n",
        "[738.84872882413447, 777.13568198829523, 868.73621285312367, 1013.5174185724592]"
       ]
      },
      {
       "output_type": "stream",
       "stream": "stdout",
       "text": [
        "\n",
        "[722.22515183128007, 762.2931706525809, 858.46411338561325, 1013.5174185724592]"
       ]
      },
      {
       "output_type": "stream",
       "stream": "stdout",
       "text": [
        "\n",
        "[705.60157483842545, 745.45198840844398, 851.54755116074739, 1013.5174185724592]"
       ]
      },
      {
       "output_type": "stream",
       "stream": "stdout",
       "text": [
        "\n",
        "[688.97799784557117, 726.88328090709001, 844.7168623457776, 1013.5174185724592]"
       ]
      },
      {
       "output_type": "stream",
       "stream": "stdout",
       "text": [
        "\n",
        "[672.35442085271643, 712.66962416138085, 837.89727049188377, 1013.5174185724592]"
       ]
      },
      {
       "output_type": "stream",
       "stream": "stdout",
       "text": [
        "\n",
        "[655.73084385986203, 694.50639268410418, 827.57329252954526, 1013.5174185724592]"
       ]
      },
      {
       "output_type": "stream",
       "stream": "stdout",
       "text": [
        "\n",
        "[639.10726686700752, 676.1359053184857, 819.92226929797039, 1013.5174185724592]"
       ]
      },
      {
       "output_type": "stream",
       "stream": "stdout",
       "text": [
        "\n",
        "[622.48368987415313, 661.91638801363581, 813.95140664844234, 1013.5174185724592]"
       ]
      },
      {
       "output_type": "stream",
       "stream": "stdout",
       "text": [
        "\n",
        "[605.86011288129896, 644.80400849019577, 805.15740841753461, 1013.5174185724592]"
       ]
      },
      {
       "output_type": "stream",
       "stream": "stdout",
       "text": [
        "\n",
        "[589.23653588844479, 630.55991445417976, 796.73498276830128, 1013.5174185724592]"
       ]
      },
      {
       "output_type": "stream",
       "stream": "stdout",
       "text": [
        "\n"
       ]
      }
     ],
     "prompt_number": 524
    },
    {
     "cell_type": "code",
     "collapsed": false,
     "input": [
      "x = range(0,500,20)\n",
      "l = np.array(l)\n",
      "l[:,0]\n",
      "\n",
      "ax = plt.gca()\n",
      "ax.set_color_cycle(['r','b','g' ])\n",
      "    \n",
      "    \n",
      "plt.plot(x,l[:,0:3][:,::-1],lw = 2,alpha = 0.6)\n",
      "plt.legend(['Proposed method','Baseline (#cases)','Baseline (population)'][::-1])\n",
      "plt.xlabel('Amount of medicine')\n",
      "plt.ylabel('Expected number of infections in the future')\n",
      "\n",
      "\n",
      "plt.savefig('ev.pdf')"
     ],
     "language": "python",
     "metadata": {},
     "outputs": [
      {
       "metadata": {},
       "output_type": "display_data",
       "png": "[encoded data removed]",
       "text": [
        "<matplotlib.figure.Figure at 0x10f05bfd0>"
       ]
      }
     ],
     "prompt_number": 461
    },
    {
     "cell_type": "code",
     "collapsed": false,
     "input": [
      "def estimatevaccine(lambda1,lambda2,beta,p,v,population,sigma,n,steps,deltat,reg,window = 1,k=1):\n",
      "    est = []\n",
      "    \n",
      "    \n",
      "    V = sum(v.transpose()[0:k+1,:])\n",
      "    #print V\n",
      "    \n",
      "    v2 = []\n",
      "    \n",
      "    for i in range(len(V)):\n",
      "        v2.append( min(float(V[i])/float(population[i]),1.0) )\n",
      "        #print \"%f\"%v2[i]\n",
      "    for i in range(n):\n",
      "        t1 = 0\n",
      "        for m in range(max(0,k-window),k):\n",
      "            t1 = t1 + p[i,m]*math.exp(-beta*(k-m)*deltat)\n",
      "        t3 = 0\n",
      "        #for j in range(n):\n",
      "        for m1 in range(max(0,k-window),k):\n",
      "            for ll in range(n):\n",
      "                t3 = t3+(p[ll,m1])*sigma[i,ll]*math.exp(-beta*(k-m1)*deltat)\n",
      "                \n",
      "        mu = (1-v2[i])*lambda1*t1 + lambda2*t3\n",
      "        est.append(mu*deltat)\n",
      "    return est\n",
      "\n",
      "\n"
     ],
     "language": "python",
     "metadata": {},
     "outputs": [],
     "prompt_number": 544
    },
    {
     "cell_type": "code",
     "collapsed": false,
     "input": [],
     "language": "python",
     "metadata": {},
     "outputs": [],
     "prompt_number": 544
    },
    {
     "cell_type": "code",
     "collapsed": false,
     "input": [
      "population"
     ],
     "language": "python",
     "metadata": {},
     "outputs": [
      {
       "metadata": {},
       "output_type": "pyout",
       "prompt_number": 545,
       "text": [
        "[493928,\n",
        " 409254,\n",
        " 350353,\n",
        " 337954,\n",
        " 240682,\n",
        " 802639,\n",
        " 482884,\n",
        " 236269,\n",
        " 363767,\n",
        " 258909,\n",
        " 281141,\n",
        " 131580,\n",
        " 460230,\n",
        " 25678,\n",
        " 25731,\n",
        " 33945,\n",
        " 26594,\n",
        " 72000,\n",
        " 939524,\n",
        " 32661,\n",
        " 45835,\n",
        " 16434,\n",
        " 154820,\n",
        " 114250,\n",
        " 283642,\n",
        " 124393,\n",
        " 243888,\n",
        " 77103,\n",
        " 159600,\n",
        " 188045,\n",
        " 1767200,\n",
        " 117062,\n",
        " 245870,\n",
        " 265689,\n",
        " 124625,\n",
        " 135817,\n",
        " 155636,\n",
        " 132086,\n",
        " 79140,\n",
        " 114009,\n",
        " 86736,\n",
        " 296192,\n",
        " 82073,\n",
        " 61527,\n",
        " 165196,\n",
        " 8300,\n",
        " 83758,\n",
        " 57106,\n",
        " 462026,\n",
        " 84119,\n",
        " 66789,\n",
        " 197098,\n",
        " 129055,\n",
        " 300000,\n",
        " 78108]"
       ]
      }
     ],
     "prompt_number": 545
    },
    {
     "cell_type": "code",
     "collapsed": false,
     "input": [
      "width = 0.2 \n",
      "l = []\n",
      "for v in range(0,5000000,250000):\n",
      "    step = 17\n",
      "    #v = 5000000\n",
      "    e = estimate(lambda1,lambda2,beta,p,sigma,n,steps,deltat,reg,window = 1000,k=step)\n",
      "    w = np.array(e)/population\n",
      "    al = allocatev(w,v,population)\n",
      "    #print al\n",
      "    vv = np.zeros_like(p)\n",
      "    vv[:,step-1] = al\n",
      "    \n",
      "    \n",
      "    \n",
      "    al2 = allocatew(v,np.array(population))\n",
      "    al3 = allocatew(v,p[:,step-1])\n",
      "    \n",
      "    vv2 = np.zeros_like(p)\n",
      "    vv2[:,step-1] = al2\n",
      "    \n",
      "    vv3 = np.zeros_like(p)\n",
      "    vv3[:,step-1] = al3\n",
      "        \n",
      "    \n",
      "    e2 = estimatevaccine(lambda1,lambda2,beta,p,vv,population,sigma,n,steps,deltat,reg,window = 1000,k=step)\n",
      "    e3 = estimatevaccine(lambda1,lambda2,beta,p,vv2,population,sigma,n,steps,deltat,reg,window = 1000,k=step)\n",
      "    e4 = estimatevaccine(lambda1,lambda2,beta,p,vv3,population,sigma,n,steps,deltat,reg,window = 1000,k=step)\n",
      "    \n",
      "    \n",
      "    \n",
      "    \n",
      "    A = [sum(e),sum(e3),sum(e4),sum(e2)]\n",
      "    plt.figure(figsize = (8,5))\n",
      "    Methods = ( 'Without control\\n (model estimated)' ,'Baseline method\\n(propotional to population)','Baseline method\\n(propotional to cases)', 'Proposed method')\n",
      "    #'Without control\\n(truth)',\n",
      "    y_pos = np.arange(len(Methods))\n",
      "    plt.barh(y_pos, A,  align='center',color = 'rbbg', alpha=0.4)\n",
      "    plt.yticks(y_pos, Methods)\n",
      "    plt.xlabel('Expected number of new cases')\n",
      "    #plt.title('How fast do you want to go today?')\n",
      "\n",
      "    #plt.show()\n",
      "    #plt.savefig('res4.pdf',bbox_inches='tight')\n",
      "    \n",
      "    l.append([v,e2,e4,e3,e,]\n",
      "    \n",
      "    idx = range(n)\n",
      "    print sum(e)\n",
      "    print sum(e2)\n",
      "    print sum(e3)\n",
      "    print sum(e4)"
     ],
     "language": "python",
     "metadata": {},
     "outputs": [
      {
       "output_type": "stream",
       "stream": "stdout",
       "text": [
        "1013.51741857\n",
        "179.511057134\n",
        "657.932686288\n",
        "306.375374566\n"
       ]
      },
      {
       "metadata": {},
       "output_type": "display_data",
       "png": "[encoded data removed]",
       "text": [
        "<matplotlib.figure.Figure at 0x10a86d4d0>"
       ]
      }
     ],
     "prompt_number": 562
    },
    {
     "cell_type": "code",
     "collapsed": false,
     "input": [
      "l = pickle.load(file('vac.pkl'))\n"
     ],
     "language": "python",
     "metadata": {},
     "outputs": [],
     "prompt_number": 4
    },
    {
     "cell_type": "code",
     "collapsed": false,
     "input": [
      "l = np.array(l)\n",
      "\n",
      "\n",
      "plt.figure(figsize = (8,5))    \n",
      "ax = plt.gca()\n",
      "ax.set_color_cycle(['r','b','g' ])\n",
      "plt.plot(l[:,0],l[:,2:5],lw = 2,alpha = 0.6)\n",
      "plt.legend(['Proposed method','Baseline (#cases)','Baseline (population)'][::-1])\n",
      "plt.xlabel('Amount of vaccine')\n",
      "plt.ylabel('Expected number of infections in the future')\n",
      "\n",
      "\n",
      "plt.savefig('ev.pdf')"
     ],
     "language": "python",
     "metadata": {},
     "outputs": [
      {
       "metadata": {},
       "output_type": "display_data",
       "png": "[encoded data removed]",
       "text": [
        "<matplotlib.figure.Figure at 0x10ca76610>"
       ]
      }
     ],
     "prompt_number": 17
    },
    {
     "cell_type": "code",
     "collapsed": false,
     "input": [
      "edge"
     ],
     "language": "python",
     "metadata": {},
     "outputs": [
      {
       "ename": "NameError",
       "evalue": "name 'edge' is not defined",
       "output_type": "pyerr",
       "traceback": [
        "\u001b[0;31m---------------------------------------------------------------------------\u001b[0m\n\u001b[0;31mNameError\u001b[0m                                 Traceback (most recent call last)",
        "\u001b[0;32m<ipython-input-18-d9eaf3de80ef>\u001b[0m in \u001b[0;36m<module>\u001b[0;34m()\u001b[0m\n\u001b[0;32m----> 1\u001b[0;31m \u001b[0medge\u001b[0m\u001b[0;34m\u001b[0m\u001b[0m\n\u001b[0m",
        "\u001b[0;31mNameError\u001b[0m: name 'edge' is not defined"
       ]
      }
     ],
     "prompt_number": 18
    },
    {
     "cell_type": "code",
     "collapsed": false,
     "input": [
      "def getallocate(w,m,p):\n",
      "    sortedw = np.sort(w)[::-1]\n",
      "    l = []\n",
      "    #print p\n",
      "    for item in sortedw:\n",
      "        l.append(np.where(w == item)[0][0])\n",
      "    al = np.zeros_like(p)\n",
      "    idx = 0\n",
      "    while m >= 0 and idx<len(p):\n",
      "        #print l[idx]\n",
      "        #print min(m,p[l[idx]])\n",
      "        al[l[idx]] = min(m,p[l[idx]])\n",
      "        m -= min(m,p[l[idx]])  \n",
      "        idx += 1\n",
      "    return l"
     ],
     "language": "python",
     "metadata": {},
     "outputs": [],
     "prompt_number": 29
    },
    {
     "cell_type": "code",
     "collapsed": false,
     "input": [
      "\n",
      "p0[:,27]"
     ],
     "language": "python",
     "metadata": {},
     "outputs": [
      {
       "metadata": {},
       "output_type": "pyout",
       "prompt_number": 208,
       "text": [
        "array([ 89, 147,  70,  35,  36,  20,  88,  14,  58,  82,  39,   9, 101,\n",
        "         0,   3,  75,  20,   0, 345,   0,  27,   2,   4,   0,   1,   1,\n",
        "         0,   7,   0,   2,  15,   2,   0,   5,   4,  13,   0,   0,  12,\n",
        "         0,   1, 105,   0,   0,   1,   1,  11,   1,  30,  84,   2,   9,\n",
        "        28,  20,   0])"
       ]
      }
     ],
     "prompt_number": 208
    },
    {
     "cell_type": "code",
     "collapsed": false,
     "input": [
      "print getallocate(w1,10,p[:,10])\n",
      "\n",
      "[p0[i,27] for i in getallocate(w1,10,p0[:,10])]"
     ],
     "language": "python",
     "metadata": {},
     "outputs": [
      {
       "ename": "SyntaxError",
       "evalue": "invalid syntax (<ipython-input-211-ff9fe10524d0>, line 3)",
       "output_type": "pyerr",
       "traceback": [
        "\u001b[0;36m  File \u001b[0;32m\"<ipython-input-211-ff9fe10524d0>\"\u001b[0;36m, line \u001b[0;32m3\u001b[0m\n\u001b[0;31m    p0[i,27] for i in getallocate(w1,10,p0[:,10])\u001b[0m\n\u001b[0m               ^\u001b[0m\n\u001b[0;31mSyntaxError\u001b[0m\u001b[0;31m:\u001b[0m invalid syntax\n"
       ]
      }
     ],
     "prompt_number": 211
    },
    {
     "cell_type": "code",
     "collapsed": false,
     "input": [
      "for name in  [k[1][0] + k[1][1:].lower() for k in [c[i] for i in getallocate(w1,10,p0[:,10])]]:print name"
     ],
     "language": "python",
     "metadata": {},
     "outputs": [
      {
       "output_type": "stream",
       "stream": "stdout",
       "text": [
        "Freetown\n",
        "Conakry\n",
        "Western rural\n",
        "Port loko\n",
        "Kenema\n",
        "Bo\n",
        "Montserrado\n",
        "Kailahun\n",
        "Tonkolili\n",
        "Bombali\n",
        "Kono\n",
        "Kambia\n",
        "Moyamba\n",
        "Coyah\n",
        "Forecariah\n",
        "Pujehun\n",
        "Pita\n",
        "Koinadugu\n",
        "N'zerekore\n",
        "Telimele\n",
        "Dalaba\n",
        "Macenta\n",
        "Nimba\n",
        "Bomi\n",
        "Grand cape mount\n",
        "Kindia\n",
        "Boffa\n",
        "Bonthe\n",
        "Fria\n",
        "Mali\n",
        "Yomou\n",
        "Lola\n",
        "Gbarpolu\n",
        "Beyla\n",
        "Gueckedou\n",
        "Kouroussa\n",
        "Dabola\n",
        "Kerouane\n",
        "Tougue\n",
        "Siguiri\n",
        "Dinguiraye\n",
        "Faranah\n",
        "Margibi\n",
        "Kankan\n",
        "Boke\n",
        "Lofa\n",
        "Bong\n",
        "Rivercess\n",
        "Dubreka\n",
        "River gee\n",
        "Grand bassa\n",
        "Grand kru\n",
        "Grand gedeh\n",
        "Maryland\n",
        "Sinoe\n"
       ]
      }
     ],
     "prompt_number": 210
    },
    {
     "cell_type": "code",
     "collapsed": false,
     "input": [],
     "language": "python",
     "metadata": {},
     "outputs": []
    },
    {
     "cell_type": "code",
     "collapsed": false,
     "input": [
      "for name in  [k[0] for k in [c[i] for i in getallocate(w,10,p[:,10])]]:print name"
     ],
     "language": "python",
     "metadata": {},
     "outputs": [
      {
       "output_type": "stream",
       "stream": "stdout",
       "text": [
        "GN\n",
        "GN\n",
        "SL\n",
        "GN\n",
        "GN\n",
        "SL\n",
        "SL\n",
        "SL\n",
        "SL\n",
        "GN\n",
        "GN\n",
        "SL\n",
        "SL\n",
        "SL\n",
        "GN\n",
        "GN\n",
        "GN\n",
        "GN\n",
        "GN\n",
        "SL\n",
        "GN\n",
        "GN\n",
        "GN\n",
        "GN\n",
        "GN\n",
        "SL\n",
        "GN\n",
        "SL\n",
        "SL\n",
        "GN\n",
        "GN\n",
        "GN\n",
        "SL\n",
        "GN\n",
        "GN\n",
        "GN\n",
        "SL\n",
        "LR\n",
        "LR\n",
        "LR\n",
        "LR\n",
        "LR\n",
        "GN\n",
        "LR\n",
        "GN\n",
        "LR\n",
        "LR\n",
        "GN\n",
        "LR\n",
        "LR\n",
        "LR\n",
        "LR\n",
        "LR\n",
        "LR\n",
        "LR\n"
       ]
      }
     ],
     "prompt_number": 67
    },
    {
     "cell_type": "code",
     "collapsed": false,
     "input": [
      "e = estimate(lambda1,lambda2,beta,p,sigma,n,steps,deltat,reg,window = 1000,k=28)\n",
      "w = np.array(e)/population"
     ],
     "language": "python",
     "metadata": {},
     "outputs": [],
     "prompt_number": 64
    },
    {
     "cell_type": "code",
     "collapsed": false,
     "input": [
      "w"
     ],
     "language": "python",
     "metadata": {},
     "outputs": [
      {
       "metadata": {},
       "output_type": "pyout",
       "prompt_number": 65,
       "text": [
        "array([  1.76499724e-06,   1.26859607e-05,   1.66102695e-05,\n",
        "         2.47730960e-05,   9.53250798e-07,   5.36147018e-05,\n",
        "         2.15504600e-06,   4.33610520e-06,   1.16809280e-06,\n",
        "         1.34344933e-05,   2.79816276e-05,   1.86028060e-06,\n",
        "         5.02362103e-05,   1.74957949e-07,   8.25349475e-07,\n",
        "         7.55307978e-07,   6.66477067e-07,   2.48749702e-07,\n",
        "         4.42356311e-07,   9.44801782e-08,   7.64815962e-07,\n",
        "         1.89182918e-07,   1.00800417e-06,   1.21120852e-06,\n",
        "         2.62133546e-06,   1.00519299e-04,   3.48746283e-06,\n",
        "         7.04943513e-05,   5.28428257e-07,   1.46143957e-06,\n",
        "         9.79138938e-06,   2.46148033e-05,   3.39183659e-06,\n",
        "         1.06402436e-06,   1.94465158e-06,   1.77034731e-04,\n",
        "         3.50284135e-07,   1.16501190e-05,   1.58950083e-06,\n",
        "         5.54486778e-06,   5.50265748e-07,   4.19527306e-06,\n",
        "         3.58977822e-06,   1.04316156e-06,   1.09420981e-05,\n",
        "         4.10593450e-04,   5.14883793e-07,   1.24965142e-07,\n",
        "         2.82626933e-07,   5.45686544e-07,   1.32969931e-07,\n",
        "         1.02975561e-04,   8.82298186e-07,   7.47115756e-06,\n",
        "         2.31770526e-05])"
       ]
      }
     ],
     "prompt_number": 65
    },
    {
     "cell_type": "code",
     "collapsed": false,
     "input": [
      "width = 0.2 \n",
      "startstep = 17\n",
      "p0 = backupp\n",
      "p1 = backupp\n",
      "p2 = backupp\n",
      "m = 5\n",
      "plt.figure(figsize = (8,6))\n",
      "for m in range(50,62,2):\n",
      "    p0 = backupp\n",
      "    l = []\n",
      "    for step in range(startstep,28):\n",
      "        #plt.figure(figsize = (16,5))\n",
      "        #step = 2\n",
      "    \n",
      "        al2 = allocate(w1,m,p0[:,step-1])\n",
      "      \n",
      "        c2 = np.zeros_like(p0)\n",
      "        c2[:,step-1] = al2\n",
      "        \n",
      "        e = estimatemedication(lambda1,lambda2,beta,p0,c2,sigma,n,steps,deltat,reg,window = 1000,k=step)\n",
      "        \n",
      "        l.append([step,np.sum(e)])\n",
      "        print m, np.sum(e)\n",
      "        \n",
      "        p0[:,step] = e\n",
      "    print l\n",
      "    l2 = np.array(l)\n",
      "    plt.plot(l2[:,0],l2[:,1],label = 'm = '+str(m))\n",
      "\n",
      "plt.xlabel('time (week)')\n",
      "plt.ylabel('expected number of new cases')\n",
      "plt.legend(loc = 2)\n",
      "plt.savefig('good2.pdf')"
     ],
     "language": "python",
     "metadata": {},
     "outputs": [
      {
       "output_type": "stream",
       "stream": "stdout",
       "text": [
        "50 961.814809118\n",
        "50"
       ]
      },
      {
       "output_type": "stream",
       "stream": "stdout",
       "text": [
        " 971.38989417\n",
        "50"
       ]
      },
      {
       "output_type": "stream",
       "stream": "stdout",
       "text": [
        " 980.513262187\n",
        "50"
       ]
      },
      {
       "output_type": "stream",
       "stream": "stdout",
       "text": [
        " 993.640106989\n",
        "50"
       ]
      },
      {
       "output_type": "stream",
       "stream": "stdout",
       "text": [
        " 1004.12415192\n",
        "50"
       ]
      },
      {
       "output_type": "stream",
       "stream": "stdout",
       "text": [
        " 1015.70559447\n",
        "50"
       ]
      },
      {
       "output_type": "stream",
       "stream": "stdout",
       "text": [
        " 1021.29627663\n",
        "50"
       ]
      },
      {
       "output_type": "stream",
       "stream": "stdout",
       "text": [
        " 1031.02743391\n",
        "50"
       ]
      },
      {
       "output_type": "stream",
       "stream": "stdout",
       "text": [
        " 1038.78383105\n",
        "50"
       ]
      },
      {
       "output_type": "stream",
       "stream": "stdout",
       "text": [
        " 1041.96000601\n",
        "50"
       ]
      },
      {
       "output_type": "stream",
       "stream": "stdout",
       "text": [
        " 1046.40987766\n",
        "[[17, 961.81480911781023], [18, 971.38989417044456], [19, 980.51326218680185], [20, 993.64010698874631], [21, 1004.1241519160405], [22, 1015.7055944731562], [23, 1021.2962766274965], [24, 1031.0274339124953], [25, 1038.7838310453601], [26, 1041.9600060108837], [27, 1046.4098776591552]]\n",
        "52"
       ]
      },
      {
       "output_type": "stream",
       "stream": "stdout",
       "text": [
        " 959.807497904\n",
        "52"
       ]
      },
      {
       "output_type": "stream",
       "stream": "stdout",
       "text": [
        " 966.930902201\n",
        "52"
       ]
      },
      {
       "output_type": "stream",
       "stream": "stdout",
       "text": [
        " 974.548062334\n",
        "52"
       ]
      },
      {
       "output_type": "stream",
       "stream": "stdout",
       "text": [
        " 983.799628192\n",
        "52"
       ]
      },
      {
       "output_type": "stream",
       "stream": "stdout",
       "text": [
        " 993.219160073\n",
        "52"
       ]
      },
      {
       "output_type": "stream",
       "stream": "stdout",
       "text": [
        " 1001.42253902\n",
        "52"
       ]
      },
      {
       "output_type": "stream",
       "stream": "stdout",
       "text": [
        " 1006.84262711\n",
        "52"
       ]
      },
      {
       "output_type": "stream",
       "stream": "stdout",
       "text": [
        " 1012.47357263\n",
        "52"
       ]
      },
      {
       "output_type": "stream",
       "stream": "stdout",
       "text": [
        " 1015.92276759\n",
        "52"
       ]
      },
      {
       "output_type": "stream",
       "stream": "stdout",
       "text": [
        " 1017.74353712\n",
        "52"
       ]
      },
      {
       "output_type": "stream",
       "stream": "stdout",
       "text": [
        " 1017.83616841\n",
        "[[17, 959.80749790447874], [18, 966.93090220124009], [19, 974.54806233384977], [20, 983.79962819216541], [21, 993.2191600728321], [22, 1001.4225390227189], [23, 1006.8426271096047], [24, 1012.4735726261561], [25, 1015.9227675945152], [26, 1017.7435371217858], [27, 1017.8361684093426]]\n",
        "54"
       ]
      },
      {
       "output_type": "stream",
       "stream": "stdout",
       "text": [
        " 957.800186691\n",
        "54"
       ]
      },
      {
       "output_type": "stream",
       "stream": "stdout",
       "text": [
        " 964.182798867\n",
        "54"
       ]
      },
      {
       "output_type": "stream",
       "stream": "stdout",
       "text": [
        " 969.821223726\n",
        "54"
       ]
      },
      {
       "output_type": "stream",
       "stream": "stdout",
       "text": [
        " 976.789845638\n",
        "54"
       ]
      },
      {
       "output_type": "stream",
       "stream": "stdout",
       "text": [
        " 984.820846519\n",
        "54"
       ]
      },
      {
       "output_type": "stream",
       "stream": "stdout",
       "text": [
        " 991.846513438\n",
        "54"
       ]
      },
      {
       "output_type": "stream",
       "stream": "stdout",
       "text": [
        " 995.28931257\n",
        "54"
       ]
      },
      {
       "output_type": "stream",
       "stream": "stdout",
       "text": [
        " 997.917201355\n",
        "54"
       ]
      },
      {
       "output_type": "stream",
       "stream": "stdout",
       "text": [
        " 997.047335667\n",
        "54"
       ]
      },
      {
       "output_type": "stream",
       "stream": "stdout",
       "text": [
        " 994.618450651\n",
        "54"
       ]
      },
      {
       "output_type": "stream",
       "stream": "stdout",
       "text": [
        " 992.041794683\n",
        "[[17, 957.80018669114759], [18, 964.18279886683638], [19, 969.82122372637468], [20, 976.78984563816937], [21, 984.8208465192663], [22, 991.84651343754797], [23, 995.28931256964938], [24, 997.9172013552427], [25, 997.04733566704203], [26, 994.61845065135935], [27, 992.04179468319035]]\n",
        "56"
       ]
      },
      {
       "output_type": "stream",
       "stream": "stdout",
       "text": [
        " 955.792875478\n",
        "56"
       ]
      },
      {
       "output_type": "stream",
       "stream": "stdout",
       "text": [
        " 960.518661088\n",
        "56"
       ]
      },
      {
       "output_type": "stream",
       "stream": "stdout",
       "text": [
        " 963.951018657\n",
        "56"
       ]
      },
      {
       "output_type": "stream",
       "stream": "stdout",
       "text": [
        " 970.358030704\n",
        "56"
       ]
      },
      {
       "output_type": "stream",
       "stream": "stdout",
       "text": [
        " 974.947188696\n",
        "56"
       ]
      },
      {
       "output_type": "stream",
       "stream": "stdout",
       "text": [
        " 975.952356764\n",
        "56"
       ]
      },
      {
       "output_type": "stream",
       "stream": "stdout",
       "text": [
        " 976.172540293\n",
        "56"
       ]
      },
      {
       "output_type": "stream",
       "stream": "stdout",
       "text": [
        " 973.793624489\n",
        "56"
       ]
      },
      {
       "output_type": "stream",
       "stream": "stdout",
       "text": [
        " 970.897838154\n",
        "56"
       ]
      },
      {
       "output_type": "stream",
       "stream": "stdout",
       "text": [
        " 967.270648606\n",
        "56"
       ]
      },
      {
       "output_type": "stream",
       "stream": "stdout",
       "text": [
        " 961.032299351\n",
        "[[17, 955.7928754778161], [18, 960.51866108763204], [19, 963.95101865704783], [20, 970.35803070366035], [21, 974.94718869560381], [22, 975.95235676418429], [23, 976.17254029252433], [24, 973.79362448877009], [25, 970.89783815384931], [26, 967.27064860645942], [27, 961.03229935113643]]\n",
        "58"
       ]
      },
      {
       "output_type": "stream",
       "stream": "stdout",
       "text": [
        " 953.785564264\n",
        "58"
       ]
      },
      {
       "output_type": "stream",
       "stream": "stdout",
       "text": [
        " 957.770557753\n",
        "58"
       ]
      },
      {
       "output_type": "stream",
       "stream": "stdout",
       "text": [
        " 960.120048086\n",
        "58"
       ]
      },
      {
       "output_type": "stream",
       "stream": "stdout",
       "text": [
        " 963.574139463\n",
        "58"
       ]
      },
      {
       "output_type": "stream",
       "stream": "stdout",
       "text": [
        " 965.894614903\n",
        "58"
       ]
      },
      {
       "output_type": "stream",
       "stream": "stdout",
       "text": [
        " 967.08958097\n",
        "58"
       ]
      },
      {
       "output_type": "stream",
       "stream": "stdout",
       "text": [
        " 964.901536224\n",
        "58"
       ]
      },
      {
       "output_type": "stream",
       "stream": "stdout",
       "text": [
        " 962.748420139\n",
        "58"
       ]
      },
      {
       "output_type": "stream",
       "stream": "stdout",
       "text": [
        " 955.717472516\n",
        "58"
       ]
      },
      {
       "output_type": "stream",
       "stream": "stdout",
       "text": [
        " 947.815937768\n",
        "58"
       ]
      },
      {
       "output_type": "stream",
       "stream": "stdout",
       "text": [
        " 938.734742327\n",
        "[[17, 953.78556426448483], [18, 957.77055775322833], [19, 960.12004808597874], [20, 963.57413946261784], [21, 965.89461490296401], [22, 967.0895809695262], [23, 964.90153622441721], [24, 962.7484201387191], [25, 955.71747251588761], [26, 947.815937767788], [27, 938.73474232687704]]\n",
        "60"
       ]
      },
      {
       "output_type": "stream",
       "stream": "stdout",
       "text": [
        " 951.778253051\n",
        "60"
       ]
      },
      {
       "output_type": "stream",
       "stream": "stdout",
       "text": [
        " 954.187085608\n",
        "60"
       ]
      },
      {
       "output_type": "stream",
       "stream": "stdout",
       "text": [
        " 954.249843017\n",
        "60"
       ]
      },
      {
       "output_type": "stream",
       "stream": "stdout",
       "text": [
        " 955.476005866\n",
        "60"
       ]
      },
      {
       "output_type": "stream",
       "stream": "stdout",
       "text": [
        " 954.709854008\n",
        "60"
       ]
      },
      {
       "output_type": "stream",
       "stream": "stdout",
       "text": [
        " 952.532326132\n",
        "60"
       ]
      },
      {
       "output_type": "stream",
       "stream": "stdout",
       "text": [
        " 947.050378306\n",
        "60"
       ]
      },
      {
       "output_type": "stream",
       "stream": "stdout",
       "text": [
        " 939.103152157\n",
        "60"
       ]
      },
      {
       "output_type": "stream",
       "stream": "stdout",
       "text": [
        " 930.793690814\n",
        "60"
       ]
      },
      {
       "output_type": "stream",
       "stream": "stdout",
       "text": [
        " 919.141066862\n",
        "60"
       ]
      },
      {
       "output_type": "stream",
       "stream": "stdout",
       "text": [
        " 905.835201852\n",
        "[[17, 951.77825305115277], [18, 954.18708560760626], [19, 954.24984301665154], [20, 955.47600586649503], [21, 954.70985400785423], [22, 952.53232613222747], [23, 947.05037830570484], [24, 939.10315215657101], [25, 930.79369081414666], [26, 919.1410668624726], [27, 905.83520185232851]]\n"
       ]
      },
      {
       "metadata": {},
       "output_type": "display_data",
       "png": "[encoded data removed]",
       "text": [
        "<matplotlib.figure.Figure at 0x10c2f9f10>"
       ]
      }
     ],
     "prompt_number": 165
    },
    {
     "cell_type": "code",
     "collapsed": false,
     "input": [
      "width = 0.2 \n",
      "startstep = 17\n",
      "#p0 = backupp\n",
      "p0 = np.copy(backupp)\n",
      "p1 = backupp\n",
      "p2 = backupp\n",
      "m = 100\n",
      "plt.figure(figsize = (8,6))\n",
      "for startstep in range(10,20):\n",
      "    p0 = np.copy(backupp)\n",
      "    l = []\n",
      "    for step in range(startstep,28):\n",
      "        #plt.figure(figsize = (16,5))\n",
      "        #step = 2\n",
      "    \n",
      "        al2 = allocate(w1,m,p0[:,step-1])\n",
      "      \n",
      "        c2 = np.zeros_like(p0)\n",
      "        c2[:,step-1] = al2\n",
      "        \n",
      "        e = estimatemedication(lambda1,lambda2,beta,p0,c2,sigma,n,steps,deltat,reg,window = 1000,k=step)\n",
      "        \n",
      "        l.append([step,np.sum(e)])\n",
      "        print m, np.sum(e)\n",
      "        \n",
      "        p0[:,step] = e\n",
      "    print l\n",
      "    l2 = np.array(l)\n",
      "    plt.plot(l2[:,0],l2[:,1],label = 'm = '+str(m)+ ' start = '+str(startstep))\n",
      "\n",
      "plt.xlabel('time (week)')\n",
      "plt.ylabel('expected number of new cases')\n",
      "plt.legend(loc = 2)\n",
      "plt.savefig('good4.pdf')"
     ],
     "language": "python",
     "metadata": {},
     "outputs": [
      {
       "output_type": "stream",
       "stream": "stdout",
       "text": [
        "100 5.56320259438\n",
        "100"
       ]
      },
      {
       "output_type": "stream",
       "stream": "stdout",
       "text": [
        " 7.68345233569\n",
        "100"
       ]
      },
      {
       "output_type": "stream",
       "stream": "stdout",
       "text": [
        " 2.44985228715\n",
        "100"
       ]
      },
      {
       "output_type": "stream",
       "stream": "stdout",
       "text": [
        " 1.34936835082\n",
        "100"
       ]
      },
      {
       "output_type": "stream",
       "stream": "stdout",
       "text": [
        " 0.517795561411\n",
        "100"
       ]
      },
      {
       "output_type": "stream",
       "stream": "stdout",
       "text": [
        " 0.127686813387\n",
        "100"
       ]
      },
      {
       "output_type": "stream",
       "stream": "stdout",
       "text": [
        " 0.0314871805165\n",
        "100"
       ]
      },
      {
       "output_type": "stream",
       "stream": "stdout",
       "text": [
        " 0.00776464311845\n",
        "100"
       ]
      },
      {
       "output_type": "stream",
       "stream": "stdout",
       "text": [
        " 0.0019147374191\n",
        "100"
       ]
      },
      {
       "output_type": "stream",
       "stream": "stdout",
       "text": [
        " 0.000472168434295\n",
        "100"
       ]
      },
      {
       "output_type": "stream",
       "stream": "stdout",
       "text": [
        " 0.000116435302366\n",
        "100"
       ]
      },
      {
       "output_type": "stream",
       "stream": "stdout",
       "text": [
        " 2.87125920591e-05\n",
        "100"
       ]
      },
      {
       "output_type": "stream",
       "stream": "stdout",
       "text": [
        " 7.08043802868e-06\n",
        "100"
       ]
      },
      {
       "output_type": "stream",
       "stream": "stdout",
       "text": [
        " 1.74601452125e-06\n",
        "100"
       ]
      },
      {
       "output_type": "stream",
       "stream": "stdout",
       "text": [
        " 4.30561879938e-07\n",
        "100"
       ]
      },
      {
       "output_type": "stream",
       "stream": "stdout",
       "text": [
        " 1.06175252382e-07\n",
        "100"
       ]
      },
      {
       "output_type": "stream",
       "stream": "stdout",
       "text": [
        " 2.61824948831e-08\n",
        "100"
       ]
      },
      {
       "output_type": "stream",
       "stream": "stdout",
       "text": [
        " 6.45652374658e-09\n",
        "[[10, 5.5632025943808454], [11, 7.683452335689144], [12, 2.4498522871506974], [13, 1.3493683508218079], [14, 0.51779556141145378], [15, 0.12768681338650412], [16, 0.031487180516490423], [17, 0.0077646431184478365], [18, 0.0019147374190993237], [19, 0.00047216843429528091], [20, 0.00011643530236627814], [21, 2.871259205914714e-05], [22, 7.0804380286795613e-06], [23, 1.7460145212490706e-06], [24, 4.3056187993797882e-07], [25, 1.061752523816961e-07], [26, 2.6182494883060075e-08], [27, 6.4565237465792623e-09]]\n",
        "100"
       ]
      },
      {
       "output_type": "stream",
       "stream": "stdout",
       "text": [
        " 16.673867928\n",
        "100"
       ]
      },
      {
       "output_type": "stream",
       "stream": "stdout",
       "text": [
        " 24.4069938706\n",
        "100"
       ]
      },
      {
       "output_type": "stream",
       "stream": "stdout",
       "text": [
        " 8.24260401826\n",
        "100"
       ]
      },
      {
       "output_type": "stream",
       "stream": "stdout",
       "text": [
        " 5.66486011726\n",
        "100"
       ]
      },
      {
       "output_type": "stream",
       "stream": "stdout",
       "text": [
        " 2.17503429182\n",
        "100"
       ]
      },
      {
       "output_type": "stream",
       "stream": "stdout",
       "text": [
        " 0.925405345705\n",
        "100"
       ]
      },
      {
       "output_type": "stream",
       "stream": "stdout",
       "text": [
        " 0.228202148666\n",
        "100"
       ]
      },
      {
       "output_type": "stream",
       "stream": "stdout",
       "text": [
        " 0.0562739570261\n",
        "100"
       ]
      },
      {
       "output_type": "stream",
       "stream": "stdout",
       "text": [
        " 0.0138769869516\n",
        "100"
       ]
      },
      {
       "output_type": "stream",
       "stream": "stdout",
       "text": [
        " 0.00342202285092\n",
        "100"
       ]
      },
      {
       "output_type": "stream",
       "stream": "stdout",
       "text": [
        " 0.000843860445576\n",
        "100"
       ]
      },
      {
       "output_type": "stream",
       "stream": "stdout",
       "text": [
        " 0.00020809342387\n",
        "100"
       ]
      },
      {
       "output_type": "stream",
       "stream": "stdout",
       "text": [
        " 5.13152065424e-05\n",
        "100"
       ]
      },
      {
       "output_type": "stream",
       "stream": "stdout",
       "text": [
        " 1.26541741374e-05\n",
        "100"
       ]
      },
      {
       "output_type": "stream",
       "stream": "stdout",
       "text": [
        " 3.12048092347e-06\n",
        "100"
       ]
      },
      {
       "output_type": "stream",
       "stream": "stdout",
       "text": [
        " 7.69501121766e-07\n",
        "100"
       ]
      },
      {
       "output_type": "stream",
       "stream": "stdout",
       "text": [
        " 1.89756640377e-07\n",
        "[[11, 16.67386792801009], [12, 24.406993870596892], [13, 8.242604018259458], [14, 5.6648601172634931], [15, 2.1750342918188514], [16, 0.92540534570530086], [17, 0.22820214866625987], [18, 0.056273957026050814], [19, 0.013876986951604567], [20, 0.0034220228509229725], [21, 0.00084386044557640638], [22, 0.00020809342386955297], [23, 5.1315206542445628e-05], [24, 1.2654174137403534e-05], [25, 3.1204809234721077e-06], [26, 7.6950112176592207e-07], [27, 1.8975664037713709e-07]]\n",
        "100"
       ]
      },
      {
       "output_type": "stream",
       "stream": "stdout",
       "text": [
        " 108.631029519\n",
        "100"
       ]
      },
      {
       "output_type": "stream",
       "stream": "stdout",
       "text": [
        " 47.5857797954\n",
        "100"
       ]
      },
      {
       "output_type": "stream",
       "stream": "stdout",
       "text": [
        " 30.624552989\n",
        "100"
       ]
      },
      {
       "output_type": "stream",
       "stream": "stdout",
       "text": [
        " 15.297610562\n",
        "100"
       ]
      },
      {
       "output_type": "stream",
       "stream": "stdout",
       "text": [
        " 8.42989581458\n",
        "100"
       ]
      },
      {
       "output_type": "stream",
       "stream": "stdout",
       "text": [
        " 4.44184521989\n",
        "100"
       ]
      },
      {
       "output_type": "stream",
       "stream": "stdout",
       "text": [
        " 2.26079885739\n",
        "100"
       ]
      },
      {
       "output_type": "stream",
       "stream": "stdout",
       "text": [
        " 0.946554627189\n",
        "100"
       ]
      },
      {
       "output_type": "stream",
       "stream": "stdout",
       "text": [
        " 0.437420567284\n",
        "100"
       ]
      },
      {
       "output_type": "stream",
       "stream": "stdout",
       "text": [
        " 0.107866583858\n",
        "100"
       ]
      },
      {
       "output_type": "stream",
       "stream": "stdout",
       "text": [
        " 0.0265995720901\n",
        "100"
       ]
      },
      {
       "output_type": "stream",
       "stream": "stdout",
       "text": [
        " 0.00655937371956\n",
        "100"
       ]
      },
      {
       "output_type": "stream",
       "stream": "stdout",
       "text": [
        " 0.0016175216446\n",
        "100"
       ]
      },
      {
       "output_type": "stream",
       "stream": "stdout",
       "text": [
        " 0.000398875926669\n",
        "100"
       ]
      },
      {
       "output_type": "stream",
       "stream": "stdout",
       "text": [
        " 9.83615925059e-05\n",
        "100"
       ]
      },
      {
       "output_type": "stream",
       "stream": "stdout",
       "text": [
        " 2.42556700804e-05\n",
        "[[12, 108.63102951886425], [13, 47.585779795449504], [14, 30.624552989005178], [15, 15.297610561988547], [16, 8.4298958145832383], [17, 4.4418452198927536], [18, 2.2607988573903546], [19, 0.94655462718900452], [20, 0.43742056728367446], [21, 0.10786658385776919], [22, 0.026599572090078606], [23, 0.0065593737195592727], [24, 0.0016175216446016783], [25, 0.00039887592666860836], [26, 9.8361592505873699e-05], [27, 2.4255670080409932e-05]]\n",
        "100"
       ]
      },
      {
       "output_type": "stream",
       "stream": "stdout",
       "text": [
        " 129.104978552\n",
        "100"
       ]
      },
      {
       "output_type": "stream",
       "stream": "stdout",
       "text": [
        " 66.6043190823\n",
        "100"
       ]
      },
      {
       "output_type": "stream",
       "stream": "stdout",
       "text": [
        " 36.3677947905\n",
        "100"
       ]
      },
      {
       "output_type": "stream",
       "stream": "stdout",
       "text": [
        " 20.3082049209\n",
        "100"
       ]
      },
      {
       "output_type": "stream",
       "stream": "stdout",
       "text": [
        " 10.7986910988\n",
        "100"
       ]
      },
      {
       "output_type": "stream",
       "stream": "stdout",
       "text": [
        " 5.84604171414\n",
        "100"
       ]
      },
      {
       "output_type": "stream",
       "stream": "stdout",
       "text": [
        " 3.02657765771\n",
        "100"
       ]
      },
      {
       "output_type": "stream",
       "stream": "stdout",
       "text": [
        " 1.33770425766\n",
        "100"
       ]
      },
      {
       "output_type": "stream",
       "stream": "stdout",
       "text": [
        " 0.533876878604\n",
        "100"
       ]
      },
      {
       "output_type": "stream",
       "stream": "stdout",
       "text": [
        " 0.131652417382\n",
        "100"
       ]
      },
      {
       "output_type": "stream",
       "stream": "stdout",
       "text": [
        " 0.0324650864221\n",
        "100"
       ]
      },
      {
       "output_type": "stream",
       "stream": "stdout",
       "text": [
        " 0.00800579174578\n",
        "100"
       ]
      },
      {
       "output_type": "stream",
       "stream": "stdout",
       "text": [
        " 0.00197420393846\n",
        "100"
       ]
      },
      {
       "output_type": "stream",
       "stream": "stdout",
       "text": [
        " 0.000486832697425\n",
        "100"
       ]
      },
      {
       "output_type": "stream",
       "stream": "stdout",
       "text": [
        " 0.000120051465133\n",
        "[[13, 129.10497855178684], [14, 66.604319082318767], [15, 36.36779479049806], [16, 20.308204920936728], [17, 10.798691098792649], [18, 5.8460417141407639], [19, 3.0265776577077896], [20, 1.3377042576567091], [21, 0.53387687860389188], [22, 0.13165241738234126], [23, 0.032465086422058531], [24, 0.0080057917457815077], [25, 0.0019742039384584918], [26, 0.00048683269742542647], [27, 0.00012005146513261293]]\n",
        "100"
       ]
      },
      {
       "output_type": "stream",
       "stream": "stdout",
       "text": [
        " 175.875368856\n",
        "100"
       ]
      },
      {
       "output_type": "stream",
       "stream": "stdout",
       "text": [
        " 111.608132862\n",
        "100"
       ]
      },
      {
       "output_type": "stream",
       "stream": "stdout",
       "text": [
        " 50.3953128053\n",
        "100"
       ]
      },
      {
       "output_type": "stream",
       "stream": "stdout",
       "text": [
        " 32.4092984931\n",
        "100"
       ]
      },
      {
       "output_type": "stream",
       "stream": "stdout",
       "text": [
        " 16.4963055498\n",
        "100"
       ]
      },
      {
       "output_type": "stream",
       "stream": "stdout",
       "text": [
        " 8.72027077183\n",
        "100"
       ]
      },
      {
       "output_type": "stream",
       "stream": "stdout",
       "text": [
        " 4.58521014576\n",
        "100"
       ]
      },
      {
       "output_type": "stream",
       "stream": "stdout",
       "text": [
        " 2.16390848583\n",
        "100"
       ]
      },
      {
       "output_type": "stream",
       "stream": "stdout",
       "text": [
        " 0.941619402882\n",
        "100"
       ]
      },
      {
       "output_type": "stream",
       "stream": "stdout",
       "text": [
        " 0.436203555953\n",
        "100"
       ]
      },
      {
       "output_type": "stream",
       "stream": "stdout",
       "text": [
        " 0.107566472559\n",
        "100"
       ]
      },
      {
       "output_type": "stream",
       "stream": "stdout",
       "text": [
        " 0.0265255655549\n",
        "100"
       ]
      },
      {
       "output_type": "stream",
       "stream": "stdout",
       "text": [
        " 0.00654112393266\n",
        "100"
       ]
      },
      {
       "output_type": "stream",
       "stream": "stdout",
       "text": [
        " 0.00161302130256\n",
        "[[14, 175.87536885572163], [15, 111.60813286158067], [16, 50.395312805349498], [17, 32.409298493076022], [18, 16.496305549834712], [19, 8.7202707718308687], [20, 4.58521014575821], [21, 2.163908485834019], [22, 0.94161940288212109], [23, 0.43620355595322574], [24, 0.10756647255859815], [25, 0.026525565554858448], [26, 0.0065411239326621422], [27, 0.0016130213025602645]]\n",
        "100"
       ]
      },
      {
       "output_type": "stream",
       "stream": "stdout",
       "text": [
        " 344.472961572\n",
        "100"
       ]
      },
      {
       "output_type": "stream",
       "stream": "stdout",
       "text": [
        " 285.79985186\n",
        "100"
       ]
      },
      {
       "output_type": "stream",
       "stream": "stdout",
       "text": [
        " 223.085206253\n",
        "100"
       ]
      },
      {
       "output_type": "stream",
       "stream": "stdout",
       "text": [
        " 159.17242124\n",
        "100"
       ]
      },
      {
       "output_type": "stream",
       "stream": "stdout",
       "text": [
        " 95.5645201871\n",
        "100"
       ]
      },
      {
       "output_type": "stream",
       "stream": "stdout",
       "text": [
        " 43.27375752\n",
        "100"
       ]
      },
      {
       "output_type": "stream",
       "stream": "stdout",
       "text": [
        " 26.3759075992\n",
        "100"
       ]
      },
      {
       "output_type": "stream",
       "stream": "stdout",
       "text": [
        " 12.5062755649\n",
        "100"
       ]
      },
      {
       "output_type": "stream",
       "stream": "stdout",
       "text": [
        " 6.74030866773\n",
        "100"
       ]
      },
      {
       "output_type": "stream",
       "stream": "stdout",
       "text": [
        " 2.8099448007\n",
        "100"
       ]
      },
      {
       "output_type": "stream",
       "stream": "stdout",
       "text": [
        " 1.26363343892\n",
        "100"
       ]
      },
      {
       "output_type": "stream",
       "stream": "stdout",
       "text": [
        " 0.494961425677\n",
        "100"
       ]
      },
      {
       "output_type": "stream",
       "stream": "stdout",
       "text": [
        " 0.12205598484\n",
        "[[15, 344.47296157231449], [16, 285.79985186006229], [17, 223.08520625300903], [18, 159.17242124001152], [19, 95.564520187068013], [20, 43.273757519979803], [21, 26.375907599162925], [22, 12.50627556490058], [23, 6.7403086677335962], [24, 2.8099448006980299], [25, 1.2636334389186188], [26, 0.49496142567692009], [27, 0.12205598484013752]]\n",
        "100"
       ]
      },
      {
       "output_type": "stream",
       "stream": "stdout",
       "text": [
        " 553.370784991\n",
        "100"
       ]
      },
      {
       "output_type": "stream",
       "stream": "stdout",
       "text": [
        " 502.855197681\n",
        "100"
       ]
      },
      {
       "output_type": "stream",
       "stream": "stdout",
       "text": [
        " 450.296027245\n",
        "100"
       ]
      },
      {
       "output_type": "stream",
       "stream": "stdout",
       "text": [
        " 393.691643993\n",
        "100"
       ]
      },
      {
       "output_type": "stream",
       "stream": "stdout",
       "text": [
        " 334.018563162\n",
        "100"
       ]
      },
      {
       "output_type": "stream",
       "stream": "stdout",
       "text": [
        " 271.447801636\n",
        "100"
       ]
      },
      {
       "output_type": "stream",
       "stream": "stdout",
       "text": [
        " 207.023103248\n",
        "100"
       ]
      },
      {
       "output_type": "stream",
       "stream": "stdout",
       "text": [
        " 141.762689763\n",
        "100"
       ]
      },
      {
       "output_type": "stream",
       "stream": "stdout",
       "text": [
        " 75.8906504936\n",
        "100"
       ]
      },
      {
       "output_type": "stream",
       "stream": "stdout",
       "text": [
        " 37.5576395758\n",
        "100"
       ]
      },
      {
       "output_type": "stream",
       "stream": "stdout",
       "text": [
        " 21.0593205425\n",
        "100"
       ]
      },
      {
       "output_type": "stream",
       "stream": "stdout",
       "text": [
        " 10.4208962502\n",
        "[[16, 553.37078499060897], [17, 502.85519768112891], [18, 450.2960272445149], [19, 393.69164399263451], [20, 334.01856316244164], [21, 271.44780163649995], [22, 207.02310324848247], [23, 141.76268976319486], [24, 75.890650493561211], [25, 37.557639575806299], [26, 21.059320542467482], [27, 10.420896250164514]]\n",
        "100"
       ]
      },
      {
       "output_type": "stream",
       "stream": "stdout",
       "text": [
        " 914.69876945\n",
        "100"
       ]
      },
      {
       "output_type": "stream",
       "stream": "stdout",
       "text": [
        " 885.721693885\n",
        "100"
       ]
      },
      {
       "output_type": "stream",
       "stream": "stdout",
       "text": [
        " 850.58524305\n",
        "100"
       ]
      },
      {
       "output_type": "stream",
       "stream": "stdout",
       "text": [
        " 813.944432071\n",
        "100"
       ]
      },
      {
       "output_type": "stream",
       "stream": "stdout",
       "text": [
        " 771.778238016\n",
        "100"
       ]
      },
      {
       "output_type": "stream",
       "stream": "stdout",
       "text": [
        " 724.952835728\n",
        "100"
       ]
      },
      {
       "output_type": "stream",
       "stream": "stdout",
       "text": [
        " 674.835160499\n",
        "100"
       ]
      },
      {
       "output_type": "stream",
       "stream": "stdout",
       "text": [
        " 620.791673489\n",
        "100"
       ]
      },
      {
       "output_type": "stream",
       "stream": "stdout",
       "text": [
        " 563.593540171\n",
        "100"
       ]
      },
      {
       "output_type": "stream",
       "stream": "stdout",
       "text": [
        " 504.209711559\n",
        "100"
       ]
      },
      {
       "output_type": "stream",
       "stream": "stdout",
       "text": [
        " 441.14347157\n",
        "[[17, 914.69876944978489], [18, 885.72169388513043], [19, 850.5852430501734], [20, 813.94443207140523], [21, 771.77823801605552], [22, 724.95283572791527], [23, 674.83516049859622], [24, 620.79167348932162], [25, 563.59354017122882], [26, 504.20971155853533], [27, 441.14347156978647]]\n",
        "100"
       ]
      },
      {
       "output_type": "stream",
       "stream": "stdout",
       "text": [
        " 1149.82643689\n",
        "100"
       ]
      },
      {
       "output_type": "stream",
       "stream": "stdout",
       "text": [
        " 1141.51715045\n",
        "100"
       ]
      },
      {
       "output_type": "stream",
       "stream": "stdout",
       "text": [
        " 1126.9153788\n",
        "100"
       ]
      },
      {
       "output_type": "stream",
       "stream": "stdout",
       "text": [
        " 1107.08229958\n",
        "100"
       ]
      },
      {
       "output_type": "stream",
       "stream": "stdout",
       "text": [
        " 1083.09830989\n",
        "100"
       ]
      },
      {
       "output_type": "stream",
       "stream": "stdout",
       "text": [
        " 1055.55477673\n",
        "100"
       ]
      },
      {
       "output_type": "stream",
       "stream": "stdout",
       "text": [
        " 1025.24793794\n",
        "100"
       ]
      },
      {
       "output_type": "stream",
       "stream": "stdout",
       "text": [
        " 993.20736815\n",
        "100"
       ]
      },
      {
       "output_type": "stream",
       "stream": "stdout",
       "text": [
        " 955.612706618\n",
        "100"
       ]
      },
      {
       "output_type": "stream",
       "stream": "stdout",
       "text": [
        " 917.57226535\n",
        "[[18, 1149.8264368888501], [19, 1141.5171504492591], [20, 1126.9153788007629], [21, 1107.082299576223], [22, 1083.0983098899787], [23, 1055.5547767317594], [24, 1025.2479379444451], [25, 993.2073681501646], [26, 955.61270661825063], [27, 917.5722653502786]]\n",
        "100"
       ]
      },
      {
       "output_type": "stream",
       "stream": "stdout",
       "text": [
        " 1474.37646126\n",
        "100"
       ]
      },
      {
       "output_type": "stream",
       "stream": "stdout",
       "text": [
        " 1502.04309589\n",
        "100"
       ]
      },
      {
       "output_type": "stream",
       "stream": "stdout",
       "text": [
        " 1527.01832966\n",
        "100"
       ]
      },
      {
       "output_type": "stream",
       "stream": "stdout",
       "text": [
        " 1550.89445289\n",
        "100"
       ]
      },
      {
       "output_type": "stream",
       "stream": "stdout",
       "text": [
        " 1571.47339782\n",
        "100"
       ]
      },
      {
       "output_type": "stream",
       "stream": "stdout",
       "text": [
        " 1592.49142898\n",
        "100"
       ]
      },
      {
       "output_type": "stream",
       "stream": "stdout",
       "text": [
        " 1610.7671738\n",
        "100"
       ]
      },
      {
       "output_type": "stream",
       "stream": "stdout",
       "text": [
        " 1629.02194195\n",
        "100"
       ]
      },
      {
       "output_type": "stream",
       "stream": "stdout",
       "text": [
        " 1644.8113317\n",
        "[[19, 1474.3764612616387], [20, 1502.0430958938366], [21, 1527.0183296616372], [22, 1550.8944528859122], [23, 1571.473397816404], [24, 1592.491428984031], [25, 1610.7671738042463], [26, 1629.0219419528196], [27, 1644.8113316985946]]\n"
       ]
      },
      {
       "metadata": {},
       "output_type": "display_data",
       "png": "[encoded data removed]",
       "text": [
        "<matplotlib.figure.Figure at 0x10c868e50>"
       ]
      }
     ],
     "prompt_number": 205
    },
    {
     "cell_type": "code",
     "collapsed": false,
     "input": [
      "backupp = p"
     ],
     "language": "python",
     "metadata": {},
     "outputs": [],
     "prompt_number": 171
    },
    {
     "cell_type": "code",
     "collapsed": false,
     "input": [
      "p0 = p"
     ],
     "language": "python",
     "metadata": {},
     "outputs": [],
     "prompt_number": 172
    },
    {
     "cell_type": "code",
     "collapsed": false,
     "input": [
      "p0"
     ],
     "language": "python",
     "metadata": {},
     "outputs": [
      {
       "metadata": {},
       "output_type": "pyout",
       "prompt_number": 175,
       "text": [
        "array([[  0,   0,   0, ...,  88,  95, 102],\n",
        "       [  0,   0,   0, ...,  36,  37,  38],\n",
        "       [  0,   0,   0, ...,  26,  29,  32],\n",
        "       ..., \n",
        "       [  0,   0,   0, ...,  18,  20,  22],\n",
        "       [  0,   0,   0, ...,  11,  12,  13],\n",
        "       [  0,   0,   0, ...,   0,   0,   0]])"
       ]
      }
     ],
     "prompt_number": 175
    },
    {
     "cell_type": "code",
     "collapsed": false,
     "input": [
      "backupp"
     ],
     "language": "python",
     "metadata": {},
     "outputs": [
      {
       "metadata": {},
       "output_type": "pyout",
       "prompt_number": 176,
       "text": [
        "array([[  0,   0,   0, ...,  88,  95, 102],\n",
        "       [  0,   0,   0, ...,  36,  37,  38],\n",
        "       [  0,   0,   0, ...,  26,  29,  32],\n",
        "       ..., \n",
        "       [  0,   0,   0, ...,  18,  20,  22],\n",
        "       [  0,   0,   0, ...,  11,  12,  13],\n",
        "       [  0,   0,   0, ...,   0,   0,   0]])"
       ]
      }
     ],
     "prompt_number": 176
    },
    {
     "cell_type": "code",
     "collapsed": false,
     "input": [
      "backupp"
     ],
     "language": "python",
     "metadata": {},
     "outputs": [
      {
       "metadata": {},
       "output_type": "pyout",
       "prompt_number": 187,
       "text": [
        "array([[0, 0, 0, ..., 0, 0, 0],\n",
        "       [0, 0, 0, ..., 0, 0, 0],\n",
        "       [0, 0, 0, ..., 0, 0, 0],\n",
        "       ..., \n",
        "       [0, 0, 0, ..., 0, 0, 0],\n",
        "       [0, 0, 0, ..., 0, 0, 0],\n",
        "       [0, 0, 0, ..., 0, 0, 0]])"
       ]
      }
     ],
     "prompt_number": 187
    },
    {
     "cell_type": "code",
     "collapsed": false,
     "input": [
      "backupp = np.copy(p)"
     ],
     "language": "python",
     "metadata": {},
     "outputs": [],
     "prompt_number": 199
    },
    {
     "cell_type": "code",
     "collapsed": false,
     "input": [
      "backupp"
     ],
     "language": "python",
     "metadata": {},
     "outputs": [
      {
       "metadata": {},
       "output_type": "pyout",
       "prompt_number": 202,
       "text": [
        "array([[ 0,  0,  0, ...,  0,  1,  0],\n",
        "       [ 0,  0,  0, ..., 23, 12,  0],\n",
        "       [ 0,  0,  0, ..., 21, 11,  2],\n",
        "       ..., \n",
        "       [ 0,  0,  0, ...,  0,  0,  0],\n",
        "       [ 0,  0,  0, ...,  4,  1,  2],\n",
        "       [ 0,  0,  0, ...,  2,  5,  1]])"
       ]
      }
     ],
     "prompt_number": 202
    },
    {
     "cell_type": "code",
     "collapsed": false,
     "input": [
      "p = 0"
     ],
     "language": "python",
     "metadata": {},
     "outputs": [],
     "prompt_number": 201
    },
    {
     "cell_type": "code",
     "collapsed": false,
     "input": [],
     "language": "python",
     "metadata": {},
     "outputs": []
    }
   ],
   "metadata": {}
  }
 ]
}